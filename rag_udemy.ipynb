{
  "nbformat": 4,
  "nbformat_minor": 0,
  "metadata": {
    "colab": {
      "provenance": []
    },
    "kernelspec": {
      "name": "python3",
      "display_name": "Python 3"
    },
    "language_info": {
      "name": "python"
    }
  },
  "cells": [
    {
      "cell_type": "code",
      "source": [
        "#don't show this\n",
        "import os\n",
        "os.environ['OPENAI_API_KEY'] = 'sk-xhV1614b76a07f9dbcc56a1bf9810b8cc67d1ae100cj7Znx'\n",
        "os.environ['OPENAI_BASE_URL'] = 'https://api.gptsapi.net/v1'\n",
        "openai.api_key = os.environ['OPENAI_API_KEY']\n",
        "openai.api_base = os.environ['OPENAI_BASE_URL']"
      ],
      "metadata": {
        "id": "2uOtP-c48l3M"
      },
      "execution_count": null,
      "outputs": []
    },
    {
      "cell_type": "code",
      "execution_count": null,
      "metadata": {
        "colab": {
          "base_uri": "https://localhost:8080/"
        },
        "collapsed": true,
        "id": "RG6ihVnu49C8",
        "outputId": "1d86ed1f-1025-45b4-a138-36a891a76597"
      },
      "outputs": [
        {
          "output_type": "stream",
          "name": "stdout",
          "text": [
            "Collecting langchain_community\n",
            "  Downloading langchain_community-0.3.9-py3-none-any.whl.metadata (2.9 kB)\n",
            "Requirement already satisfied: PyYAML>=5.3 in /usr/local/lib/python3.10/dist-packages (from langchain_community) (6.0.2)\n",
            "Requirement already satisfied: SQLAlchemy<3,>=1.4 in /usr/local/lib/python3.10/dist-packages (from langchain_community) (2.0.36)\n",
            "Requirement already satisfied: aiohttp<4.0.0,>=3.8.3 in /usr/local/lib/python3.10/dist-packages (from langchain_community) (3.11.2)\n",
            "Collecting dataclasses-json<0.7,>=0.5.7 (from langchain_community)\n",
            "  Downloading dataclasses_json-0.6.7-py3-none-any.whl.metadata (25 kB)\n",
            "Collecting httpx-sse<0.5.0,>=0.4.0 (from langchain_community)\n",
            "  Downloading httpx_sse-0.4.0-py3-none-any.whl.metadata (9.0 kB)\n",
            "Collecting langchain<0.4.0,>=0.3.8 (from langchain_community)\n",
            "  Downloading langchain-0.3.9-py3-none-any.whl.metadata (7.1 kB)\n",
            "Collecting langchain-core<0.4.0,>=0.3.21 (from langchain_community)\n",
            "  Downloading langchain_core-0.3.21-py3-none-any.whl.metadata (6.3 kB)\n",
            "Requirement already satisfied: langsmith<0.2.0,>=0.1.125 in /usr/local/lib/python3.10/dist-packages (from langchain_community) (0.1.143)\n",
            "Requirement already satisfied: numpy<2,>=1.22.4 in /usr/local/lib/python3.10/dist-packages (from langchain_community) (1.26.4)\n",
            "Collecting pydantic-settings<3.0.0,>=2.4.0 (from langchain_community)\n",
            "  Downloading pydantic_settings-2.6.1-py3-none-any.whl.metadata (3.5 kB)\n",
            "Requirement already satisfied: requests<3,>=2 in /usr/local/lib/python3.10/dist-packages (from langchain_community) (2.32.3)\n",
            "Requirement already satisfied: tenacity!=8.4.0,<10,>=8.1.0 in /usr/local/lib/python3.10/dist-packages (from langchain_community) (9.0.0)\n",
            "Requirement already satisfied: aiohappyeyeballs>=2.3.0 in /usr/local/lib/python3.10/dist-packages (from aiohttp<4.0.0,>=3.8.3->langchain_community) (2.4.3)\n",
            "Requirement already satisfied: aiosignal>=1.1.2 in /usr/local/lib/python3.10/dist-packages (from aiohttp<4.0.0,>=3.8.3->langchain_community) (1.3.1)\n",
            "Requirement already satisfied: attrs>=17.3.0 in /usr/local/lib/python3.10/dist-packages (from aiohttp<4.0.0,>=3.8.3->langchain_community) (24.2.0)\n",
            "Requirement already satisfied: frozenlist>=1.1.1 in /usr/local/lib/python3.10/dist-packages (from aiohttp<4.0.0,>=3.8.3->langchain_community) (1.5.0)\n",
            "Requirement already satisfied: multidict<7.0,>=4.5 in /usr/local/lib/python3.10/dist-packages (from aiohttp<4.0.0,>=3.8.3->langchain_community) (6.1.0)\n",
            "Requirement already satisfied: propcache>=0.2.0 in /usr/local/lib/python3.10/dist-packages (from aiohttp<4.0.0,>=3.8.3->langchain_community) (0.2.0)\n",
            "Requirement already satisfied: yarl<2.0,>=1.17.0 in /usr/local/lib/python3.10/dist-packages (from aiohttp<4.0.0,>=3.8.3->langchain_community) (1.17.2)\n",
            "Requirement already satisfied: async-timeout<6.0,>=4.0 in /usr/local/lib/python3.10/dist-packages (from aiohttp<4.0.0,>=3.8.3->langchain_community) (4.0.3)\n",
            "Collecting marshmallow<4.0.0,>=3.18.0 (from dataclasses-json<0.7,>=0.5.7->langchain_community)\n",
            "  Downloading marshmallow-3.23.1-py3-none-any.whl.metadata (7.5 kB)\n",
            "Collecting typing-inspect<1,>=0.4.0 (from dataclasses-json<0.7,>=0.5.7->langchain_community)\n",
            "  Downloading typing_inspect-0.9.0-py3-none-any.whl.metadata (1.5 kB)\n",
            "Requirement already satisfied: langchain-text-splitters<0.4.0,>=0.3.0 in /usr/local/lib/python3.10/dist-packages (from langchain<0.4.0,>=0.3.8->langchain_community) (0.3.2)\n",
            "Requirement already satisfied: pydantic<3.0.0,>=2.7.4 in /usr/local/lib/python3.10/dist-packages (from langchain<0.4.0,>=0.3.8->langchain_community) (2.9.2)\n",
            "Requirement already satisfied: jsonpatch<2.0,>=1.33 in /usr/local/lib/python3.10/dist-packages (from langchain-core<0.4.0,>=0.3.21->langchain_community) (1.33)\n",
            "Requirement already satisfied: packaging<25,>=23.2 in /usr/local/lib/python3.10/dist-packages (from langchain-core<0.4.0,>=0.3.21->langchain_community) (24.2)\n",
            "Requirement already satisfied: typing-extensions>=4.7 in /usr/local/lib/python3.10/dist-packages (from langchain-core<0.4.0,>=0.3.21->langchain_community) (4.12.2)\n",
            "Requirement already satisfied: httpx<1,>=0.23.0 in /usr/local/lib/python3.10/dist-packages (from langsmith<0.2.0,>=0.1.125->langchain_community) (0.27.2)\n",
            "Requirement already satisfied: orjson<4.0.0,>=3.9.14 in /usr/local/lib/python3.10/dist-packages (from langsmith<0.2.0,>=0.1.125->langchain_community) (3.10.11)\n",
            "Requirement already satisfied: requests-toolbelt<2.0.0,>=1.0.0 in /usr/local/lib/python3.10/dist-packages (from langsmith<0.2.0,>=0.1.125->langchain_community) (1.0.0)\n",
            "Collecting python-dotenv>=0.21.0 (from pydantic-settings<3.0.0,>=2.4.0->langchain_community)\n",
            "  Downloading python_dotenv-1.0.1-py3-none-any.whl.metadata (23 kB)\n",
            "Requirement already satisfied: charset-normalizer<4,>=2 in /usr/local/lib/python3.10/dist-packages (from requests<3,>=2->langchain_community) (3.4.0)\n",
            "Requirement already satisfied: idna<4,>=2.5 in /usr/local/lib/python3.10/dist-packages (from requests<3,>=2->langchain_community) (3.10)\n",
            "Requirement already satisfied: urllib3<3,>=1.21.1 in /usr/local/lib/python3.10/dist-packages (from requests<3,>=2->langchain_community) (2.2.3)\n",
            "Requirement already satisfied: certifi>=2017.4.17 in /usr/local/lib/python3.10/dist-packages (from requests<3,>=2->langchain_community) (2024.8.30)\n",
            "Requirement already satisfied: greenlet!=0.4.17 in /usr/local/lib/python3.10/dist-packages (from SQLAlchemy<3,>=1.4->langchain_community) (3.1.1)\n",
            "Requirement already satisfied: anyio in /usr/local/lib/python3.10/dist-packages (from httpx<1,>=0.23.0->langsmith<0.2.0,>=0.1.125->langchain_community) (3.7.1)\n",
            "Requirement already satisfied: httpcore==1.* in /usr/local/lib/python3.10/dist-packages (from httpx<1,>=0.23.0->langsmith<0.2.0,>=0.1.125->langchain_community) (1.0.7)\n",
            "Requirement already satisfied: sniffio in /usr/local/lib/python3.10/dist-packages (from httpx<1,>=0.23.0->langsmith<0.2.0,>=0.1.125->langchain_community) (1.3.1)\n",
            "Requirement already satisfied: h11<0.15,>=0.13 in /usr/local/lib/python3.10/dist-packages (from httpcore==1.*->httpx<1,>=0.23.0->langsmith<0.2.0,>=0.1.125->langchain_community) (0.14.0)\n",
            "Requirement already satisfied: jsonpointer>=1.9 in /usr/local/lib/python3.10/dist-packages (from jsonpatch<2.0,>=1.33->langchain-core<0.4.0,>=0.3.21->langchain_community) (3.0.0)\n",
            "Requirement already satisfied: annotated-types>=0.6.0 in /usr/local/lib/python3.10/dist-packages (from pydantic<3.0.0,>=2.7.4->langchain<0.4.0,>=0.3.8->langchain_community) (0.7.0)\n",
            "Requirement already satisfied: pydantic-core==2.23.4 in /usr/local/lib/python3.10/dist-packages (from pydantic<3.0.0,>=2.7.4->langchain<0.4.0,>=0.3.8->langchain_community) (2.23.4)\n",
            "Collecting mypy-extensions>=0.3.0 (from typing-inspect<1,>=0.4.0->dataclasses-json<0.7,>=0.5.7->langchain_community)\n",
            "  Downloading mypy_extensions-1.0.0-py3-none-any.whl.metadata (1.1 kB)\n",
            "Requirement already satisfied: exceptiongroup in /usr/local/lib/python3.10/dist-packages (from anyio->httpx<1,>=0.23.0->langsmith<0.2.0,>=0.1.125->langchain_community) (1.2.2)\n",
            "Downloading langchain_community-0.3.9-py3-none-any.whl (2.4 MB)\n",
            "\u001b[2K   \u001b[90m━━━━━━━━━━━━━━━━━━━━━━━━━━━━━━━━━━━━━━━━\u001b[0m \u001b[32m2.4/2.4 MB\u001b[0m \u001b[31m25.2 MB/s\u001b[0m eta \u001b[36m0:00:00\u001b[0m\n",
            "\u001b[?25hDownloading dataclasses_json-0.6.7-py3-none-any.whl (28 kB)\n",
            "Downloading httpx_sse-0.4.0-py3-none-any.whl (7.8 kB)\n",
            "Downloading langchain-0.3.9-py3-none-any.whl (1.0 MB)\n",
            "\u001b[2K   \u001b[90m━━━━━━━━━━━━━━━━━━━━━━━━━━━━━━━━━━━━━━━━\u001b[0m \u001b[32m1.0/1.0 MB\u001b[0m \u001b[31m36.9 MB/s\u001b[0m eta \u001b[36m0:00:00\u001b[0m\n",
            "\u001b[?25hDownloading langchain_core-0.3.21-py3-none-any.whl (409 kB)\n",
            "\u001b[2K   \u001b[90m━━━━━━━━━━━━━━━━━━━━━━━━━━━━━━━━━━━━━━━━\u001b[0m \u001b[32m409.5/409.5 kB\u001b[0m \u001b[31m19.5 MB/s\u001b[0m eta \u001b[36m0:00:00\u001b[0m\n",
            "\u001b[?25hDownloading pydantic_settings-2.6.1-py3-none-any.whl (28 kB)\n",
            "Downloading marshmallow-3.23.1-py3-none-any.whl (49 kB)\n",
            "\u001b[2K   \u001b[90m━━━━━━━━━━━━━━━━━━━━━━━━━━━━━━━━━━━━━━━━\u001b[0m \u001b[32m49.5/49.5 kB\u001b[0m \u001b[31m3.0 MB/s\u001b[0m eta \u001b[36m0:00:00\u001b[0m\n",
            "\u001b[?25hDownloading python_dotenv-1.0.1-py3-none-any.whl (19 kB)\n",
            "Downloading typing_inspect-0.9.0-py3-none-any.whl (8.8 kB)\n",
            "Downloading mypy_extensions-1.0.0-py3-none-any.whl (4.7 kB)\n",
            "Installing collected packages: python-dotenv, mypy-extensions, marshmallow, httpx-sse, typing-inspect, pydantic-settings, dataclasses-json, langchain-core, langchain, langchain_community\n",
            "  Attempting uninstall: langchain-core\n",
            "    Found existing installation: langchain-core 0.3.19\n",
            "    Uninstalling langchain-core-0.3.19:\n",
            "      Successfully uninstalled langchain-core-0.3.19\n",
            "  Attempting uninstall: langchain\n",
            "    Found existing installation: langchain 0.3.7\n",
            "    Uninstalling langchain-0.3.7:\n",
            "      Successfully uninstalled langchain-0.3.7\n",
            "Successfully installed dataclasses-json-0.6.7 httpx-sse-0.4.0 langchain-0.3.9 langchain-core-0.3.21 langchain_community-0.3.9 marshmallow-3.23.1 mypy-extensions-1.0.0 pydantic-settings-2.6.1 python-dotenv-1.0.1 typing-inspect-0.9.0\n",
            "Collecting langchain_experimental\n",
            "  Downloading langchain_experimental-0.3.3-py3-none-any.whl.metadata (1.7 kB)\n",
            "Requirement already satisfied: langchain-community<0.4.0,>=0.3.0 in /usr/local/lib/python3.10/dist-packages (from langchain_experimental) (0.3.9)\n",
            "Requirement already satisfied: langchain-core<0.4.0,>=0.3.15 in /usr/local/lib/python3.10/dist-packages (from langchain_experimental) (0.3.21)\n",
            "Requirement already satisfied: PyYAML>=5.3 in /usr/local/lib/python3.10/dist-packages (from langchain-community<0.4.0,>=0.3.0->langchain_experimental) (6.0.2)\n",
            "Requirement already satisfied: SQLAlchemy<3,>=1.4 in /usr/local/lib/python3.10/dist-packages (from langchain-community<0.4.0,>=0.3.0->langchain_experimental) (2.0.36)\n",
            "Requirement already satisfied: aiohttp<4.0.0,>=3.8.3 in /usr/local/lib/python3.10/dist-packages (from langchain-community<0.4.0,>=0.3.0->langchain_experimental) (3.11.2)\n",
            "Requirement already satisfied: dataclasses-json<0.7,>=0.5.7 in /usr/local/lib/python3.10/dist-packages (from langchain-community<0.4.0,>=0.3.0->langchain_experimental) (0.6.7)\n",
            "Requirement already satisfied: httpx-sse<0.5.0,>=0.4.0 in /usr/local/lib/python3.10/dist-packages (from langchain-community<0.4.0,>=0.3.0->langchain_experimental) (0.4.0)\n",
            "Requirement already satisfied: langchain<0.4.0,>=0.3.8 in /usr/local/lib/python3.10/dist-packages (from langchain-community<0.4.0,>=0.3.0->langchain_experimental) (0.3.9)\n",
            "Requirement already satisfied: langsmith<0.2.0,>=0.1.125 in /usr/local/lib/python3.10/dist-packages (from langchain-community<0.4.0,>=0.3.0->langchain_experimental) (0.1.143)\n",
            "Requirement already satisfied: numpy<2,>=1.22.4 in /usr/local/lib/python3.10/dist-packages (from langchain-community<0.4.0,>=0.3.0->langchain_experimental) (1.26.4)\n",
            "Requirement already satisfied: pydantic-settings<3.0.0,>=2.4.0 in /usr/local/lib/python3.10/dist-packages (from langchain-community<0.4.0,>=0.3.0->langchain_experimental) (2.6.1)\n",
            "Requirement already satisfied: requests<3,>=2 in /usr/local/lib/python3.10/dist-packages (from langchain-community<0.4.0,>=0.3.0->langchain_experimental) (2.32.3)\n",
            "Requirement already satisfied: tenacity!=8.4.0,<10,>=8.1.0 in /usr/local/lib/python3.10/dist-packages (from langchain-community<0.4.0,>=0.3.0->langchain_experimental) (9.0.0)\n",
            "Requirement already satisfied: jsonpatch<2.0,>=1.33 in /usr/local/lib/python3.10/dist-packages (from langchain-core<0.4.0,>=0.3.15->langchain_experimental) (1.33)\n",
            "Requirement already satisfied: packaging<25,>=23.2 in /usr/local/lib/python3.10/dist-packages (from langchain-core<0.4.0,>=0.3.15->langchain_experimental) (24.2)\n",
            "Requirement already satisfied: pydantic<3.0.0,>=2.5.2 in /usr/local/lib/python3.10/dist-packages (from langchain-core<0.4.0,>=0.3.15->langchain_experimental) (2.9.2)\n",
            "Requirement already satisfied: typing-extensions>=4.7 in /usr/local/lib/python3.10/dist-packages (from langchain-core<0.4.0,>=0.3.15->langchain_experimental) (4.12.2)\n",
            "Requirement already satisfied: aiohappyeyeballs>=2.3.0 in /usr/local/lib/python3.10/dist-packages (from aiohttp<4.0.0,>=3.8.3->langchain-community<0.4.0,>=0.3.0->langchain_experimental) (2.4.3)\n",
            "Requirement already satisfied: aiosignal>=1.1.2 in /usr/local/lib/python3.10/dist-packages (from aiohttp<4.0.0,>=3.8.3->langchain-community<0.4.0,>=0.3.0->langchain_experimental) (1.3.1)\n",
            "Requirement already satisfied: attrs>=17.3.0 in /usr/local/lib/python3.10/dist-packages (from aiohttp<4.0.0,>=3.8.3->langchain-community<0.4.0,>=0.3.0->langchain_experimental) (24.2.0)\n",
            "Requirement already satisfied: frozenlist>=1.1.1 in /usr/local/lib/python3.10/dist-packages (from aiohttp<4.0.0,>=3.8.3->langchain-community<0.4.0,>=0.3.0->langchain_experimental) (1.5.0)\n",
            "Requirement already satisfied: multidict<7.0,>=4.5 in /usr/local/lib/python3.10/dist-packages (from aiohttp<4.0.0,>=3.8.3->langchain-community<0.4.0,>=0.3.0->langchain_experimental) (6.1.0)\n",
            "Requirement already satisfied: propcache>=0.2.0 in /usr/local/lib/python3.10/dist-packages (from aiohttp<4.0.0,>=3.8.3->langchain-community<0.4.0,>=0.3.0->langchain_experimental) (0.2.0)\n",
            "Requirement already satisfied: yarl<2.0,>=1.17.0 in /usr/local/lib/python3.10/dist-packages (from aiohttp<4.0.0,>=3.8.3->langchain-community<0.4.0,>=0.3.0->langchain_experimental) (1.17.2)\n",
            "Requirement already satisfied: async-timeout<6.0,>=4.0 in /usr/local/lib/python3.10/dist-packages (from aiohttp<4.0.0,>=3.8.3->langchain-community<0.4.0,>=0.3.0->langchain_experimental) (4.0.3)\n",
            "Requirement already satisfied: marshmallow<4.0.0,>=3.18.0 in /usr/local/lib/python3.10/dist-packages (from dataclasses-json<0.7,>=0.5.7->langchain-community<0.4.0,>=0.3.0->langchain_experimental) (3.23.1)\n",
            "Requirement already satisfied: typing-inspect<1,>=0.4.0 in /usr/local/lib/python3.10/dist-packages (from dataclasses-json<0.7,>=0.5.7->langchain-community<0.4.0,>=0.3.0->langchain_experimental) (0.9.0)\n",
            "Requirement already satisfied: jsonpointer>=1.9 in /usr/local/lib/python3.10/dist-packages (from jsonpatch<2.0,>=1.33->langchain-core<0.4.0,>=0.3.15->langchain_experimental) (3.0.0)\n",
            "Requirement already satisfied: langchain-text-splitters<0.4.0,>=0.3.0 in /usr/local/lib/python3.10/dist-packages (from langchain<0.4.0,>=0.3.8->langchain-community<0.4.0,>=0.3.0->langchain_experimental) (0.3.2)\n",
            "Requirement already satisfied: httpx<1,>=0.23.0 in /usr/local/lib/python3.10/dist-packages (from langsmith<0.2.0,>=0.1.125->langchain-community<0.4.0,>=0.3.0->langchain_experimental) (0.27.2)\n",
            "Requirement already satisfied: orjson<4.0.0,>=3.9.14 in /usr/local/lib/python3.10/dist-packages (from langsmith<0.2.0,>=0.1.125->langchain-community<0.4.0,>=0.3.0->langchain_experimental) (3.10.11)\n",
            "Requirement already satisfied: requests-toolbelt<2.0.0,>=1.0.0 in /usr/local/lib/python3.10/dist-packages (from langsmith<0.2.0,>=0.1.125->langchain-community<0.4.0,>=0.3.0->langchain_experimental) (1.0.0)\n",
            "Requirement already satisfied: annotated-types>=0.6.0 in /usr/local/lib/python3.10/dist-packages (from pydantic<3.0.0,>=2.5.2->langchain-core<0.4.0,>=0.3.15->langchain_experimental) (0.7.0)\n",
            "Requirement already satisfied: pydantic-core==2.23.4 in /usr/local/lib/python3.10/dist-packages (from pydantic<3.0.0,>=2.5.2->langchain-core<0.4.0,>=0.3.15->langchain_experimental) (2.23.4)\n",
            "Requirement already satisfied: python-dotenv>=0.21.0 in /usr/local/lib/python3.10/dist-packages (from pydantic-settings<3.0.0,>=2.4.0->langchain-community<0.4.0,>=0.3.0->langchain_experimental) (1.0.1)\n",
            "Requirement already satisfied: charset-normalizer<4,>=2 in /usr/local/lib/python3.10/dist-packages (from requests<3,>=2->langchain-community<0.4.0,>=0.3.0->langchain_experimental) (3.4.0)\n",
            "Requirement already satisfied: idna<4,>=2.5 in /usr/local/lib/python3.10/dist-packages (from requests<3,>=2->langchain-community<0.4.0,>=0.3.0->langchain_experimental) (3.10)\n",
            "Requirement already satisfied: urllib3<3,>=1.21.1 in /usr/local/lib/python3.10/dist-packages (from requests<3,>=2->langchain-community<0.4.0,>=0.3.0->langchain_experimental) (2.2.3)\n",
            "Requirement already satisfied: certifi>=2017.4.17 in /usr/local/lib/python3.10/dist-packages (from requests<3,>=2->langchain-community<0.4.0,>=0.3.0->langchain_experimental) (2024.8.30)\n",
            "Requirement already satisfied: greenlet!=0.4.17 in /usr/local/lib/python3.10/dist-packages (from SQLAlchemy<3,>=1.4->langchain-community<0.4.0,>=0.3.0->langchain_experimental) (3.1.1)\n",
            "Requirement already satisfied: anyio in /usr/local/lib/python3.10/dist-packages (from httpx<1,>=0.23.0->langsmith<0.2.0,>=0.1.125->langchain-community<0.4.0,>=0.3.0->langchain_experimental) (3.7.1)\n",
            "Requirement already satisfied: httpcore==1.* in /usr/local/lib/python3.10/dist-packages (from httpx<1,>=0.23.0->langsmith<0.2.0,>=0.1.125->langchain-community<0.4.0,>=0.3.0->langchain_experimental) (1.0.7)\n",
            "Requirement already satisfied: sniffio in /usr/local/lib/python3.10/dist-packages (from httpx<1,>=0.23.0->langsmith<0.2.0,>=0.1.125->langchain-community<0.4.0,>=0.3.0->langchain_experimental) (1.3.1)\n",
            "Requirement already satisfied: h11<0.15,>=0.13 in /usr/local/lib/python3.10/dist-packages (from httpcore==1.*->httpx<1,>=0.23.0->langsmith<0.2.0,>=0.1.125->langchain-community<0.4.0,>=0.3.0->langchain_experimental) (0.14.0)\n",
            "Requirement already satisfied: mypy-extensions>=0.3.0 in /usr/local/lib/python3.10/dist-packages (from typing-inspect<1,>=0.4.0->dataclasses-json<0.7,>=0.5.7->langchain-community<0.4.0,>=0.3.0->langchain_experimental) (1.0.0)\n",
            "Requirement already satisfied: exceptiongroup in /usr/local/lib/python3.10/dist-packages (from anyio->httpx<1,>=0.23.0->langsmith<0.2.0,>=0.1.125->langchain-community<0.4.0,>=0.3.0->langchain_experimental) (1.2.2)\n",
            "Downloading langchain_experimental-0.3.3-py3-none-any.whl (208 kB)\n",
            "\u001b[2K   \u001b[90m━━━━━━━━━━━━━━━━━━━━━━━━━━━━━━━━━━━━━━━━\u001b[0m \u001b[32m209.0/209.0 kB\u001b[0m \u001b[31m3.5 MB/s\u001b[0m eta \u001b[36m0:00:00\u001b[0m\n",
            "\u001b[?25hInstalling collected packages: langchain_experimental\n",
            "Successfully installed langchain_experimental-0.3.3\n",
            "Collecting langchain-openai\n",
            "  Downloading langchain_openai-0.2.10-py3-none-any.whl.metadata (2.6 kB)\n",
            "Requirement already satisfied: langchain-core<0.4.0,>=0.3.21 in /usr/local/lib/python3.10/dist-packages (from langchain-openai) (0.3.21)\n",
            "Requirement already satisfied: openai<2.0.0,>=1.54.0 in /usr/local/lib/python3.10/dist-packages (from langchain-openai) (1.54.4)\n",
            "Collecting tiktoken<1,>=0.7 (from langchain-openai)\n",
            "  Downloading tiktoken-0.8.0-cp310-cp310-manylinux_2_17_x86_64.manylinux2014_x86_64.whl.metadata (6.6 kB)\n",
            "Requirement already satisfied: PyYAML>=5.3 in /usr/local/lib/python3.10/dist-packages (from langchain-core<0.4.0,>=0.3.21->langchain-openai) (6.0.2)\n",
            "Requirement already satisfied: jsonpatch<2.0,>=1.33 in /usr/local/lib/python3.10/dist-packages (from langchain-core<0.4.0,>=0.3.21->langchain-openai) (1.33)\n",
            "Requirement already satisfied: langsmith<0.2.0,>=0.1.125 in /usr/local/lib/python3.10/dist-packages (from langchain-core<0.4.0,>=0.3.21->langchain-openai) (0.1.143)\n",
            "Requirement already satisfied: packaging<25,>=23.2 in /usr/local/lib/python3.10/dist-packages (from langchain-core<0.4.0,>=0.3.21->langchain-openai) (24.2)\n",
            "Requirement already satisfied: pydantic<3.0.0,>=2.5.2 in /usr/local/lib/python3.10/dist-packages (from langchain-core<0.4.0,>=0.3.21->langchain-openai) (2.9.2)\n",
            "Requirement already satisfied: tenacity!=8.4.0,<10.0.0,>=8.1.0 in /usr/local/lib/python3.10/dist-packages (from langchain-core<0.4.0,>=0.3.21->langchain-openai) (9.0.0)\n",
            "Requirement already satisfied: typing-extensions>=4.7 in /usr/local/lib/python3.10/dist-packages (from langchain-core<0.4.0,>=0.3.21->langchain-openai) (4.12.2)\n",
            "Requirement already satisfied: anyio<5,>=3.5.0 in /usr/local/lib/python3.10/dist-packages (from openai<2.0.0,>=1.54.0->langchain-openai) (3.7.1)\n",
            "Requirement already satisfied: distro<2,>=1.7.0 in /usr/local/lib/python3.10/dist-packages (from openai<2.0.0,>=1.54.0->langchain-openai) (1.9.0)\n",
            "Requirement already satisfied: httpx<1,>=0.23.0 in /usr/local/lib/python3.10/dist-packages (from openai<2.0.0,>=1.54.0->langchain-openai) (0.27.2)\n",
            "Requirement already satisfied: jiter<1,>=0.4.0 in /usr/local/lib/python3.10/dist-packages (from openai<2.0.0,>=1.54.0->langchain-openai) (0.7.1)\n",
            "Requirement already satisfied: sniffio in /usr/local/lib/python3.10/dist-packages (from openai<2.0.0,>=1.54.0->langchain-openai) (1.3.1)\n",
            "Requirement already satisfied: tqdm>4 in /usr/local/lib/python3.10/dist-packages (from openai<2.0.0,>=1.54.0->langchain-openai) (4.66.6)\n",
            "Requirement already satisfied: regex>=2022.1.18 in /usr/local/lib/python3.10/dist-packages (from tiktoken<1,>=0.7->langchain-openai) (2024.9.11)\n",
            "Requirement already satisfied: requests>=2.26.0 in /usr/local/lib/python3.10/dist-packages (from tiktoken<1,>=0.7->langchain-openai) (2.32.3)\n",
            "Requirement already satisfied: idna>=2.8 in /usr/local/lib/python3.10/dist-packages (from anyio<5,>=3.5.0->openai<2.0.0,>=1.54.0->langchain-openai) (3.10)\n",
            "Requirement already satisfied: exceptiongroup in /usr/local/lib/python3.10/dist-packages (from anyio<5,>=3.5.0->openai<2.0.0,>=1.54.0->langchain-openai) (1.2.2)\n",
            "Requirement already satisfied: certifi in /usr/local/lib/python3.10/dist-packages (from httpx<1,>=0.23.0->openai<2.0.0,>=1.54.0->langchain-openai) (2024.8.30)\n",
            "Requirement already satisfied: httpcore==1.* in /usr/local/lib/python3.10/dist-packages (from httpx<1,>=0.23.0->openai<2.0.0,>=1.54.0->langchain-openai) (1.0.7)\n",
            "Requirement already satisfied: h11<0.15,>=0.13 in /usr/local/lib/python3.10/dist-packages (from httpcore==1.*->httpx<1,>=0.23.0->openai<2.0.0,>=1.54.0->langchain-openai) (0.14.0)\n",
            "Requirement already satisfied: jsonpointer>=1.9 in /usr/local/lib/python3.10/dist-packages (from jsonpatch<2.0,>=1.33->langchain-core<0.4.0,>=0.3.21->langchain-openai) (3.0.0)\n",
            "Requirement already satisfied: orjson<4.0.0,>=3.9.14 in /usr/local/lib/python3.10/dist-packages (from langsmith<0.2.0,>=0.1.125->langchain-core<0.4.0,>=0.3.21->langchain-openai) (3.10.11)\n",
            "Requirement already satisfied: requests-toolbelt<2.0.0,>=1.0.0 in /usr/local/lib/python3.10/dist-packages (from langsmith<0.2.0,>=0.1.125->langchain-core<0.4.0,>=0.3.21->langchain-openai) (1.0.0)\n",
            "Requirement already satisfied: annotated-types>=0.6.0 in /usr/local/lib/python3.10/dist-packages (from pydantic<3.0.0,>=2.5.2->langchain-core<0.4.0,>=0.3.21->langchain-openai) (0.7.0)\n",
            "Requirement already satisfied: pydantic-core==2.23.4 in /usr/local/lib/python3.10/dist-packages (from pydantic<3.0.0,>=2.5.2->langchain-core<0.4.0,>=0.3.21->langchain-openai) (2.23.4)\n",
            "Requirement already satisfied: charset-normalizer<4,>=2 in /usr/local/lib/python3.10/dist-packages (from requests>=2.26.0->tiktoken<1,>=0.7->langchain-openai) (3.4.0)\n",
            "Requirement already satisfied: urllib3<3,>=1.21.1 in /usr/local/lib/python3.10/dist-packages (from requests>=2.26.0->tiktoken<1,>=0.7->langchain-openai) (2.2.3)\n",
            "Downloading langchain_openai-0.2.10-py3-none-any.whl (50 kB)\n",
            "\u001b[2K   \u001b[90m━━━━━━━━━━━━━━━━━━━━━━━━━━━━━━━━━━━━━━━━\u001b[0m \u001b[32m50.6/50.6 kB\u001b[0m \u001b[31m1.8 MB/s\u001b[0m eta \u001b[36m0:00:00\u001b[0m\n",
            "\u001b[?25hDownloading tiktoken-0.8.0-cp310-cp310-manylinux_2_17_x86_64.manylinux2014_x86_64.whl (1.2 MB)\n",
            "\u001b[2K   \u001b[90m━━━━━━━━━━━━━━━━━━━━━━━━━━━━━━━━━━━━━━━━\u001b[0m \u001b[32m1.2/1.2 MB\u001b[0m \u001b[31m16.1 MB/s\u001b[0m eta \u001b[36m0:00:00\u001b[0m\n",
            "\u001b[?25hInstalling collected packages: tiktoken, langchain-openai\n",
            "Successfully installed langchain-openai-0.2.10 tiktoken-0.8.0\n",
            "Collecting chromadb\n",
            "  Downloading chromadb-0.5.21-py3-none-any.whl.metadata (6.8 kB)\n",
            "Collecting build>=1.0.3 (from chromadb)\n",
            "  Downloading build-1.2.2.post1-py3-none-any.whl.metadata (6.5 kB)\n",
            "Requirement already satisfied: pydantic>=1.9 in /usr/local/lib/python3.10/dist-packages (from chromadb) (2.9.2)\n",
            "Collecting chroma-hnswlib==0.7.6 (from chromadb)\n",
            "  Downloading chroma_hnswlib-0.7.6-cp310-cp310-manylinux_2_17_x86_64.manylinux2014_x86_64.whl.metadata (252 bytes)\n",
            "Collecting fastapi>=0.95.2 (from chromadb)\n",
            "  Downloading fastapi-0.115.5-py3-none-any.whl.metadata (27 kB)\n",
            "Collecting uvicorn>=0.18.3 (from uvicorn[standard]>=0.18.3->chromadb)\n",
            "  Downloading uvicorn-0.32.1-py3-none-any.whl.metadata (6.6 kB)\n",
            "Requirement already satisfied: numpy>=1.22.5 in /usr/local/lib/python3.10/dist-packages (from chromadb) (1.26.4)\n",
            "Collecting posthog>=2.4.0 (from chromadb)\n",
            "  Downloading posthog-3.7.4-py2.py3-none-any.whl.metadata (2.0 kB)\n",
            "Requirement already satisfied: typing_extensions>=4.5.0 in /usr/local/lib/python3.10/dist-packages (from chromadb) (4.12.2)\n",
            "Collecting onnxruntime>=1.14.1 (from chromadb)\n",
            "  Downloading onnxruntime-1.20.1-cp310-cp310-manylinux_2_27_x86_64.manylinux_2_28_x86_64.whl.metadata (4.5 kB)\n",
            "Requirement already satisfied: opentelemetry-api>=1.2.0 in /usr/local/lib/python3.10/dist-packages (from chromadb) (1.28.2)\n",
            "Collecting opentelemetry-exporter-otlp-proto-grpc>=1.2.0 (from chromadb)\n",
            "  Downloading opentelemetry_exporter_otlp_proto_grpc-1.28.2-py3-none-any.whl.metadata (2.2 kB)\n",
            "Collecting opentelemetry-instrumentation-fastapi>=0.41b0 (from chromadb)\n",
            "  Downloading opentelemetry_instrumentation_fastapi-0.49b2-py3-none-any.whl.metadata (2.1 kB)\n",
            "Requirement already satisfied: opentelemetry-sdk>=1.2.0 in /usr/local/lib/python3.10/dist-packages (from chromadb) (1.28.2)\n",
            "Requirement already satisfied: tokenizers<=0.20.3,>=0.13.2 in /usr/local/lib/python3.10/dist-packages (from chromadb) (0.20.3)\n",
            "Collecting pypika>=0.48.9 (from chromadb)\n",
            "  Downloading PyPika-0.48.9.tar.gz (67 kB)\n",
            "\u001b[2K     \u001b[90m━━━━━━━━━━━━━━━━━━━━━━━━━━━━━━━━━━━━━━━━\u001b[0m \u001b[32m67.3/67.3 kB\u001b[0m \u001b[31m3.0 MB/s\u001b[0m eta \u001b[36m0:00:00\u001b[0m\n",
            "\u001b[?25h  Installing build dependencies ... \u001b[?25l\u001b[?25hdone\n",
            "  Getting requirements to build wheel ... \u001b[?25l\u001b[?25hdone\n",
            "  Preparing metadata (pyproject.toml) ... \u001b[?25l\u001b[?25hdone\n",
            "Requirement already satisfied: tqdm>=4.65.0 in /usr/local/lib/python3.10/dist-packages (from chromadb) (4.66.6)\n",
            "Collecting overrides>=7.3.1 (from chromadb)\n",
            "  Downloading overrides-7.7.0-py3-none-any.whl.metadata (5.8 kB)\n",
            "Requirement already satisfied: importlib-resources in /usr/local/lib/python3.10/dist-packages (from chromadb) (6.4.5)\n",
            "Requirement already satisfied: grpcio>=1.58.0 in /usr/local/lib/python3.10/dist-packages (from chromadb) (1.68.0)\n",
            "Collecting bcrypt>=4.0.1 (from chromadb)\n",
            "  Downloading bcrypt-4.2.1-cp39-abi3-manylinux_2_28_x86_64.whl.metadata (9.8 kB)\n",
            "Requirement already satisfied: typer>=0.9.0 in /usr/local/lib/python3.10/dist-packages (from chromadb) (0.13.0)\n",
            "Collecting kubernetes>=28.1.0 (from chromadb)\n",
            "  Downloading kubernetes-31.0.0-py2.py3-none-any.whl.metadata (1.5 kB)\n",
            "Requirement already satisfied: tenacity>=8.2.3 in /usr/local/lib/python3.10/dist-packages (from chromadb) (9.0.0)\n",
            "Requirement already satisfied: PyYAML>=6.0.0 in /usr/local/lib/python3.10/dist-packages (from chromadb) (6.0.2)\n",
            "Collecting mmh3>=4.0.1 (from chromadb)\n",
            "  Downloading mmh3-5.0.1-cp310-cp310-manylinux_2_5_x86_64.manylinux1_x86_64.manylinux_2_17_x86_64.manylinux2014_x86_64.whl.metadata (14 kB)\n",
            "Requirement already satisfied: orjson>=3.9.12 in /usr/local/lib/python3.10/dist-packages (from chromadb) (3.10.11)\n",
            "Requirement already satisfied: httpx>=0.27.0 in /usr/local/lib/python3.10/dist-packages (from chromadb) (0.27.2)\n",
            "Requirement already satisfied: rich>=10.11.0 in /usr/local/lib/python3.10/dist-packages (from chromadb) (13.9.4)\n",
            "Requirement already satisfied: packaging>=19.1 in /usr/local/lib/python3.10/dist-packages (from build>=1.0.3->chromadb) (24.2)\n",
            "Collecting pyproject_hooks (from build>=1.0.3->chromadb)\n",
            "  Downloading pyproject_hooks-1.2.0-py3-none-any.whl.metadata (1.3 kB)\n",
            "Requirement already satisfied: tomli>=1.1.0 in /usr/local/lib/python3.10/dist-packages (from build>=1.0.3->chromadb) (2.1.0)\n",
            "Collecting starlette<0.42.0,>=0.40.0 (from fastapi>=0.95.2->chromadb)\n",
            "  Downloading starlette-0.41.3-py3-none-any.whl.metadata (6.0 kB)\n",
            "Requirement already satisfied: anyio in /usr/local/lib/python3.10/dist-packages (from httpx>=0.27.0->chromadb) (3.7.1)\n",
            "Requirement already satisfied: certifi in /usr/local/lib/python3.10/dist-packages (from httpx>=0.27.0->chromadb) (2024.8.30)\n",
            "Requirement already satisfied: httpcore==1.* in /usr/local/lib/python3.10/dist-packages (from httpx>=0.27.0->chromadb) (1.0.7)\n",
            "Requirement already satisfied: idna in /usr/local/lib/python3.10/dist-packages (from httpx>=0.27.0->chromadb) (3.10)\n",
            "Requirement already satisfied: sniffio in /usr/local/lib/python3.10/dist-packages (from httpx>=0.27.0->chromadb) (1.3.1)\n",
            "Requirement already satisfied: h11<0.15,>=0.13 in /usr/local/lib/python3.10/dist-packages (from httpcore==1.*->httpx>=0.27.0->chromadb) (0.14.0)\n",
            "Requirement already satisfied: six>=1.9.0 in /usr/local/lib/python3.10/dist-packages (from kubernetes>=28.1.0->chromadb) (1.16.0)\n",
            "Requirement already satisfied: python-dateutil>=2.5.3 in /usr/local/lib/python3.10/dist-packages (from kubernetes>=28.1.0->chromadb) (2.8.2)\n",
            "Requirement already satisfied: google-auth>=1.0.1 in /usr/local/lib/python3.10/dist-packages (from kubernetes>=28.1.0->chromadb) (2.27.0)\n",
            "Requirement already satisfied: websocket-client!=0.40.0,!=0.41.*,!=0.42.*,>=0.32.0 in /usr/local/lib/python3.10/dist-packages (from kubernetes>=28.1.0->chromadb) (1.8.0)\n",
            "Requirement already satisfied: requests in /usr/local/lib/python3.10/dist-packages (from kubernetes>=28.1.0->chromadb) (2.32.3)\n",
            "Requirement already satisfied: requests-oauthlib in /usr/local/lib/python3.10/dist-packages (from kubernetes>=28.1.0->chromadb) (1.3.1)\n",
            "Requirement already satisfied: oauthlib>=3.2.2 in /usr/local/lib/python3.10/dist-packages (from kubernetes>=28.1.0->chromadb) (3.2.2)\n",
            "Requirement already satisfied: urllib3>=1.24.2 in /usr/local/lib/python3.10/dist-packages (from kubernetes>=28.1.0->chromadb) (2.2.3)\n",
            "Collecting durationpy>=0.7 (from kubernetes>=28.1.0->chromadb)\n",
            "  Downloading durationpy-0.9-py3-none-any.whl.metadata (338 bytes)\n",
            "Collecting coloredlogs (from onnxruntime>=1.14.1->chromadb)\n",
            "  Downloading coloredlogs-15.0.1-py2.py3-none-any.whl.metadata (12 kB)\n",
            "Requirement already satisfied: flatbuffers in /usr/local/lib/python3.10/dist-packages (from onnxruntime>=1.14.1->chromadb) (24.3.25)\n",
            "Requirement already satisfied: protobuf in /usr/local/lib/python3.10/dist-packages (from onnxruntime>=1.14.1->chromadb) (4.25.5)\n",
            "Requirement already satisfied: sympy in /usr/local/lib/python3.10/dist-packages (from onnxruntime>=1.14.1->chromadb) (1.13.1)\n",
            "Requirement already satisfied: deprecated>=1.2.6 in /usr/local/lib/python3.10/dist-packages (from opentelemetry-api>=1.2.0->chromadb) (1.2.15)\n",
            "Requirement already satisfied: importlib-metadata<=8.5.0,>=6.0 in /usr/local/lib/python3.10/dist-packages (from opentelemetry-api>=1.2.0->chromadb) (8.5.0)\n",
            "Requirement already satisfied: googleapis-common-protos~=1.52 in /usr/local/lib/python3.10/dist-packages (from opentelemetry-exporter-otlp-proto-grpc>=1.2.0->chromadb) (1.66.0)\n",
            "Collecting opentelemetry-exporter-otlp-proto-common==1.28.2 (from opentelemetry-exporter-otlp-proto-grpc>=1.2.0->chromadb)\n",
            "  Downloading opentelemetry_exporter_otlp_proto_common-1.28.2-py3-none-any.whl.metadata (1.8 kB)\n",
            "Collecting opentelemetry-proto==1.28.2 (from opentelemetry-exporter-otlp-proto-grpc>=1.2.0->chromadb)\n",
            "  Downloading opentelemetry_proto-1.28.2-py3-none-any.whl.metadata (2.3 kB)\n",
            "Collecting protobuf (from onnxruntime>=1.14.1->chromadb)\n",
            "  Downloading protobuf-5.29.0-cp38-abi3-manylinux2014_x86_64.whl.metadata (592 bytes)\n",
            "Collecting opentelemetry-instrumentation-asgi==0.49b2 (from opentelemetry-instrumentation-fastapi>=0.41b0->chromadb)\n",
            "  Downloading opentelemetry_instrumentation_asgi-0.49b2-py3-none-any.whl.metadata (1.9 kB)\n",
            "Collecting opentelemetry-instrumentation==0.49b2 (from opentelemetry-instrumentation-fastapi>=0.41b0->chromadb)\n",
            "  Downloading opentelemetry_instrumentation-0.49b2-py3-none-any.whl.metadata (6.1 kB)\n",
            "Requirement already satisfied: opentelemetry-semantic-conventions==0.49b2 in /usr/local/lib/python3.10/dist-packages (from opentelemetry-instrumentation-fastapi>=0.41b0->chromadb) (0.49b2)\n",
            "Collecting opentelemetry-util-http==0.49b2 (from opentelemetry-instrumentation-fastapi>=0.41b0->chromadb)\n",
            "  Downloading opentelemetry_util_http-0.49b2-py3-none-any.whl.metadata (2.5 kB)\n",
            "Requirement already satisfied: wrapt<2.0.0,>=1.0.0 in /usr/local/lib/python3.10/dist-packages (from opentelemetry-instrumentation==0.49b2->opentelemetry-instrumentation-fastapi>=0.41b0->chromadb) (1.16.0)\n",
            "Collecting asgiref~=3.0 (from opentelemetry-instrumentation-asgi==0.49b2->opentelemetry-instrumentation-fastapi>=0.41b0->chromadb)\n",
            "  Downloading asgiref-3.8.1-py3-none-any.whl.metadata (9.3 kB)\n",
            "Collecting monotonic>=1.5 (from posthog>=2.4.0->chromadb)\n",
            "  Downloading monotonic-1.6-py2.py3-none-any.whl.metadata (1.5 kB)\n",
            "Collecting backoff>=1.10.0 (from posthog>=2.4.0->chromadb)\n",
            "  Downloading backoff-2.2.1-py3-none-any.whl.metadata (14 kB)\n",
            "Requirement already satisfied: annotated-types>=0.6.0 in /usr/local/lib/python3.10/dist-packages (from pydantic>=1.9->chromadb) (0.7.0)\n",
            "Requirement already satisfied: pydantic-core==2.23.4 in /usr/local/lib/python3.10/dist-packages (from pydantic>=1.9->chromadb) (2.23.4)\n",
            "Requirement already satisfied: markdown-it-py>=2.2.0 in /usr/local/lib/python3.10/dist-packages (from rich>=10.11.0->chromadb) (3.0.0)\n",
            "Requirement already satisfied: pygments<3.0.0,>=2.13.0 in /usr/local/lib/python3.10/dist-packages (from rich>=10.11.0->chromadb) (2.18.0)\n",
            "Requirement already satisfied: huggingface-hub<1.0,>=0.16.4 in /usr/local/lib/python3.10/dist-packages (from tokenizers<=0.20.3,>=0.13.2->chromadb) (0.26.2)\n",
            "Requirement already satisfied: click>=8.0.0 in /usr/local/lib/python3.10/dist-packages (from typer>=0.9.0->chromadb) (8.1.7)\n",
            "Requirement already satisfied: shellingham>=1.3.0 in /usr/local/lib/python3.10/dist-packages (from typer>=0.9.0->chromadb) (1.5.4)\n",
            "Collecting httptools>=0.6.3 (from uvicorn[standard]>=0.18.3->chromadb)\n",
            "  Downloading httptools-0.6.4-cp310-cp310-manylinux_2_5_x86_64.manylinux1_x86_64.manylinux_2_17_x86_64.manylinux2014_x86_64.whl.metadata (3.6 kB)\n",
            "Requirement already satisfied: python-dotenv>=0.13 in /usr/local/lib/python3.10/dist-packages (from uvicorn[standard]>=0.18.3->chromadb) (1.0.1)\n",
            "Collecting uvloop!=0.15.0,!=0.15.1,>=0.14.0 (from uvicorn[standard]>=0.18.3->chromadb)\n",
            "  Downloading uvloop-0.21.0-cp310-cp310-manylinux_2_17_x86_64.manylinux2014_x86_64.whl.metadata (4.9 kB)\n",
            "Collecting watchfiles>=0.13 (from uvicorn[standard]>=0.18.3->chromadb)\n",
            "  Downloading watchfiles-1.0.0-cp310-cp310-manylinux_2_17_x86_64.manylinux2014_x86_64.whl.metadata (4.9 kB)\n",
            "Collecting websockets>=10.4 (from uvicorn[standard]>=0.18.3->chromadb)\n",
            "  Downloading websockets-14.1-cp310-cp310-manylinux_2_5_x86_64.manylinux1_x86_64.manylinux_2_17_x86_64.manylinux2014_x86_64.whl.metadata (6.7 kB)\n",
            "Requirement already satisfied: cachetools<6.0,>=2.0.0 in /usr/local/lib/python3.10/dist-packages (from google-auth>=1.0.1->kubernetes>=28.1.0->chromadb) (5.5.0)\n",
            "Requirement already satisfied: pyasn1-modules>=0.2.1 in /usr/local/lib/python3.10/dist-packages (from google-auth>=1.0.1->kubernetes>=28.1.0->chromadb) (0.4.1)\n",
            "Requirement already satisfied: rsa<5,>=3.1.4 in /usr/local/lib/python3.10/dist-packages (from google-auth>=1.0.1->kubernetes>=28.1.0->chromadb) (4.9)\n",
            "Requirement already satisfied: filelock in /usr/local/lib/python3.10/dist-packages (from huggingface-hub<1.0,>=0.16.4->tokenizers<=0.20.3,>=0.13.2->chromadb) (3.16.1)\n",
            "Requirement already satisfied: fsspec>=2023.5.0 in /usr/local/lib/python3.10/dist-packages (from huggingface-hub<1.0,>=0.16.4->tokenizers<=0.20.3,>=0.13.2->chromadb) (2024.10.0)\n",
            "Requirement already satisfied: zipp>=3.20 in /usr/local/lib/python3.10/dist-packages (from importlib-metadata<=8.5.0,>=6.0->opentelemetry-api>=1.2.0->chromadb) (3.21.0)\n",
            "Requirement already satisfied: mdurl~=0.1 in /usr/local/lib/python3.10/dist-packages (from markdown-it-py>=2.2.0->rich>=10.11.0->chromadb) (0.1.2)\n",
            "Requirement already satisfied: charset-normalizer<4,>=2 in /usr/local/lib/python3.10/dist-packages (from requests->kubernetes>=28.1.0->chromadb) (3.4.0)\n",
            "Requirement already satisfied: exceptiongroup in /usr/local/lib/python3.10/dist-packages (from anyio->httpx>=0.27.0->chromadb) (1.2.2)\n",
            "Collecting humanfriendly>=9.1 (from coloredlogs->onnxruntime>=1.14.1->chromadb)\n",
            "  Downloading humanfriendly-10.0-py2.py3-none-any.whl.metadata (9.2 kB)\n",
            "Requirement already satisfied: mpmath<1.4,>=1.1.0 in /usr/local/lib/python3.10/dist-packages (from sympy->onnxruntime>=1.14.1->chromadb) (1.3.0)\n",
            "Requirement already satisfied: pyasn1<0.7.0,>=0.4.6 in /usr/local/lib/python3.10/dist-packages (from pyasn1-modules>=0.2.1->google-auth>=1.0.1->kubernetes>=28.1.0->chromadb) (0.6.1)\n",
            "Downloading chromadb-0.5.21-py3-none-any.whl (628 kB)\n",
            "\u001b[2K   \u001b[90m━━━━━━━━━━━━━━━━━━━━━━━━━━━━━━━━━━━━━━━━\u001b[0m \u001b[32m628.3/628.3 kB\u001b[0m \u001b[31m15.7 MB/s\u001b[0m eta \u001b[36m0:00:00\u001b[0m\n",
            "\u001b[?25hDownloading chroma_hnswlib-0.7.6-cp310-cp310-manylinux_2_17_x86_64.manylinux2014_x86_64.whl (2.4 MB)\n",
            "\u001b[2K   \u001b[90m━━━━━━━━━━━━━━━━━━━━━━━━━━━━━━━━━━━━━━━━\u001b[0m \u001b[32m2.4/2.4 MB\u001b[0m \u001b[31m43.5 MB/s\u001b[0m eta \u001b[36m0:00:00\u001b[0m\n",
            "\u001b[?25hDownloading bcrypt-4.2.1-cp39-abi3-manylinux_2_28_x86_64.whl (278 kB)\n",
            "\u001b[2K   \u001b[90m━━━━━━━━━━━━━━━━━━━━━━━━━━━━━━━━━━━━━━━━\u001b[0m \u001b[32m278.6/278.6 kB\u001b[0m \u001b[31m15.1 MB/s\u001b[0m eta \u001b[36m0:00:00\u001b[0m\n",
            "\u001b[?25hDownloading build-1.2.2.post1-py3-none-any.whl (22 kB)\n",
            "Downloading fastapi-0.115.5-py3-none-any.whl (94 kB)\n",
            "\u001b[2K   \u001b[90m━━━━━━━━━━━━━━━━━━━━━━━━━━━━━━━━━━━━━━━━\u001b[0m \u001b[32m94.9/94.9 kB\u001b[0m \u001b[31m5.0 MB/s\u001b[0m eta \u001b[36m0:00:00\u001b[0m\n",
            "\u001b[?25hDownloading kubernetes-31.0.0-py2.py3-none-any.whl (1.9 MB)\n",
            "\u001b[2K   \u001b[90m━━━━━━━━━━━━━━━━━━━━━━━━━━━━━━━━━━━━━━━━\u001b[0m \u001b[32m1.9/1.9 MB\u001b[0m \u001b[31m43.5 MB/s\u001b[0m eta \u001b[36m0:00:00\u001b[0m\n",
            "\u001b[?25hDownloading mmh3-5.0.1-cp310-cp310-manylinux_2_5_x86_64.manylinux1_x86_64.manylinux_2_17_x86_64.manylinux2014_x86_64.whl (93 kB)\n",
            "\u001b[2K   \u001b[90m━━━━━━━━━━━━━━━━━━━━━━━━━━━━━━━━━━━━━━━━\u001b[0m \u001b[32m93.2/93.2 kB\u001b[0m \u001b[31m5.1 MB/s\u001b[0m eta \u001b[36m0:00:00\u001b[0m\n",
            "\u001b[?25hDownloading onnxruntime-1.20.1-cp310-cp310-manylinux_2_27_x86_64.manylinux_2_28_x86_64.whl (13.3 MB)\n",
            "\u001b[2K   \u001b[90m━━━━━━━━━━━━━━━━━━━━━━━━━━━━━━━━━━━━━━━━\u001b[0m \u001b[32m13.3/13.3 MB\u001b[0m \u001b[31m36.2 MB/s\u001b[0m eta \u001b[36m0:00:00\u001b[0m\n",
            "\u001b[?25hDownloading opentelemetry_exporter_otlp_proto_grpc-1.28.2-py3-none-any.whl (18 kB)\n",
            "Downloading opentelemetry_exporter_otlp_proto_common-1.28.2-py3-none-any.whl (18 kB)\n",
            "Downloading opentelemetry_proto-1.28.2-py3-none-any.whl (55 kB)\n",
            "\u001b[2K   \u001b[90m━━━━━━━━━━━━━━━━━━━━━━━━━━━━━━━━━━━━━━━━\u001b[0m \u001b[32m55.8/55.8 kB\u001b[0m \u001b[31m2.5 MB/s\u001b[0m eta \u001b[36m0:00:00\u001b[0m\n",
            "\u001b[?25hDownloading opentelemetry_instrumentation_fastapi-0.49b2-py3-none-any.whl (12 kB)\n",
            "Downloading opentelemetry_instrumentation-0.49b2-py3-none-any.whl (30 kB)\n",
            "Downloading opentelemetry_instrumentation_asgi-0.49b2-py3-none-any.whl (16 kB)\n",
            "Downloading opentelemetry_util_http-0.49b2-py3-none-any.whl (6.9 kB)\n",
            "Downloading overrides-7.7.0-py3-none-any.whl (17 kB)\n",
            "Downloading posthog-3.7.4-py2.py3-none-any.whl (54 kB)\n",
            "\u001b[2K   \u001b[90m━━━━━━━━━━━━━━━━━━━━━━━━━━━━━━━━━━━━━━━━\u001b[0m \u001b[32m54.8/54.8 kB\u001b[0m \u001b[31m3.2 MB/s\u001b[0m eta \u001b[36m0:00:00\u001b[0m\n",
            "\u001b[?25hDownloading uvicorn-0.32.1-py3-none-any.whl (63 kB)\n",
            "\u001b[2K   \u001b[90m━━━━━━━━━━━━━━━━━━━━━━━━━━━━━━━━━━━━━━━━\u001b[0m \u001b[32m63.8/63.8 kB\u001b[0m \u001b[31m4.0 MB/s\u001b[0m eta \u001b[36m0:00:00\u001b[0m\n",
            "\u001b[?25hDownloading backoff-2.2.1-py3-none-any.whl (15 kB)\n",
            "Downloading durationpy-0.9-py3-none-any.whl (3.5 kB)\n",
            "Downloading httptools-0.6.4-cp310-cp310-manylinux_2_5_x86_64.manylinux1_x86_64.manylinux_2_17_x86_64.manylinux2014_x86_64.whl (442 kB)\n",
            "\u001b[2K   \u001b[90m━━━━━━━━━━━━━━━━━━━━━━━━━━━━━━━━━━━━━━━━\u001b[0m \u001b[32m442.1/442.1 kB\u001b[0m \u001b[31m24.1 MB/s\u001b[0m eta \u001b[36m0:00:00\u001b[0m\n",
            "\u001b[?25hDownloading monotonic-1.6-py2.py3-none-any.whl (8.2 kB)\n",
            "Downloading protobuf-5.29.0-cp38-abi3-manylinux2014_x86_64.whl (319 kB)\n",
            "\u001b[2K   \u001b[90m━━━━━━━━━━━━━━━━━━━━━━━━━━━━━━━━━━━━━━━━\u001b[0m \u001b[32m319.7/319.7 kB\u001b[0m \u001b[31m18.7 MB/s\u001b[0m eta \u001b[36m0:00:00\u001b[0m\n",
            "\u001b[?25hDownloading starlette-0.41.3-py3-none-any.whl (73 kB)\n",
            "\u001b[2K   \u001b[90m━━━━━━━━━━━━━━━━━━━━━━━━━━━━━━━━━━━━━━━━\u001b[0m \u001b[32m73.2/73.2 kB\u001b[0m \u001b[31m4.8 MB/s\u001b[0m eta \u001b[36m0:00:00\u001b[0m\n",
            "\u001b[?25hDownloading uvloop-0.21.0-cp310-cp310-manylinux_2_17_x86_64.manylinux2014_x86_64.whl (3.8 MB)\n",
            "\u001b[2K   \u001b[90m━━━━━━━━━━━━━━━━━━━━━━━━━━━━━━━━━━━━━━━━\u001b[0m \u001b[32m3.8/3.8 MB\u001b[0m \u001b[31m50.5 MB/s\u001b[0m eta \u001b[36m0:00:00\u001b[0m\n",
            "\u001b[?25hDownloading watchfiles-1.0.0-cp310-cp310-manylinux_2_17_x86_64.manylinux2014_x86_64.whl (442 kB)\n",
            "\u001b[2K   \u001b[90m━━━━━━━━━━━━━━━━━━━━━━━━━━━━━━━━━━━━━━━━\u001b[0m \u001b[32m442.6/442.6 kB\u001b[0m \u001b[31m25.0 MB/s\u001b[0m eta \u001b[36m0:00:00\u001b[0m\n",
            "\u001b[?25hDownloading websockets-14.1-cp310-cp310-manylinux_2_5_x86_64.manylinux1_x86_64.manylinux_2_17_x86_64.manylinux2014_x86_64.whl (168 kB)\n",
            "\u001b[2K   \u001b[90m━━━━━━━━━━━━━━━━━━━━━━━━━━━━━━━━━━━━━━━━\u001b[0m \u001b[32m168.2/168.2 kB\u001b[0m \u001b[31m11.0 MB/s\u001b[0m eta \u001b[36m0:00:00\u001b[0m\n",
            "\u001b[?25hDownloading coloredlogs-15.0.1-py2.py3-none-any.whl (46 kB)\n",
            "\u001b[2K   \u001b[90m━━━━━━━━━━━━━━━━━━━━━━━━━━━━━━━━━━━━━━━━\u001b[0m \u001b[32m46.0/46.0 kB\u001b[0m \u001b[31m2.8 MB/s\u001b[0m eta \u001b[36m0:00:00\u001b[0m\n",
            "\u001b[?25hDownloading pyproject_hooks-1.2.0-py3-none-any.whl (10 kB)\n",
            "Downloading asgiref-3.8.1-py3-none-any.whl (23 kB)\n",
            "Downloading humanfriendly-10.0-py2.py3-none-any.whl (86 kB)\n",
            "\u001b[2K   \u001b[90m━━━━━━━━━━━━━━━━━━━━━━━━━━━━━━━━━━━━━━━━\u001b[0m \u001b[32m86.8/86.8 kB\u001b[0m \u001b[31m5.6 MB/s\u001b[0m eta \u001b[36m0:00:00\u001b[0m\n",
            "\u001b[?25hBuilding wheels for collected packages: pypika\n",
            "  Building wheel for pypika (pyproject.toml) ... \u001b[?25l\u001b[?25hdone\n",
            "  Created wheel for pypika: filename=PyPika-0.48.9-py2.py3-none-any.whl size=53725 sha256=90f21380bbe38386f5763ad4ef5b7ce356be449bd3f5fd01e92cd4a9aeff8de7\n",
            "  Stored in directory: /root/.cache/pip/wheels/e1/26/51/d0bffb3d2fd82256676d7ad3003faea3bd6dddc9577af665f4\n",
            "Successfully built pypika\n",
            "Installing collected packages: pypika, monotonic, durationpy, websockets, uvloop, uvicorn, pyproject_hooks, protobuf, overrides, opentelemetry-util-http, mmh3, humanfriendly, httptools, chroma-hnswlib, bcrypt, backoff, asgiref, watchfiles, starlette, posthog, opentelemetry-proto, coloredlogs, build, opentelemetry-exporter-otlp-proto-common, onnxruntime, kubernetes, fastapi, opentelemetry-instrumentation, opentelemetry-instrumentation-asgi, opentelemetry-exporter-otlp-proto-grpc, opentelemetry-instrumentation-fastapi, chromadb\n",
            "  Attempting uninstall: protobuf\n",
            "    Found existing installation: protobuf 4.25.5\n",
            "    Uninstalling protobuf-4.25.5:\n",
            "      Successfully uninstalled protobuf-4.25.5\n",
            "\u001b[31mERROR: pip's dependency resolver does not currently take into account all the packages that are installed. This behaviour is the source of the following dependency conflicts.\n",
            "tensorflow 2.17.1 requires protobuf!=4.21.0,!=4.21.1,!=4.21.2,!=4.21.3,!=4.21.4,!=4.21.5,<5.0.0dev,>=3.20.3, but you have protobuf 5.29.0 which is incompatible.\n",
            "tensorflow-metadata 1.13.1 requires protobuf<5,>=3.20.3, but you have protobuf 5.29.0 which is incompatible.\u001b[0m\u001b[31m\n",
            "\u001b[0mSuccessfully installed asgiref-3.8.1 backoff-2.2.1 bcrypt-4.2.1 build-1.2.2.post1 chroma-hnswlib-0.7.6 chromadb-0.5.21 coloredlogs-15.0.1 durationpy-0.9 fastapi-0.115.5 httptools-0.6.4 humanfriendly-10.0 kubernetes-31.0.0 mmh3-5.0.1 monotonic-1.6 onnxruntime-1.20.1 opentelemetry-exporter-otlp-proto-common-1.28.2 opentelemetry-exporter-otlp-proto-grpc-1.28.2 opentelemetry-instrumentation-0.49b2 opentelemetry-instrumentation-asgi-0.49b2 opentelemetry-instrumentation-fastapi-0.49b2 opentelemetry-proto-1.28.2 opentelemetry-util-http-0.49b2 overrides-7.7.0 posthog-3.7.4 protobuf-5.29.0 pypika-0.48.9 pyproject_hooks-1.2.0 starlette-0.41.3 uvicorn-0.32.1 uvloop-0.21.0 watchfiles-1.0.0 websockets-14.1\n",
            "Requirement already satisfied: langchain in /usr/local/lib/python3.10/dist-packages (0.3.9)\n",
            "Requirement already satisfied: PyYAML>=5.3 in /usr/local/lib/python3.10/dist-packages (from langchain) (6.0.2)\n",
            "Requirement already satisfied: SQLAlchemy<3,>=1.4 in /usr/local/lib/python3.10/dist-packages (from langchain) (2.0.36)\n",
            "Requirement already satisfied: aiohttp<4.0.0,>=3.8.3 in /usr/local/lib/python3.10/dist-packages (from langchain) (3.11.2)\n",
            "Requirement already satisfied: async-timeout<5.0.0,>=4.0.0 in /usr/local/lib/python3.10/dist-packages (from langchain) (4.0.3)\n",
            "Requirement already satisfied: langchain-core<0.4.0,>=0.3.21 in /usr/local/lib/python3.10/dist-packages (from langchain) (0.3.21)\n",
            "Requirement already satisfied: langchain-text-splitters<0.4.0,>=0.3.0 in /usr/local/lib/python3.10/dist-packages (from langchain) (0.3.2)\n",
            "Requirement already satisfied: langsmith<0.2.0,>=0.1.17 in /usr/local/lib/python3.10/dist-packages (from langchain) (0.1.143)\n",
            "Requirement already satisfied: numpy<2,>=1.22.4 in /usr/local/lib/python3.10/dist-packages (from langchain) (1.26.4)\n",
            "Requirement already satisfied: pydantic<3.0.0,>=2.7.4 in /usr/local/lib/python3.10/dist-packages (from langchain) (2.9.2)\n",
            "Requirement already satisfied: requests<3,>=2 in /usr/local/lib/python3.10/dist-packages (from langchain) (2.32.3)\n",
            "Requirement already satisfied: tenacity!=8.4.0,<10,>=8.1.0 in /usr/local/lib/python3.10/dist-packages (from langchain) (9.0.0)\n",
            "Requirement already satisfied: aiohappyeyeballs>=2.3.0 in /usr/local/lib/python3.10/dist-packages (from aiohttp<4.0.0,>=3.8.3->langchain) (2.4.3)\n",
            "Requirement already satisfied: aiosignal>=1.1.2 in /usr/local/lib/python3.10/dist-packages (from aiohttp<4.0.0,>=3.8.3->langchain) (1.3.1)\n",
            "Requirement already satisfied: attrs>=17.3.0 in /usr/local/lib/python3.10/dist-packages (from aiohttp<4.0.0,>=3.8.3->langchain) (24.2.0)\n",
            "Requirement already satisfied: frozenlist>=1.1.1 in /usr/local/lib/python3.10/dist-packages (from aiohttp<4.0.0,>=3.8.3->langchain) (1.5.0)\n",
            "Requirement already satisfied: multidict<7.0,>=4.5 in /usr/local/lib/python3.10/dist-packages (from aiohttp<4.0.0,>=3.8.3->langchain) (6.1.0)\n",
            "Requirement already satisfied: propcache>=0.2.0 in /usr/local/lib/python3.10/dist-packages (from aiohttp<4.0.0,>=3.8.3->langchain) (0.2.0)\n",
            "Requirement already satisfied: yarl<2.0,>=1.17.0 in /usr/local/lib/python3.10/dist-packages (from aiohttp<4.0.0,>=3.8.3->langchain) (1.17.2)\n",
            "Requirement already satisfied: jsonpatch<2.0,>=1.33 in /usr/local/lib/python3.10/dist-packages (from langchain-core<0.4.0,>=0.3.21->langchain) (1.33)\n",
            "Requirement already satisfied: packaging<25,>=23.2 in /usr/local/lib/python3.10/dist-packages (from langchain-core<0.4.0,>=0.3.21->langchain) (24.2)\n",
            "Requirement already satisfied: typing-extensions>=4.7 in /usr/local/lib/python3.10/dist-packages (from langchain-core<0.4.0,>=0.3.21->langchain) (4.12.2)\n",
            "Requirement already satisfied: httpx<1,>=0.23.0 in /usr/local/lib/python3.10/dist-packages (from langsmith<0.2.0,>=0.1.17->langchain) (0.27.2)\n",
            "Requirement already satisfied: orjson<4.0.0,>=3.9.14 in /usr/local/lib/python3.10/dist-packages (from langsmith<0.2.0,>=0.1.17->langchain) (3.10.11)\n",
            "Requirement already satisfied: requests-toolbelt<2.0.0,>=1.0.0 in /usr/local/lib/python3.10/dist-packages (from langsmith<0.2.0,>=0.1.17->langchain) (1.0.0)\n",
            "Requirement already satisfied: annotated-types>=0.6.0 in /usr/local/lib/python3.10/dist-packages (from pydantic<3.0.0,>=2.7.4->langchain) (0.7.0)\n",
            "Requirement already satisfied: pydantic-core==2.23.4 in /usr/local/lib/python3.10/dist-packages (from pydantic<3.0.0,>=2.7.4->langchain) (2.23.4)\n",
            "Requirement already satisfied: charset-normalizer<4,>=2 in /usr/local/lib/python3.10/dist-packages (from requests<3,>=2->langchain) (3.4.0)\n",
            "Requirement already satisfied: idna<4,>=2.5 in /usr/local/lib/python3.10/dist-packages (from requests<3,>=2->langchain) (3.10)\n",
            "Requirement already satisfied: urllib3<3,>=1.21.1 in /usr/local/lib/python3.10/dist-packages (from requests<3,>=2->langchain) (2.2.3)\n",
            "Requirement already satisfied: certifi>=2017.4.17 in /usr/local/lib/python3.10/dist-packages (from requests<3,>=2->langchain) (2024.8.30)\n",
            "Requirement already satisfied: greenlet!=0.4.17 in /usr/local/lib/python3.10/dist-packages (from SQLAlchemy<3,>=1.4->langchain) (3.1.1)\n",
            "Requirement already satisfied: anyio in /usr/local/lib/python3.10/dist-packages (from httpx<1,>=0.23.0->langsmith<0.2.0,>=0.1.17->langchain) (3.7.1)\n",
            "Requirement already satisfied: httpcore==1.* in /usr/local/lib/python3.10/dist-packages (from httpx<1,>=0.23.0->langsmith<0.2.0,>=0.1.17->langchain) (1.0.7)\n",
            "Requirement already satisfied: sniffio in /usr/local/lib/python3.10/dist-packages (from httpx<1,>=0.23.0->langsmith<0.2.0,>=0.1.17->langchain) (1.3.1)\n",
            "Requirement already satisfied: h11<0.15,>=0.13 in /usr/local/lib/python3.10/dist-packages (from httpcore==1.*->httpx<1,>=0.23.0->langsmith<0.2.0,>=0.1.17->langchain) (0.14.0)\n",
            "Requirement already satisfied: jsonpointer>=1.9 in /usr/local/lib/python3.10/dist-packages (from jsonpatch<2.0,>=1.33->langchain-core<0.4.0,>=0.3.21->langchain) (3.0.0)\n",
            "Requirement already satisfied: exceptiongroup in /usr/local/lib/python3.10/dist-packages (from anyio->httpx<1,>=0.23.0->langsmith<0.2.0,>=0.1.17->langchain) (1.2.2)\n",
            "Requirement already satisfied: beautifulsoup4 in /usr/local/lib/python3.10/dist-packages (4.12.3)\n",
            "Requirement already satisfied: soupsieve>1.2 in /usr/local/lib/python3.10/dist-packages (from beautifulsoup4) (2.6)\n"
          ]
        }
      ],
      "source": [
        "%pip install langchain_community\n",
        "%pip install langchain_experimental\n",
        "#register openai and get its api key\n",
        "%pip install langchain-openai\n",
        "%pip install chromadb #vector\n",
        "%pip install langchain\n",
        "%pip install beautifulsoup4 #web crawler"
      ]
    },
    {
      "cell_type": "code",
      "source": [
        "import os\n",
        "from langchain_community.document_loaders import WebBaseLoader\n",
        "import bs4\n",
        "import openai\n",
        "from langchain_openai import ChatOpenAI, OpenAIEmbeddings\n",
        "from langchain import hub\n",
        "from langchain_core.output_parsers import StrOutputParser\n",
        "from langchain_core.runnables import RunnablePassthrough #-> do nothing\n",
        "import chromadb\n",
        "from langchain_community.vectorstores import Chroma\n",
        "from langchain_experimental.text_splitter import SemanticChunker #=> chop text into pieces by sematically\n"
      ],
      "metadata": {
        "colab": {
          "base_uri": "https://localhost:8080/"
        },
        "id": "BxSEbtmQ6pHf",
        "outputId": "3a6a129d-dc36-41db-a395-80fe1380b8f7"
      },
      "execution_count": null,
      "outputs": [
        {
          "output_type": "stream",
          "name": "stderr",
          "text": [
            "WARNING:langchain_community.utils.user_agent:USER_AGENT environment variable not set, consider setting it to identify your requests.\n"
          ]
        }
      ]
    },
    {
      "cell_type": "code",
      "source": [
        "from openai import OpenAI\n",
        "import time\n",
        "client = OpenAI()\n",
        "gptmodel = \"gpt-4o\"\n",
        "\n",
        "def generate_answer(prompt):\n",
        "  print(f\"generate answer from prompt:{prompt}\")\n",
        "  try:\n",
        "    start = time.time()\n",
        "    response = client.chat.completions.create(\n",
        "        model = gptmodel,\n",
        "        messages = [\n",
        "            {'role':'system', \"content\": \"You are an expert of large language model and RAG\"},\n",
        "            {'role': 'assistant', 'content': \"You can read the input and give out answer in detail\"},\n",
        "            {'role': 'user', 'content': prompt}\n",
        "        ],\n",
        "        temperature = 0.1,\n",
        "    )\n",
        "    #should be the job of StrOutputParser\n",
        "    return response.choices[0].message.content.strip()\n",
        "  except Exception as e:\n",
        "    return str(e)\n",
        "\n",
        "def call_llm_with_self_prompt(question):\n",
        "  #should be the job of hub\n",
        "  prompt = f\"please eloborate on the following content:\\n {question}\"\n",
        "  return generate_answer(question)\n",
        "\n",
        "import textwrap\n",
        "def print_formatted_response(response):\n",
        "  #should be the job of StrOutputParser\n",
        "  wrapper = textwrap.TextWrapper(width = 80) #one line no more than 80 words\n",
        "  wrapped_text = wrapper.fill(text=response)\n",
        "  print(\"Response:\")\n",
        "  print(\"---------------\")\n",
        "  print(wrapped_text)\n",
        "  print(\"---------------\")\n"
      ],
      "metadata": {
        "id": "Qy3v-dTsUfQj"
      },
      "execution_count": null,
      "outputs": []
    },
    {
      "cell_type": "code",
      "source": [
        "query = \"tell me something about rag store\"\n",
        "llm_response = call_llm_with_self_prompt(query)\n",
        "print_formatted_response(llm_response)\n"
      ],
      "metadata": {
        "colab": {
          "base_uri": "https://localhost:8080/"
        },
        "id": "vAOa99mqXMQk",
        "outputId": "3b04af50-4663-482a-d992-5bc8c029d818"
      },
      "execution_count": null,
      "outputs": [
        {
          "output_type": "stream",
          "name": "stdout",
          "text": [
            "generate answer from prompt:tell me something about rag store\n",
            "Response:\n",
            "---------------\n",
            "RAG, or Retrieval-Augmented Generation, is a framework that combines the\n",
            "strengths of retrieval-based systems and generative models to improve the\n",
            "quality and relevance of generated content. In a RAG system, a large language\n",
            "model (LLM) is augmented with a retrieval mechanism that allows it to access and\n",
            "incorporate information from a large external dataset or knowledge base, often\n",
            "referred to as a \"RAG store.\"  Here's how a RAG store typically works:  1.\n",
            "**Retrieval Component**: The system first retrieves relevant documents or pieces\n",
            "of information from a large corpus based on the input query. This is usually\n",
            "done using a search engine or a neural retriever that ranks documents by\n",
            "relevance.  2. **Augmentation**: The retrieved information is then used to\n",
            "augment the input to the generative model. This can involve concatenating the\n",
            "retrieved documents with the original query or using them to inform the\n",
            "generation process in some other way.  3. **Generation**: The generative model,\n",
            "such as a transformer-based language model, uses the augmented input to produce\n",
            "a response. The presence of relevant, retrieved information helps the model\n",
            "generate more accurate and contextually appropriate content.  4. **Feedback\n",
            "Loop**: Some RAG systems incorporate a feedback loop where the quality of the\n",
            "generated output is used to refine the retrieval process, improving future\n",
            "results.  The RAG approach is particularly useful in scenarios where the model\n",
            "needs to generate responses based on up-to-date or domain-specific information\n",
            "that may not be fully captured in its pre-trained parameters. By leveraging a\n",
            "RAG store, the system can dynamically access and utilize a vast amount of\n",
            "external knowledge, enhancing its ability to provide accurate and informative\n",
            "responses.\n",
            "---------------\n"
          ]
        }
      ]
    },
    {
      "cell_type": "code",
      "source": [
        "#use webbaseloader to load the document\n",
        "#prepare domain document or database for the given query,\n",
        "#prepare data or document base for given domain is very complex and engineering demanding,\n",
        "#assume we have data already\n",
        "\n",
        "#here should be handle by WebBaseLoader or PDFLoader\n",
        "db_records = [\n",
        "    \"Retrieval Augmented Generation (RAG) represents a sophisticated hybrid approach in the field of artificial intelligence, particularly within the realm of natural language processing (NLP).\",\n",
        "    \"It innovatively combines the capabilities of neural network-based language models with retrieval systems to enhance the generation of text, making it more accurate, informative, and contextually relevant.\",\n",
        "    \"This methodology leverages the strengths of both generative and retrieval architectures to tackle complex tasks that require not only linguistic fluency but also factual correctness and depth of knowledge.\",\n",
        "    \"At the core of Retrieval Augmented Generation (RAG) is a generative model, typically a transformer-based neural network, similar to those used in models like GPT (Generative Pre-trained Transformer) or BERT (Bidirectional Encoder Representations from Transformers).\",\n",
        "    \"This component is responsible for producing coherent and contextually appropriate language outputs based on a mixture of input prompts and additional information fetched by the retrieval component.\",\n",
        "    \"Complementing the language model is the retrieval system, which is usually built on a database of documents or a corpus of texts.\",\n",
        "    \"This system uses techniques from information retrieval to find and fetch documents that are relevant to the input query or prompt.\",\n",
        "    \"The mechanism of relevance determination can range from simple keyword matching to more complex semantic search algorithms which interpret the meaning behind the query to find the best matches.\",\n",
        "    \"This component merges the outputs from the language model and the retrieval system.\",\n",
        "    \"It effectively synthesizes the raw data fetched by the retrieval system into the generative process of the language model.\",\n",
        "    \"The integrator ensures that the information from the retrieval system is seamlessly incorporated into the final text output, enhancing the model's ability to generate responses that are not only fluent and grammatically correct but also rich in factual details and context-specific nuances.\",\n",
        "    \"When a query or prompt is received, the system first processes it to understand the requirement or the context.\",\n",
        "    \"Based on the processed query, the retrieval system searches through its database to find relevant documents or information snippets.\",\n",
        "    \"This retrieval is guided by the similarity of content in the documents to the query, which can be determined through various techniques like vector embeddings or semantic similarity measures.\",\n",
        "    \"The retrieved documents are then fed into the language model.\",\n",
        "    \"In some implementations, this integration happens at the token level, where the model can access and incorporate specific pieces of information from the retrieved texts dynamically as it generates each part of the response.\",\n",
        "    \"The language model, now augmented with direct access to retrieved information, generates a response.\",\n",
        "    \"This response is not only influenced by the training of the model but also by the specific facts and details contained in the retrieved documents, making it more tailored and accurate.\",\n",
        "    \"By directly incorporating information from external sources, Retrieval Augmented Generation (RAG) models can produce responses that are more factual and relevant to the given query.\",\n",
        "    \"This is particularly useful in domains like medical advice, technical support, and other areas where precision and up-to-date knowledge are crucial.\",\n",
        "    \"Retrieval Augmented Generation (RAG) systems can dynamically adapt to new information since they retrieve data in real-time from their databases.\",\n",
        "    \"This allows them to remain current with the latest knowledge and trends without needing frequent retraining.\",\n",
        "    \"With access to a wide range of documents, Retrieval Augmented Generation (RAG) systems can provide detailed and nuanced answers that a standalone language model might not be capable of generating based solely on its pre-trained knowledge.\",\n",
        "    \"While Retrieval Augmented Generation (RAG) offers substantial benefits, it also comes with its challenges.\",\n",
        "    \"These include the complexity of integrating retrieval and generation systems, the computational overhead associated with real-time data retrieval, and the need for maintaining a large, up-to-date, and high-quality database of retrievable texts.\",\n",
        "    \"Furthermore, ensuring the relevance and accuracy of the retrieved information remains a significant challenge, as does managing the potential for introducing biases or errors from the external sources.\",\n",
        "    \"In summary, Retrieval Augmented Generation represents a significant advancement in the field of artificial intelligence, merging the best of retrieval-based and generative technologies to create systems that not only understand and generate natural language but also deeply comprehend and utilize the vast amounts of information available in textual form.\",\n",
        "    \"A RAG vector store is a database or dataset that contains vectorized data points.\"\n",
        "]"
      ],
      "metadata": {
        "id": "S3up8Lg2ydLR"
      },
      "execution_count": null,
      "outputs": []
    },
    {
      "cell_type": "code",
      "source": [
        "query = \"tell me something about rag store\"\n",
        "#how we can extract piece of data from document as right context\n",
        "#job for retriever\n",
        "#a simple method that is check relevant of two texts => compare how many common words they share,\n",
        "#(query, text1), => common word 3, (query,text2) => commond word 4, text2 is more relevant thant text1\n",
        "#river bank, central bank\n",
        "\n",
        "def similarity_by_matching_common_words(text1, text2):\n",
        "  '''\n",
        "  split the two input texts into words, then compute the number of common words\n",
        "  '''\n",
        "  text1_words = set(text1.lower().split())\n",
        "  text2_words = set(text2.lower().split())\n",
        "  common_words = text1_words.intersection(text2_words)\n",
        "  return len(common_words)\n",
        "\n",
        "\n",
        "from sklearn.feature_extraction.text import TfidfVectorizer\n",
        "from sklearn.metrics.pairwise import cosine_similarity\n",
        "\n",
        "def compute_cosine_similarity(text1, text2):\n",
        "  vectorizer = TfidfVectorizer()\n",
        "  doc_vecs = vectorizer.fit_transform([text1, text2])\n",
        "  doc_dense_vecs = doc_vecs.todense()\n",
        "  vec1 = np.asarray(doc_dense_vecs[0])\n",
        "  vec2 = np.asarray(doc_dense_vecs[1])\n",
        "  return cosine_similarity(vec1, vec2)\n",
        "\n",
        "\n",
        "def find_best_match_piece(query, db_records):\n",
        "  best_score = 0\n",
        "  best_record = 0\n",
        "  for record in db_records:\n",
        "    #current_score = similarity_by_matching_common_words(query, record)\n",
        "    current_score = compute_cosine_similarity(query, record)\n",
        "    if current_score > best_score:\n",
        "      best_score = current_score\n",
        "      best_record = record\n",
        "\n",
        "  return best_score, best_record\n",
        "\n",
        "\n",
        "best_score, best_record = find_best_match_piece(query, db_records)\n",
        "\n",
        "print(f\"best score:{best_score}, best record: {best_record}\")"
      ],
      "metadata": {
        "colab": {
          "base_uri": "https://localhost:8080/"
        },
        "id": "4UB3PsAqzVqm",
        "outputId": "ab1d6ec5-c5f7-4126-e0d6-88438866bd87"
      },
      "execution_count": null,
      "outputs": [
        {
          "output_type": "stream",
          "name": "stdout",
          "text": [
            "best score:[[0.13627634]], best record: A RAG vector store is a database or dataset that contains vectorized data points.\n"
          ]
        }
      ]
    },
    {
      "cell_type": "code",
      "source": [
        "\n",
        "import pandas as pd\n",
        "from sklearn.feature_extraction.text import TfidfVectorizer\n",
        "\n",
        "def setup_vectorizer(records):\n",
        "    vectorizer = TfidfVectorizer()\n",
        "    tfidf_matrix = vectorizer.fit_transform(records)\n",
        "    vocab = vectorizer.get_feature_names_out()\n",
        "    print(f\"vocab: {vocab}\")\n",
        "\n",
        "    # Convert the TF-IDF matrix to a DataFrame for display purposes\n",
        "    tfidf_df = pd.DataFrame(tfidf_matrix.toarray(), columns=vectorizer.get_feature_names_out())\n",
        "\n",
        "    # Display the DataFrame\n",
        "    print(tfidf_df)\n",
        "\n",
        "    return vectorizer, tfidf_matrix\n",
        "\n",
        "vectorizer, tfidf_matrix = setup_vectorizer(db_records)"
      ],
      "metadata": {
        "colab": {
          "base_uri": "https://localhost:8080/"
        },
        "id": "LF95ajg27CT9",
        "outputId": "89c01f5e-dbfc-4452-9746-ee6e7e614419"
      },
      "execution_count": null,
      "outputs": [
        {
          "output_type": "stream",
          "name": "stdout",
          "text": [
            "vocab: ['ability' 'access' 'accuracy' 'accurate' 'adapt' 'additional'\n",
            " 'advancement' 'advice' 'algorithms' 'allows' 'also' 'amounts' 'and'\n",
            " 'answers' 'approach' 'appropriate' 'architectures' 'are' 'areas'\n",
            " 'artificial' 'as' 'associated' 'at' 'augmented' 'available' 'based' 'be'\n",
            " 'behind' 'benefits' 'bert' 'best' 'biases' 'bidirectional' 'both' 'built'\n",
            " 'but' 'by' 'can' 'capabilities' 'capable' 'challenge' 'challenges'\n",
            " 'coherent' 'combines' 'comes' 'complementing' 'complex' 'complexity'\n",
            " 'component' 'comprehend' 'computational' 'contained' 'contains' 'content'\n",
            " 'context' 'contextually' 'core' 'corpus' 'correct' 'correctness' 'create'\n",
            " 'crucial' 'current' 'data' 'database' 'databases' 'dataset' 'date'\n",
            " 'deeply' 'depth' 'detailed' 'details' 'determination' 'determined'\n",
            " 'direct' 'directly' 'documents' 'does' 'domains' 'dynamically' 'each'\n",
            " 'effectively' 'embeddings' 'encoder' 'enhance' 'enhancing' 'ensures'\n",
            " 'ensuring' 'errors' 'external' 'facts' 'factual' 'fed' 'fetch' 'fetched'\n",
            " 'field' 'final' 'find' 'first' 'fluency' 'fluent' 'for' 'form' 'frequent'\n",
            " 'from' 'furthermore' 'generate' 'generates' 'generating' 'generation'\n",
            " 'generative' 'given' 'gpt' 'grammatically' 'guided' 'happens' 'high'\n",
            " 'hybrid' 'implementations' 'in' 'include' 'incorporate' 'incorporated'\n",
            " 'incorporating' 'influenced' 'information' 'informative' 'innovatively'\n",
            " 'input' 'integrating' 'integration' 'integrator' 'intelligence'\n",
            " 'interpret' 'into' 'introducing' 'is' 'it' 'its' 'keyword' 'knowledge'\n",
            " 'language' 'large' 'latest' 'level' 'leverages' 'like' 'linguistic'\n",
            " 'maintaining' 'making' 'managing' 'matches' 'matching' 'meaning'\n",
            " 'measures' 'mechanism' 'medical' 'merges' 'merging' 'methodology' 'might'\n",
            " 'mixture' 'model' 'models' 'more' 'natural' 'need' 'needing' 'network'\n",
            " 'neural' 'new' 'nlp' 'not' 'now' 'nuanced' 'nuances' 'of' 'offers' 'on'\n",
            " 'only' 'or' 'other' 'output' 'outputs' 'overhead' 'part' 'particularly'\n",
            " 'pieces' 'points' 'potential' 'pre' 'precision' 'process' 'processed'\n",
            " 'processes' 'processing' 'produce' 'producing' 'prompt' 'prompts'\n",
            " 'provide' 'quality' 'query' 'rag' 'range' 'raw' 'real' 'realm' 'received'\n",
            " 'relevance' 'relevant' 'remain' 'remains' 'representations' 'represents'\n",
            " 'require' 'requirement' 'response' 'responses' 'responsible' 'retraining'\n",
            " 'retrievable' 'retrieval' 'retrieve' 'retrieved' 'rich' 'seamlessly'\n",
            " 'search' 'searches' 'semantic' 'significant' 'similar' 'similarity'\n",
            " 'simple' 'since' 'snippets' 'solely' 'some' 'sophisticated' 'sources'\n",
            " 'specific' 'standalone' 'store' 'strengths' 'substantial' 'summary'\n",
            " 'support' 'synthesizes' 'system' 'systems' 'tackle' 'tailored' 'tasks'\n",
            " 'technical' 'techniques' 'technologies' 'text' 'texts' 'textual' 'that'\n",
            " 'the' 'their' 'them' 'then' 'these' 'they' 'this' 'those' 'through'\n",
            " 'time' 'to' 'token' 'trained' 'training' 'transformer' 'transformers'\n",
            " 'trends' 'typically' 'understand' 'up' 'used' 'useful' 'uses' 'usually'\n",
            " 'utilize' 'various' 'vast' 'vector' 'vectorized' 'when' 'where' 'which'\n",
            " 'while' 'wide' 'with' 'within' 'without']\n",
            "     ability    access  accuracy  accurate     adapt  additional  advancement  \\\n",
            "0   0.000000  0.000000  0.000000  0.000000  0.000000    0.000000     0.000000   \n",
            "1   0.000000  0.000000  0.000000  0.216364  0.000000    0.000000     0.000000   \n",
            "2   0.000000  0.000000  0.000000  0.000000  0.000000    0.000000     0.000000   \n",
            "3   0.000000  0.000000  0.000000  0.000000  0.000000    0.000000     0.000000   \n",
            "4   0.000000  0.000000  0.000000  0.000000  0.000000    0.236479     0.000000   \n",
            "5   0.000000  0.000000  0.000000  0.000000  0.000000    0.000000     0.000000   \n",
            "6   0.000000  0.000000  0.000000  0.000000  0.000000    0.000000     0.000000   \n",
            "7   0.000000  0.000000  0.000000  0.000000  0.000000    0.000000     0.000000   \n",
            "8   0.000000  0.000000  0.000000  0.000000  0.000000    0.000000     0.000000   \n",
            "9   0.000000  0.000000  0.000000  0.000000  0.000000    0.000000     0.000000   \n",
            "10  0.186734  0.000000  0.000000  0.000000  0.000000    0.000000     0.000000   \n",
            "11  0.000000  0.000000  0.000000  0.000000  0.000000    0.000000     0.000000   \n",
            "12  0.000000  0.000000  0.000000  0.000000  0.000000    0.000000     0.000000   \n",
            "13  0.000000  0.000000  0.000000  0.000000  0.000000    0.000000     0.000000   \n",
            "14  0.000000  0.000000  0.000000  0.000000  0.000000    0.000000     0.000000   \n",
            "15  0.000000  0.172624  0.000000  0.000000  0.000000    0.000000     0.000000   \n",
            "16  0.000000  0.317970  0.000000  0.000000  0.000000    0.000000     0.000000   \n",
            "17  0.000000  0.000000  0.000000  0.206861  0.000000    0.000000     0.000000   \n",
            "18  0.000000  0.000000  0.000000  0.000000  0.000000    0.000000     0.000000   \n",
            "19  0.000000  0.000000  0.000000  0.000000  0.000000    0.000000     0.000000   \n",
            "20  0.000000  0.000000  0.000000  0.000000  0.275802    0.000000     0.000000   \n",
            "21  0.000000  0.000000  0.000000  0.000000  0.000000    0.000000     0.000000   \n",
            "22  0.000000  0.174772  0.000000  0.000000  0.000000    0.000000     0.000000   \n",
            "23  0.000000  0.000000  0.000000  0.000000  0.000000    0.000000     0.000000   \n",
            "24  0.000000  0.000000  0.000000  0.000000  0.000000    0.000000     0.000000   \n",
            "25  0.000000  0.000000  0.228743  0.000000  0.000000    0.000000     0.000000   \n",
            "26  0.000000  0.000000  0.000000  0.000000  0.000000    0.000000     0.173327   \n",
            "27  0.000000  0.000000  0.000000  0.000000  0.000000    0.000000     0.000000   \n",
            "\n",
            "      advice  algorithms    allows  ...    vector  vectorized      when  \\\n",
            "0   0.000000    0.000000  0.000000  ...  0.000000     0.00000  0.000000   \n",
            "1   0.000000    0.000000  0.000000  ...  0.000000     0.00000  0.000000   \n",
            "2   0.000000    0.000000  0.000000  ...  0.000000     0.00000  0.000000   \n",
            "3   0.000000    0.000000  0.000000  ...  0.000000     0.00000  0.000000   \n",
            "4   0.000000    0.000000  0.000000  ...  0.000000     0.00000  0.000000   \n",
            "5   0.000000    0.000000  0.000000  ...  0.000000     0.00000  0.000000   \n",
            "6   0.000000    0.000000  0.000000  ...  0.000000     0.00000  0.000000   \n",
            "7   0.000000    0.220687  0.000000  ...  0.000000     0.00000  0.000000   \n",
            "8   0.000000    0.000000  0.000000  ...  0.000000     0.00000  0.000000   \n",
            "9   0.000000    0.000000  0.000000  ...  0.000000     0.00000  0.000000   \n",
            "10  0.000000    0.000000  0.000000  ...  0.000000     0.00000  0.000000   \n",
            "11  0.000000    0.000000  0.000000  ...  0.000000     0.00000  0.295573   \n",
            "12  0.000000    0.000000  0.000000  ...  0.000000     0.00000  0.000000   \n",
            "13  0.000000    0.000000  0.000000  ...  0.200131     0.00000  0.000000   \n",
            "14  0.000000    0.000000  0.000000  ...  0.000000     0.00000  0.000000   \n",
            "15  0.000000    0.000000  0.000000  ...  0.000000     0.00000  0.000000   \n",
            "16  0.000000    0.000000  0.000000  ...  0.000000     0.00000  0.000000   \n",
            "17  0.000000    0.000000  0.000000  ...  0.000000     0.00000  0.000000   \n",
            "18  0.000000    0.000000  0.000000  ...  0.000000     0.00000  0.000000   \n",
            "19  0.244401    0.000000  0.000000  ...  0.000000     0.00000  0.000000   \n",
            "20  0.000000    0.000000  0.000000  ...  0.000000     0.00000  0.000000   \n",
            "21  0.000000    0.000000  0.291503  ...  0.000000     0.00000  0.000000   \n",
            "22  0.000000    0.000000  0.000000  ...  0.000000     0.00000  0.000000   \n",
            "23  0.000000    0.000000  0.000000  ...  0.000000     0.00000  0.000000   \n",
            "24  0.000000    0.000000  0.000000  ...  0.000000     0.00000  0.000000   \n",
            "25  0.000000    0.000000  0.000000  ...  0.000000     0.00000  0.000000   \n",
            "26  0.000000    0.000000  0.000000  ...  0.000000     0.00000  0.000000   \n",
            "27  0.000000    0.000000  0.000000  ...  0.307719     0.34589  0.000000   \n",
            "\n",
            "       where     which    while     wide      with    within   without  \n",
            "0   0.000000  0.000000  0.00000  0.00000  0.000000  0.260582  0.000000  \n",
            "1   0.000000  0.000000  0.00000  0.00000  0.160278  0.000000  0.000000  \n",
            "2   0.000000  0.000000  0.00000  0.00000  0.000000  0.000000  0.000000  \n",
            "3   0.000000  0.000000  0.00000  0.00000  0.000000  0.000000  0.000000  \n",
            "4   0.000000  0.000000  0.00000  0.00000  0.000000  0.000000  0.000000  \n",
            "5   0.000000  0.247710  0.00000  0.00000  0.000000  0.000000  0.000000  \n",
            "6   0.000000  0.000000  0.00000  0.00000  0.000000  0.000000  0.000000  \n",
            "7   0.000000  0.179053  0.00000  0.00000  0.000000  0.000000  0.000000  \n",
            "8   0.000000  0.000000  0.00000  0.00000  0.000000  0.000000  0.000000  \n",
            "9   0.000000  0.000000  0.00000  0.00000  0.000000  0.000000  0.000000  \n",
            "10  0.000000  0.000000  0.00000  0.00000  0.000000  0.000000  0.000000  \n",
            "11  0.000000  0.000000  0.00000  0.00000  0.000000  0.000000  0.000000  \n",
            "12  0.000000  0.000000  0.00000  0.00000  0.000000  0.000000  0.000000  \n",
            "13  0.000000  0.182517  0.00000  0.00000  0.000000  0.000000  0.000000  \n",
            "14  0.000000  0.000000  0.00000  0.00000  0.000000  0.000000  0.000000  \n",
            "15  0.189283  0.000000  0.00000  0.00000  0.000000  0.000000  0.000000  \n",
            "16  0.000000  0.000000  0.00000  0.00000  0.258278  0.000000  0.000000  \n",
            "17  0.000000  0.000000  0.00000  0.00000  0.000000  0.000000  0.000000  \n",
            "18  0.000000  0.000000  0.00000  0.00000  0.000000  0.000000  0.000000  \n",
            "19  0.217430  0.000000  0.00000  0.00000  0.000000  0.000000  0.000000  \n",
            "20  0.000000  0.000000  0.00000  0.00000  0.000000  0.000000  0.000000  \n",
            "21  0.000000  0.000000  0.00000  0.00000  0.192110  0.000000  0.291503  \n",
            "22  0.000000  0.000000  0.00000  0.21541  0.141963  0.000000  0.000000  \n",
            "23  0.000000  0.000000  0.32932  0.00000  0.217033  0.000000  0.000000  \n",
            "24  0.000000  0.000000  0.00000  0.00000  0.134513  0.000000  0.000000  \n",
            "25  0.000000  0.000000  0.00000  0.00000  0.000000  0.000000  0.000000  \n",
            "26  0.000000  0.000000  0.00000  0.00000  0.000000  0.000000  0.000000  \n",
            "27  0.000000  0.000000  0.00000  0.00000  0.000000  0.000000  0.000000  \n",
            "\n",
            "[28 rows x 297 columns]\n"
          ]
        }
      ]
    },
    {
      "cell_type": "code",
      "source": [
        "augmented_input = query + \":\" + best_record\n",
        "print_formatted_response(augmented_input)"
      ],
      "metadata": {
        "colab": {
          "base_uri": "https://localhost:8080/"
        },
        "id": "ZeNx6aPd16xV",
        "outputId": "ee5b2bd8-902b-414c-d900-334c3cb1dd06"
      },
      "execution_count": null,
      "outputs": [
        {
          "output_type": "stream",
          "name": "stdout",
          "text": [
            "Response:\n",
            "---------------\n",
            "tell me something about rag store:A RAG vector store is a database or dataset\n",
            "that contains vectorized data points.\n",
            "---------------\n"
          ]
        }
      ]
    },
    {
      "cell_type": "code",
      "source": [
        "llm_response = call_llm_with_self_prompt(augmented_input)\n",
        "print_formatted_response(llm_response)"
      ],
      "metadata": {
        "colab": {
          "base_uri": "https://localhost:8080/"
        },
        "id": "39u_8ikk2ITQ",
        "outputId": "b1a4cc29-123d-4185-ae82-d9cdbd662e3d"
      },
      "execution_count": null,
      "outputs": [
        {
          "output_type": "stream",
          "name": "stdout",
          "text": [
            "generate answer from prompt:tell me something about rag store:A RAG vector store is a database or dataset that contains vectorized data points.\n",
            "Response:\n",
            "---------------\n",
            "A RAG (Retrieval-Augmented Generation) vector store is a specialized database\n",
            "designed to store and manage vectorized data points. These data points are\n",
            "typically high-dimensional vectors that represent various forms of information,\n",
            "such as text, images, or other types of data that have been transformed into a\n",
            "numerical format suitable for machine learning and retrieval tasks.  Here are\n",
            "some key aspects of a RAG vector store:  1. **Vector Representation**: In a RAG\n",
            "vector store, data is stored in the form of vectors. These vectors are often\n",
            "generated using techniques such as word embeddings (e.g., Word2Vec, GloVe),\n",
            "sentence embeddings (e.g., BERT, Sentence-BERT), or other forms of feature\n",
            "extraction that convert raw data into a numerical format.  2. **Efficient\n",
            "Retrieval**: One of the primary purposes of a RAG vector store is to enable\n",
            "efficient retrieval of relevant data points based on similarity measures. This\n",
            "is typically achieved using techniques such as nearest neighbor search, which\n",
            "allows for quick identification of vectors that are similar to a given query\n",
            "vector.  3. **Augmented Generation**: In the context of RAG, the vector store is\n",
            "used to augment the generation process. For example, in natural language\n",
            "processing (NLP) tasks, a RAG model might retrieve relevant documents or\n",
            "passages from the vector store to provide context or additional information that\n",
            "can be used to generate more accurate and informative responses.  4.\n",
            "**Scalability**: RAG vector stores are designed to handle large volumes of data\n",
            "and support scalable retrieval operations. This often involves the use of\n",
            "specialized data structures and indexing techniques, such as KD-trees, ball\n",
            "trees, or approximate nearest neighbor (ANN) algorithms like HNSW (Hierarchical\n",
            "Navigable Small World) graphs.  5. **Integration with Machine Learning Models**:\n",
            "RAG vector stores are typically integrated with machine learning models that\n",
            "perform the retrieval and generation tasks. For example, a RAG model might use a\n",
            "transformer-based architecture for text generation, while relying on the vector\n",
            "store to retrieve relevant context or knowledge.  6. **Applications**: RAG\n",
            "vector stores have a wide range of applications, including question answering\n",
            "systems, chatbots, recommendation systems, and any other scenario where it is\n",
            "beneficial to retrieve and utilize relevant information to enhance the\n",
            "generation process.  In summary, a RAG vector store is a crucial component in\n",
            "systems that combine retrieval and generation tasks, enabling efficient and\n",
            "scalable access to vectorized data points to support various machine learning\n",
            "and information retrieval applications.\n",
            "---------------\n"
          ]
        }
      ]
    },
    {
      "cell_type": "code",
      "source": [
        "'''\n",
        "TF-IDF \"Term frequency-inverse document frequency\"\n",
        "\n",
        "TF(t, d) = (number of word t happends in d) / (total count of words in d)\n",
        "\n",
        "IDF(t) = log[(total number of doucments) / (number of the doucments containing the given word t)]\n",
        "\n",
        "TF-IDF = TF(t,d) * IDF(t)\n",
        "\n",
        "avoid effect terms: is , a , the\n",
        "'''\n",
        "\n",
        "import math\n",
        "from collections import Counter\n",
        "\n",
        "def compute_tf(doc):\n",
        "  word_count = Counter(doc)\n",
        "  total_terms = len(doc)\n",
        "  return {term : count / total_terms for term, count in word_count.items()}\n",
        "\n",
        "def compute_idf(all_docs):\n",
        "  total_docs = len(all_docs)\n",
        "  idf = {}\n",
        "  for doc in all_docs:\n",
        "    #using set to avoid repeation of term in doc\n",
        "    for term in set(doc):\n",
        "      #coumpute number of doc containing the given term\n",
        "      idf[term] = idf.get(term, 0) + 1\n",
        "\n",
        "  return {term: math.log(total_docs / count) for term, count in idf.items()}\n",
        "\n",
        "\n",
        "\n",
        "def compute_tf_idf(all_docs):\n",
        "  #TF-IDF = TF(t,d) * IDF(t)\n",
        "  tf_list = [compute_tf(doc) for doc in all_docs]\n",
        "  idf = compute_idf(all_docs)\n",
        "  tf_idf_list = []\n",
        "  for tf in tf_list:\n",
        "    tf_idf = {term: tf[term] * idf.get(term, 0) for term in tf}\n",
        "    tf_idf_list.append(tf_idf)\n",
        "\n",
        "  return tf_idf_list\n",
        "\n",
        "\n",
        "all_docs = [\n",
        "    [\"this\", \"is\", \"a\", \"sample\"],\n",
        "    [\"this\", \"is\", \"another\", \"example\", \"example\"]\n",
        "]\n",
        "\n",
        "\n",
        "tf_idf_scores = compute_tf_idf(all_docs)\n",
        "for i, doc_scores in enumerate(tf_idf_scores):\n",
        "  print(f\"document: {i+1} TF-IDF scores:\")\n",
        "  for term, score in doc_scores.items():\n",
        "    print(f\"{term}: {score: .4f}\")\n"
      ],
      "metadata": {
        "colab": {
          "base_uri": "https://localhost:8080/"
        },
        "id": "v1CaqhWsWE9W",
        "outputId": "c92ad31f-84a7-427a-baf1-b8bc6e5f319f"
      },
      "execution_count": null,
      "outputs": [
        {
          "output_type": "stream",
          "name": "stdout",
          "text": [
            "document: 1 TF-IDF scores:\n",
            "this:  0.0000\n",
            "is:  0.0000\n",
            "a:  0.1733\n",
            "sample:  0.1733\n",
            "document: 2 TF-IDF scores:\n",
            "this:  0.0000\n",
            "is:  0.0000\n",
            "another:  0.1386\n",
            "example:  0.2773\n"
          ]
        }
      ]
    },
    {
      "cell_type": "code",
      "source": [
        "all_docs = [\n",
        "    [\"this\", \"is\", \"a\", \"sample\", \"document\"],\n",
        "    [\"this\", \"document\", \"is\", \"another\", \"example\"],\n",
        "    [\"one\", \"more\", \"sample\", \"document\", \"example\"]\n",
        "]"
      ],
      "metadata": {
        "id": "Z-kW2NN5i8bU"
      },
      "execution_count": null,
      "outputs": []
    },
    {
      "cell_type": "code",
      "source": [
        "#1, compute tf-idf for each term in all docs, remove repeation of term in all docs and sort them\n",
        "idf = compute_idf(all_docs)\n",
        "print(f\"idf: {idf}\")\n",
        "\n",
        "vocab = sorted(idf.keys())\n",
        "print(f\"vocab: {vocab}\")"
      ],
      "metadata": {
        "colab": {
          "base_uri": "https://localhost:8080/"
        },
        "id": "aE1UF0pNjSm4",
        "outputId": "d916f788-6b1f-481b-c52a-36cef2862ff6"
      },
      "execution_count": null,
      "outputs": [
        {
          "output_type": "stream",
          "name": "stdout",
          "text": [
            "idf: {'this': 0.4054651081081644, 'document': 0.0, 'a': 1.0986122886681098, 'sample': 0.4054651081081644, 'is': 0.4054651081081644, 'another': 1.0986122886681098, 'example': 0.4054651081081644, 'more': 1.0986122886681098, 'one': 1.0986122886681098}\n",
            "vocab: ['a', 'another', 'document', 'example', 'is', 'more', 'one', 'sample', 'this']\n"
          ]
        }
      ]
    },
    {
      "cell_type": "code",
      "source": [
        "\"\"\"\n",
        "convert a document into a vector, take each word from vocab, if the given word appear in the given doc, then replace the word with its tf-idf value,\n",
        "at the given index of the vector, if the given word is not in the doc, then set the value at the given index 0\n",
        "\"\"\"\n",
        "def compute_tf_idf_vector(doc, idf):\n",
        "  tf = compute_tf(doc)\n",
        "  vec =  {term: tf[term] * idf.get(term, 0) for term in doc}\n",
        "  print(f\"doc: {doc}, and word to tf-idf value: {vec}\")\n",
        "  return vec\n",
        "\n",
        "def doc2vec(doc, idf):\n",
        "  vec = compute_tf_idf_vector(doc, idf)\n",
        "  vector = [vec.get(term, 0) for term in vocab]\n",
        "  return vector\n",
        "\n",
        "vectors = []\n",
        "for i, doc in enumerate(all_docs):\n",
        "  vec = doc2vec(doc, idf)\n",
        "  print(f\"vector of document {i+1} is {vec}\")\n",
        "  vectors.append(vec)\n"
      ],
      "metadata": {
        "colab": {
          "base_uri": "https://localhost:8080/"
        },
        "id": "6V_fmVi7jzFH",
        "outputId": "1ba116ac-101f-4ebb-9b63-b4d57967b2ce"
      },
      "execution_count": null,
      "outputs": [
        {
          "output_type": "stream",
          "name": "stdout",
          "text": [
            "doc: ['this', 'is', 'a', 'sample', 'document'], and word to tf-idf value: {'this': 0.08109302162163289, 'is': 0.08109302162163289, 'a': 0.21972245773362198, 'sample': 0.08109302162163289, 'document': 0.0}\n",
            "vector of document 1 is [0.21972245773362198, 0, 0.0, 0, 0.08109302162163289, 0, 0, 0.08109302162163289, 0.08109302162163289]\n",
            "doc: ['this', 'document', 'is', 'another', 'example'], and word to tf-idf value: {'this': 0.08109302162163289, 'document': 0.0, 'is': 0.08109302162163289, 'another': 0.21972245773362198, 'example': 0.08109302162163289}\n",
            "vector of document 2 is [0, 0.21972245773362198, 0.0, 0.08109302162163289, 0.08109302162163289, 0, 0, 0, 0.08109302162163289]\n",
            "doc: ['one', 'more', 'sample', 'document', 'example'], and word to tf-idf value: {'one': 0.21972245773362198, 'more': 0.21972245773362198, 'sample': 0.08109302162163289, 'document': 0.0, 'example': 0.08109302162163289}\n",
            "vector of document 3 is [0, 0, 0.0, 0.08109302162163289, 0, 0.21972245773362198, 0.21972245773362198, 0.08109302162163289, 0]\n"
          ]
        }
      ]
    },
    {
      "cell_type": "code",
      "source": [
        "\"\"\"\n",
        "3. for given word, we find its index number from vocab, and to to each document vector, get the value from the given index and combone\n",
        "all the values as vector for given word\n",
        "\"\"\"\n",
        "def get_word_vec(word):\n",
        "  word_index = vocab.index(word)\n",
        "  print(f\"word index for word: {word}  is {word_index}\")\n",
        "  word_vec = []\n",
        "  for vector in vectors:\n",
        "    val = vector[word_index]\n",
        "    word_vec.append(val)\n",
        "\n",
        "  return word_vec\n",
        "\n",
        "word = \"sample\"\n",
        "vec = get_word_vec(word)\n",
        "print(f\"vector for word: {word} is {vec}\")"
      ],
      "metadata": {
        "colab": {
          "base_uri": "https://localhost:8080/"
        },
        "id": "qGPnGFBol6Zi",
        "outputId": "6c447429-ec97-40de-edb1-6016bdd6c24b"
      },
      "execution_count": null,
      "outputs": [
        {
          "output_type": "stream",
          "name": "stdout",
          "text": [
            "word index for word: sample  is 7\n",
            "vector for word: sample is [0.08109302162163289, 0, 0.08109302162163289]\n"
          ]
        }
      ]
    },
    {
      "cell_type": "code",
      "source": [
        "\"\"\"\n",
        "consine similarity = (A.B) / ||A|| * ||B||\n",
        "A = (x1, y1), B = (x2, y2)\n",
        "A.B = x1 * x2 + y1 * y2\n",
        "||A|| = sqrt(x1**2 + y1**2)\n",
        "||B|| = sqrt(x2**2 + y2**2)\n",
        "\"\"\"\n",
        "\n",
        "import math\n",
        "def dot_product(v1, v2):\n",
        "  return sum(x * y for x,y in zip(v1, v2))\n",
        "\n",
        "\n",
        "def norm(vec):\n",
        "  return math.sqrt(sum(x**2 for x in vec))\n",
        "\n",
        "def consin_similarity(v1, v2):\n",
        "  dot = dot_product(v1,v2)\n",
        "  norm1 = norm(v1)\n",
        "  norm2 = norm(v2)\n",
        "  if norm1 == 0 or norm2 == 0:\n",
        "    return 0.0\n",
        "  return dot / (norm1 * norm2)\n",
        "\n",
        "word1 = \"sample\"\n",
        "word2 = \"example\"\n",
        "v1 = get_word_vec(word1)\n",
        "v2 = get_word_vec(word2)\n",
        "\n",
        "print(f\"v1:{v1}\")\n",
        "print(f\"v2:{v2}\")\n",
        "\n",
        "sim = consin_similarity(v1, v2)\n",
        "print(f\"consin similarity is :{sim}\")"
      ],
      "metadata": {
        "colab": {
          "base_uri": "https://localhost:8080/"
        },
        "id": "ZqS0B94FtbxA",
        "outputId": "50c68171-c8cd-4e6d-e30f-f9abae7af206"
      },
      "execution_count": null,
      "outputs": [
        {
          "output_type": "stream",
          "name": "stdout",
          "text": [
            "word index for word: sample  is 7\n",
            "word index for word: example  is 3\n",
            "v1:[0.08109302162163289, 0, 0.08109302162163289]\n",
            "v2:[0, 0.08109302162163289, 0.08109302162163289]\n",
            "consin similarity is :0.5000000000000001\n"
          ]
        }
      ]
    },
    {
      "cell_type": "code",
      "source": [
        "from sklearn.feature_extraction.text import TfidfVectorizer\n",
        "import numpy as np\n",
        "\n",
        "all_docs = [\n",
        "    \"this is a sample document\",\n",
        "    \"this document is another example\",\n",
        "    \"one more sample document example\"\n",
        "]\n",
        "\n",
        "#vectorizer = TfidfVectorizer()\n",
        "vectorizer = TfidfVectorizer(stop_words=\"english\", use_idf=True, norm='l2', ngram_range=(1,2), sublinear_tf=True, analyzer='word')\n",
        "#convert each document to vector\n",
        "doc_vecs = vectorizer.fit_transform(all_docs)\n",
        "\n",
        "#print(f\"doc_vecs[0:1]: {doc_vecs[0:1]}\")\n",
        "\n",
        "\"\"\"\n",
        "(0,7) 0.24377684733151028 means for the matrix, the value of cell with row 0, column 7\n",
        "is 24377684733151028, if not cell metioned here, then its value is 0\n",
        "\"\"\"\n",
        "print(f\"document vecs : {doc_vecs}\")\n",
        "\n",
        "doc_dense_vecs = doc_vecs.todense()\n",
        "print(f\"dense vecs: {doc_dense_vecs}\")\n",
        "\n"
      ],
      "metadata": {
        "colab": {
          "base_uri": "https://localhost:8080/"
        },
        "id": "OGc8LDCRvjm5",
        "outputId": "77ac2f67-d226-434d-8ccf-1740c8f78719"
      },
      "execution_count": null,
      "outputs": [
        {
          "output_type": "stream",
          "name": "stdout",
          "text": [
            "document vecs :   (0, 3)\t0.6198053799406072\n",
            "  (0, 0)\t0.48133416873660545\n",
            "  (0, 4)\t0.6198053799406072\n",
            "  (1, 0)\t0.48133416873660545\n",
            "  (1, 2)\t0.6198053799406072\n",
            "  (1, 1)\t0.6198053799406072\n",
            "  (2, 3)\t0.46609584262774545\n",
            "  (2, 0)\t0.3619650009883935\n",
            "  (2, 4)\t0.46609584262774545\n",
            "  (2, 2)\t0.46609584262774545\n",
            "  (2, 1)\t0.46609584262774545\n",
            "dense vecs: [[0.48133417 0.         0.         0.61980538 0.61980538]\n",
            " [0.48133417 0.61980538 0.61980538 0.         0.        ]\n",
            " [0.361965   0.46609584 0.46609584 0.46609584 0.46609584]]\n"
          ]
        }
      ]
    },
    {
      "cell_type": "code",
      "source": [
        "#vectorizer = TfidfVectorizer()\n",
        "vectorizer = TfidfVectorizer(stop_words=\"english\", use_idf=True, norm='l2', ngram_range=(1,2), sublinear_tf=True, analyzer='word')\n",
        "#convert each document to vector\n",
        "doc_vecs = vectorizer.fit_transform(all_docs)\n",
        "\n",
        "#print(f\"doc_vecs[0:1]: {doc_vecs[0:1]}\")\n",
        "\n",
        "\"\"\"\n",
        "(0,7) 0.24377684733151028 means for the matrix, the value of cell with row 0, column 7\n",
        "is 24377684733151028, if not cell metioned here, then its value is 0\n",
        "\"\"\"\n",
        "print(f\"document vecs : {doc_vecs}\")\n",
        "\n",
        "doc_dense_vecs = doc_vecs.todense()\n",
        "print(f\"dense vecs: {doc_dense_vecs}\")"
      ],
      "metadata": {
        "colab": {
          "base_uri": "https://localhost:8080/"
        },
        "id": "PjF1sgmjCFKq",
        "outputId": "c8853fb9-5bdf-4004-e663-9f8e1c1ccedf"
      },
      "execution_count": null,
      "outputs": [
        {
          "output_type": "stream",
          "name": "stdout",
          "text": [
            "document vecs :   (0, 3)\t0.6198053799406072\n",
            "  (0, 0)\t0.48133416873660545\n",
            "  (0, 4)\t0.6198053799406072\n",
            "  (1, 0)\t0.48133416873660545\n",
            "  (1, 2)\t0.6198053799406072\n",
            "  (1, 1)\t0.6198053799406072\n",
            "  (2, 3)\t0.46609584262774545\n",
            "  (2, 0)\t0.3619650009883935\n",
            "  (2, 4)\t0.46609584262774545\n",
            "  (2, 2)\t0.46609584262774545\n",
            "  (2, 1)\t0.46609584262774545\n",
            "dense vecs: [[0.48133417 0.         0.         0.61980538 0.61980538]\n",
            " [0.48133417 0.61980538 0.61980538 0.         0.        ]\n",
            " [0.361965   0.46609584 0.46609584 0.46609584 0.46609584]]\n"
          ]
        }
      ]
    },
    {
      "cell_type": "code",
      "source": [
        "vocab = vectorizer.get_feature_names_out()\n",
        "print(f\"vocab: {vocab}\")"
      ],
      "metadata": {
        "colab": {
          "base_uri": "https://localhost:8080/"
        },
        "id": "AjAzeZpNxyEd",
        "outputId": "fd40e854-035f-41da-b868-a9f70ccd3d4e"
      },
      "execution_count": null,
      "outputs": [
        {
          "output_type": "stream",
          "name": "stdout",
          "text": [
            "vocab: ['another' 'document' 'example' 'is' 'more' 'one' 'sample' 'this']\n"
          ]
        }
      ]
    },
    {
      "cell_type": "code",
      "source": [
        "for i, doc_vec in enumerate(doc_dense_vecs):\n",
        "  print(f\"doc : {i+1} with TF-IDF scores: {doc_vec}\")"
      ],
      "metadata": {
        "colab": {
          "base_uri": "https://localhost:8080/"
        },
        "id": "VyJiimo2x9c6",
        "outputId": "98344c99-7fea-4e1a-92a1-780edd566d26"
      },
      "execution_count": null,
      "outputs": [
        {
          "output_type": "stream",
          "name": "stdout",
          "text": [
            "doc : 1 with TF-IDF scores: [[0.         0.40912286 0.         0.52682017 0.         0.\n",
            "  0.52682017 0.52682017]]\n",
            "doc : 2 with TF-IDF scores: [[0.56943086 0.33631504 0.43306685 0.43306685 0.         0.\n",
            "  0.         0.43306685]]\n",
            "doc : 3 with TF-IDF scores: [[0.         0.31544415 0.40619178 0.         0.53409337 0.53409337\n",
            "  0.40619178 0.        ]]\n"
          ]
        }
      ]
    },
    {
      "cell_type": "code",
      "source": [
        "word = \"example\"\n",
        "word_index = vectorizer.vocabulary_.get(word)\n",
        "print(f\"index for word: {word} is : {word_index}\")\n",
        "if word_index is not None:\n",
        "  print(f\"\\n vector for word:{word}\")\n",
        "  print(doc_dense_vecs[:,word_index])"
      ],
      "metadata": {
        "colab": {
          "base_uri": "https://localhost:8080/"
        },
        "id": "0qI-Y1i6yYca",
        "outputId": "ee50d440-7a76-41b8-99b0-3ed8fd3deda0"
      },
      "execution_count": null,
      "outputs": [
        {
          "output_type": "stream",
          "name": "stdout",
          "text": [
            "index for word: example is : 2\n",
            "\n",
            " vector for word:example\n",
            "[[0.        ]\n",
            " [0.43306685]\n",
            " [0.40619178]]\n"
          ]
        }
      ]
    },
    {
      "cell_type": "code",
      "source": [
        "from sklearn.metrics.pairwise import cosine_similarity\n",
        "word_example_vec = np.asarray(doc_dense_vecs[:, word_index]).T\n",
        "print(f\"vec1 for example vector after flattern: {word_example_vec}\")\n",
        "\n",
        "word = \"sample\"\n",
        "word_index = vectorizer.vocabulary_.get(word)\n",
        "word_example_vec1 = np.asarray(doc_dense_vecs[:, word_index]).T\n",
        "print(f\"vec2 for example vector after flattern: {word_example_vec1}\")\n",
        "\n",
        "similarity = cosine_similarity(word_example_vec, word_example_vec1)\n",
        "print(f\"similarity is :{similarity}\")"
      ],
      "metadata": {
        "colab": {
          "base_uri": "https://localhost:8080/"
        },
        "id": "Jw-2FEvxy6fG",
        "outputId": "f0c372b4-7514-4ace-a88e-7bc1deee0c09"
      },
      "execution_count": null,
      "outputs": [
        {
          "output_type": "stream",
          "name": "stdout",
          "text": [
            "vec1 for example vector after flattern: [[0.         0.43306685 0.40619178]]\n",
            "vec2 for example vector after flattern: [[0.52682017 0.         0.40619178]]\n",
            "similarity is :[[0.41772158]]\n"
          ]
        }
      ]
    },
    {
      "cell_type": "code",
      "source": [
        "import spacy\n",
        "import nltk\n",
        "nltk.download('wordnet')\n",
        "from nltk.corpus import wordnet\n",
        "from collections import Counter\n",
        "import numpy as np\n",
        "\n",
        "nlp = spacy.load(\"en_core_web_sm\")\n",
        "\n",
        "def get_synoyms(word):\n",
        "  synonyms = set()\n",
        "  for syn in wordnet.synsets(word):\n",
        "    for lemma in syn.lemmas():\n",
        "      #print(lemma.name())\n",
        "      synonyms.add(lemma.name())\n",
        "  return synonyms\n",
        "\n",
        "#sym = get_synoyms(\"rag\")\n",
        "#print(sym)\n",
        "\n",
        "def preprocess_text(text):\n",
        "  doc = nlp(text.lower())\n",
        "  lemmatized_words = []\n",
        "  for token in doc:\n",
        "    if token.is_stop or token.is_punct:\n",
        "      print(f\"stop or punct: {token}\")\n",
        "      continue\n",
        "    lemmatized_words.append(token.lemma_)\n",
        "    print(f\"token.lemma_: {token.lemma_}\")\n",
        "\n",
        "  return lemmatized_words\n",
        "\n",
        "def expand_with_synoyms(words):\n",
        "  expanded_words = words.copy()\n",
        "  for word in words:\n",
        "    expanded_words.extend(get_synoyms(word))\n",
        "  return expanded_words\n",
        "\n",
        "words = preprocess_text(\"please tell me what's rag\")\n",
        "print(f\"preprocess text: {words}\")\n",
        "expanded_words = expand_with_synoyms(words)\n",
        "print(expanded_words)"
      ],
      "metadata": {
        "colab": {
          "base_uri": "https://localhost:8080/"
        },
        "id": "REB5wlzrOWIz",
        "outputId": "57baba09-2111-46de-b68b-3cf20d0ea796"
      },
      "execution_count": null,
      "outputs": [
        {
          "output_type": "stream",
          "name": "stderr",
          "text": [
            "[nltk_data] Downloading package wordnet to /root/nltk_data...\n",
            "[nltk_data]   Package wordnet is already up-to-date!\n"
          ]
        },
        {
          "output_type": "stream",
          "name": "stdout",
          "text": [
            "stop or punct: please\n",
            "token.lemma_: tell\n",
            "stop or punct: me\n",
            "stop or punct: what\n",
            "stop or punct: 's\n",
            "token.lemma_: rag\n",
            "preprocess text: ['tell', 'rag']\n",
            "['tell', 'rag', 'assure', 'distinguish', 'tell_apart', 'order', 'state', 'William_Tell', 'enjoin', 'separate', 'tell', 'severalise', 'secern', 'say', 'Tell', 'evidence', 'differentiate', 'severalize', 'narrate', 'recite', 'recount', 'secernate', 'ragtime', 'scold', 'annoy', 'lambast', 'tantalize', 'taunt', 'rebuke', 'trounce', 'bother', 'razz', 'call_down', 'vex', 'chafe', 'dun', 'chew_up', 'shred', 'chew_out', 'bedevil', 'berate', 'tabloid', 'sheet', 'tag_end', 'rally', 'reprimand', 'nettle', 'bawl_out', 'tease', 'reproof', 'twit', 'call_on_the_carpet', 'frustrate', 'bait', 'dress_down', 'take_to_task', 'tatter', 'torment', 'gravel', 'chide', 'nark', 'get_to', 'tag', 'ride', 'irritate', 'rile', 'cod', 'devil', 'rag_week', 'jaw', 'rag', 'lambaste', 'lecture', 'remonstrate', 'crucify', 'get_at', 'tantalise', 'have_words']\n"
          ]
        }
      ]
    },
    {
      "cell_type": "code",
      "source": [
        "from langchain_core.runnables import Runnable\n",
        "class TaskA(Runnable):\n",
        "  def invoke(self, input, context=None):\n",
        "    return input + \" a\"\n",
        "\n",
        "class TaskBeautify(Runnable):\n",
        "  def invoke(self, input, context=None):\n",
        "    return input + \" beautiful\"\n",
        "\n",
        "class TaskDay(Runnable):\n",
        "  def invoke(self, input, context=None):\n",
        "    return input + \" day!\"\n",
        "\n",
        "task_a = TaskA()\n",
        "task_beautiful = TaskBeautify()\n",
        "task_day = TaskDay()\n",
        "\n",
        "\"|\"\n",
        "rag_chain = task_a | task_beautiful | task_day\n",
        "res = rag_chain.invoke(\"what\")\n",
        "print(res)\n",
        "\n",
        "class DoNothing(Runnable):\n",
        "  def invoke(self, input, context=None):\n",
        "    return input\n",
        "# => RunnablePassThrough"
      ],
      "metadata": {
        "colab": {
          "base_uri": "https://localhost:8080/"
        },
        "id": "poVcJItnZbN8",
        "outputId": "6179c0ff-2366-4776-a609-3ab35be0d4b7"
      },
      "execution_count": null,
      "outputs": [
        {
          "output_type": "stream",
          "name": "stdout",
          "text": [
            "what a beautiful day!\n"
          ]
        }
      ]
    },
    {
      "cell_type": "code",
      "source": [
        "from langchain_core.runnables import RunnablePassthrough\n",
        "input_data = {\"msg\": \"this is a test\"}\n",
        "passthrough =  RunnablePassthrough()\n",
        "res = passthrough.invoke(input_data)\n",
        "print(res)\n",
        "\n",
        "def context_func(input):\n",
        "  return f\"output from context func: {input}\"\n",
        "\n",
        "assgin = RunnablePassthrough().assign(context = context_func)\n",
        "assign_res = assgin.invoke(input_data)\n",
        "print(f\"assign res: {assign_res}\")"
      ],
      "metadata": {
        "colab": {
          "base_uri": "https://localhost:8080/"
        },
        "id": "nJ7e16Hiadbq",
        "outputId": "15c7fadc-c4ea-4b92-eabd-888680972f01"
      },
      "execution_count": null,
      "outputs": [
        {
          "output_type": "stream",
          "name": "stdout",
          "text": [
            "{'msg': 'this is a test'}\n",
            "assign res: {'msg': 'this is a test', 'context': \"output from context func: {'msg': 'this is a test'}\"}\n"
          ]
        }
      ]
    },
    {
      "cell_type": "code",
      "source": [
        "def task1(input):\n",
        "  return f\"task1: {input}\"\n",
        "\n",
        "def task2(input):\n",
        "  return f\"task2: {input}\"\n",
        "\n",
        "passthrough = RunnablePassthrough()\n",
        "rag_chain = passthrough | task1 | task2\n",
        "res = rag_chain.invoke(\"beginning....\")\n",
        "print(res)"
      ],
      "metadata": {
        "colab": {
          "base_uri": "https://localhost:8080/"
        },
        "id": "eR0KjDx6bu4S",
        "outputId": "5f87eac8-85fe-4767-f860-751d29b42351"
      },
      "execution_count": null,
      "outputs": [
        {
          "output_type": "stream",
          "name": "stdout",
          "text": [
            "task2: task1: beginning....\n"
          ]
        }
      ]
    },
    {
      "cell_type": "code",
      "source": [
        "from langchain_core.runnables import RunnableParallel, RunnableMap\n",
        "\n",
        "class Task1(Runnable):\n",
        "  def invoke(self, input, context = None):\n",
        "    return f\"task1: {input}\"\n",
        "\n",
        "class Task2(Runnable):\n",
        "  def invoke(self, input, context = None):\n",
        "    return f\"task2: {input}\"\n",
        "\n",
        "pipeline = RunnableParallel({\n",
        "    \"task1\": Task1(),\n",
        "    \"task2\": Task2(),\n",
        "})\n",
        "\n",
        "input_data = \"input data\"\n",
        "output_data = pipeline.invoke(\"input_data\")\n",
        "print(output_data)"
      ],
      "metadata": {
        "colab": {
          "base_uri": "https://localhost:8080/"
        },
        "id": "4YR7SB7PcTxg",
        "outputId": "c3feee0c-1e07-4aad-c9e8-5e7e9ac9775d"
      },
      "execution_count": null,
      "outputs": [
        {
          "output_type": "stream",
          "name": "stdout",
          "text": [
            "{'task1': 'task1: input_data', 'task2': 'task2: input_data'}\n"
          ]
        }
      ]
    },
    {
      "cell_type": "code",
      "source": [
        "'''\n",
        "scrap content from page by a url, after getting the content, we will extract some content with its element set with css class of\n",
        "post-content, post-tile, post-header\n",
        "'''\n",
        "loader = WebBaseLoader(web_paths=(\"https://kbourne.github.io/chapter1.html\",), bs_kwargs=dict(parse_only=bs4.SoupStrainer(\n",
        "    class_=(\"post-content\", \"post-title\", \"post-header\")\n",
        ")))\n",
        "docs = loader.load()\n",
        "print(docs)"
      ],
      "metadata": {
        "colab": {
          "base_uri": "https://localhost:8080/"
        },
        "id": "55C-9Ccx8SKu",
        "outputId": "70ee04c8-c0cc-4342-e08e-b06c9283ac21"
      },
      "execution_count": null,
      "outputs": [
        {
          "output_type": "stream",
          "name": "stdout",
          "text": [
            "[Document(metadata={'source': 'https://kbourne.github.io/chapter1.html'}, page_content='\\n\\n      Introduction to Retrieval Augmented Generation (RAG)\\n    \\nDate: March 10, 2024  |  Estimated Reading Time: 15 min  |  Author: Keith Bourne\\n\\n  In the rapidly evolving field of artificial intelligence, Retrieval-Augmented Generation (RAG) is emerging as a significant addition to the Generative AI toolkit. RAG harnesses the strengths of Large Language Models (LLMs) and integrates them with internal data, offering a method to enhance organizational operations significantly. This book delves into the essential aspects of RAG, examining its role in augmenting the capabilities of LLMs and leveraging internal corporate data for strategic advantage.\\nAs it progresses, the book outlines the potential of RAG in business, suggesting how it can make AI applications smarter, more responsive, and aligned with organizational objectives. RAG is positioned as a key facilitator of customized, efficient, and insightful AI solutions, bridging the gap between Generative AI\\'s potential and specific business needs. This exploration of RAG encourages readers to unlock the full potential of their corporate data, paving the way for an era of AI-driven innovation.\\n\\nWhat You Can Expect to Learn#\\nExpect to launch a comprehensive journey to understand and effectively incorporate Retrieval Augmented Generation (RAG) into AI systems. You\\'ll explore a broad spectrum of essential topics, including vector databases, the vectorization process, vector search techniques, prompt engineering and design, and the use of AI agents for RAG applications, alongside methods for evaluating and visualizing RAG outcomes. Through practical, working code examples utilizing the latest tools and technologies like LangChain and Chroma\\'s vector database, you\\'ll gain hands-on experience in implementing RAG in your projects.\\nAt the outset, you\\'ll delve into the core principles of RAG, appreciating its significance in the broader landscape of Generative AI. This foundational knowledge equips you with the perspective needed to discern how RAG applications are designed and why they succeed, paving the way for innovative solution development and problem-solving in AI.\\nYou\\'ll discover the symbiosis between Large Language Models (LLMs) and internal data to bolster organizational operations. By learning about the intricacies of this integration, particularly the process of vectorization, including the creation and management of vector databases for efficient information retrieval, you\\'ll gain crucial skills for navigating and harnessing vast data landscapes effectively in today\\'s data-driven environments.\\nGain expertise in vector search techniques, an essential skill set for identifying pertinent data within extensive datasets. Coupled with this, you\\'ll learn strategies for prompt engineering and design, ensuring that you can craft queries that elicit precise and relevant AI responses.\\nExplore how AI agents play a pivotal role in RAG applications, facilitating sophisticated data interaction and retrieval tasks. You\\'ll also learn methods for evaluating and visualizing RAG implementation outcomes, providing a framework for assessing performance and impact critically.\\nThroughout this journey, you\\'ll engage in practical, hands-on learning, guided through the use of cutting-edge tools like LangChain and Chroma\\'s vector database, supported by real, working code examples. These detailed coding demonstrations, grounded in current frameworks, offer a practical foray into implementing RAG in AI systems, providing a rich learning experience.\\nCase studies and coding exercises strategically interspersed throughout your learning path highlight the application of RAG in various real-world scenarios. These insights into addressing common and complex challenges prepare you to navigate the application of RAG across diverse settings with confidence.  The code will build off the same starting use case provided in the next chapter.  For each topic that relates to code, we will add code that shows how that topic impacts the RAG pipeline, giving you an in-depth understanding about how your coding choices can impact the capabilities of your RAG-based application.\\nYou\\'ll also explore optimization strategies for data retrieval and enhancing the interpretability of AI-generated content. These insights are pivotal for improving the usability and effectiveness of AI applications, ensuring they are more aligned with strategic business objectives and user needs.\\nAs you progress, you\\'ll gain a deeper understanding of how RAG can revolutionize AI applications, making them more intelligent, responsive, and tailored to specific requirements. The potential of RAG to facilitate personalized, efficient, and insightful AI solutions is thoroughly examined, bridging the theoretical and practical divides.\\nThroughout this learning experience, a spirit of exploration and experimentation is encouraged, aiming to unlock the full potential of data through RAG, fostering innovation, and advancing the domain of AI-driven solutions. By the end, you will have gained comprehensive knowledge and practical skills in RAG, equipping you to contribute to the evolution of AI technologies and applications in your business and beyond.\\nUnderstanding RAG: Basics and Principles#\\nModern day large language models (LLM) are impressive, but they have never seen your company’s private data (hopefully!).  This means the ability of an LLM to help your company fully utilize its own data is very limited.  This very large barrier has given rise to the concept of Retrieval Augmented Generation (RAG), where you are using the power and capabilities of the LLM, but combining it with the knowledge and data contained within your company’s internal data repositories.  This is the primary motivation for using RAG, to make new data available to the LLM and significantly increase the value you can extract from that data.  Beyond internal data, it is also useful in cases where the LLM has not been trained on the data, even if it is public, like the most recent research papers or articles about a topic that is strategic to your company.  In both cases, we are talking about data that was not present during the training of the LLM.  You can have the latest LLM trained on the most tokens ever, exceeding 10 trillion, but if that data was not present for the training, then the LLM will be at a disadvantage to help you reach your full productivity.\\n\\nUltimately, this highlights the fact that for most organizations, connecting to data an LLM is not yet familiar with is a central need for them to fully utilize that LLM.  RAG is the most popular paradigm for doing this.  This book focuses on showing you how to set up a RAG application with your data, as well as how to get the most out of it in various situations.  I intend to give you an in-depth understanding of RAG and its importance in leveraging LLM within the context of a company\\'s private or specific data needs.\\n\\nAdvantages of RAG#\\nPotential advantages of using RAG include improved accuracy and relevance, customization, flexibility, and expanding the model’s knowledge beyond the training data.  Here is each advantage more thoroughly explored:\\n\\nImproved Accuracy and Relevance: RAG can significantly enhance the accuracy and relevance of responses that are generated by large language models (LLMs). RAG fetches and incorporates specific information from a database or dataset, typically in real time, and ensures that the output is based on both the model’s pre-existing knowledge and the most current and relevant data that you are providing directly.\\n\\nCustomization and Flexibility: RAG can customize its responses based on your domain specific needs. By integrating a company\\'s internal databases into the model\\'s response generation process, RAG allows for outputs that are tailored to the unique context and requirements of the business. This level of customization is invaluable for creating personalized experiences and for applications requiring a high degree of specificity and detail.\\n\\nExpanding Model Knowledge Beyond Training Data: LLMs are limited by the scope of their training data. RAG overcomes this limitation by enabling models to access and utilize information that was not included in their initial training sets. This effectively expands the knowledge base of the model without the need for retraining, making LLMs more versatile and adaptable to new domains or rapidly evolving topics.\\n\\nLimitations of RAG#\\nBut there are some limitations to using RAG, which include dependency on the quality of the internal data, computational overhead, more complex integrations, and the potential for information overload.\\nDependency on Data Quality: \\nWhen talking about how data can impact an AI model, the saying in data science circles is “garbage in, garbage out.”  Meaning, if you give a model bad data, it will give you bad results.  RAG is no different. The effectiveness of RAG is directly tied to the quality of the data it retrieves. If the underlying database or dataset contains outdated, biased, or inaccurate information, the outputs generated by RAG will likely suffer from the same issues. \\n\\nNeed for Data Manipulation and Cleaning:\\nData in the recesses of the company often has a lot of value to it, but it is not often in good, accessible shape.  For example, data from PDF-based customer statements needs a lot of massaging to get into a format that can be useful to a RAG pipeline.\\n\\nComputational Overhead: \\nA RAG pipeline introduces a host of new computational steps into the response generation process, including data retrieval, processing, and integration.  LLMs are getting faster every day, but even the fastest response can be more than a second, and some can take several seconds.  If you combine that with other data processing steps, and possibly multiple LLM calls, the result can be a very significant increase in the time it takes to receive a response.  This all leads to increased computational overhead, affecting the efficiency and scalability of the entire system. As with any other IT initiative, an organization must balance the benefits of enhanced accuracy and customization against the resource requirements and potential latency introduced by these additional processes. \\n\\nData Storage Explosion: Complexity in Integration and Maintenance: \\nTraditionally, your data resides in a data source which is queried in various ways to be made available to your internal and external systems.  But with RAG, your data resides in multiple forms and locations, such as vectors in a vector database, that represent the same data, but in a different format. Add in the complexity of connecting these various data sources to LLMs and relevant technical mechanisms like vector searches, and you have a significant increase in complexity.  This increased complexity can be resource-intensive. Maintaining this integration over time, especially as data sources evolve or expand, adds even more complexity and cost. Organizations need to invest in technical expertise and infrastructure to effectively leverage RAG capabilities while accounting for the rapid increase in complexities these systems bring with them.\\n\\nPotential for Information Overload: \\nIt is very possible for RAG-based systems to pull in too much information.  It is just as important to implement mechanisms to address this issue as it is to handle times when not enough relevant information is found.  Determining the relevance and importance of retrieved information to be included in the final output requires sophisticated filtering and ranking mechanisms. Without these, the quality of the generated content could be compromised by an excess of unnecessary or marginally relevant details.\\n\\nRAG Vocabulary#\\nNow is as good a time as any to review some vocabulary that should help you get familiar with the various concepts in RAG.  This is not an exhaustive list, but understanding these core concepts should help you understand everything else we teach you about RAG in a more effective way:\\nLarge Language Model (LLM)\\nMost of this book will deal with LLMs.  LLMs are generative AI technologies that focus on generating text.  There are also generative models that generate images from text prompts, while others generate video from text prompts.  There are other models that generate text descriptions from images.  We will talk about these other types of models in Chapter 16, Going Beyond the LLM.  But for most of the book, I felt it would keep things simple and let you focus on the core principles of RAG if we focus on the type of model that most RAG pipelines use, the LLM.  But I did want to make sure it was clear, that while the book focuses primarily on LLMs, RAG can also be applied to other types of generative models, such as those for images and videos.\\n\\nSome popular examples of LLMs are the OpenAI ChatGPT models, the Meta LLaMA models, Google’s PaLM and Gemini models, and Anthropic’s Claude models.\\nFoundation model\\nA foundation model is the base model for most LLMs.  In the case of ChatGPT, the foundation model is based on the GPT (Generative Pre-trained Transformer) architecture, and it was fine-tuned for Chat. The specific model used for ChatGPT is not publicly disclosed.  The base GPT model cannot talk with you in chatbot-style like ChatGPT does.  It had to get further trained to gain that skill.  But there are many other skills these foundation models can be fine-tuned for.  LLaMA 2 is a foundation model and because it is open source, there are many spin offs that have been fine-tuned for many applications, such as medical research and conversation.  Most of the models we talk about are very close to foundation models, but will likely be fine-tuned for at least conversational capabilities. \\n\\nParameters and Biases\\nWe are trying to keep our focus on RAG primarily in this book, but it will be helpful for you to understand what parameters and biases are in LLM models. In machine learning models in general, including LLMs, parameters and biases are the learnable variables that the model adjusts during the training process to improve its performance on a given task. Parameters are the weights associated with the connections between neurons in the model\\'s architecture. These weights determine the strength and importance of each connection and are updated during training to minimize the difference between the model\\'s predictions and the expected outputs. Biases, on the other hand, are additional values added to the weighted sum of inputs at each neuron. They help the model learn an offset or shift in the data, allowing for more flexibility in fitting the training data. Together, parameters and biases form the learnable components of the model that are fine-tuned using the training data to improve the model\\'s performance on specific tasks or domains.\\n\\nUnderstanding parameters and biases is important in the context of RAG because the process of training and fine-tuning LLMs involves adjusting these variables. I mention foundation models, where the initial training involves setting these parameters and biases. However, fine-tuning an LLM by further adjusting its parameters and biases can significantly impact its performance and behavior within a RAG pipeline. By adapting the model to specific domains, writing styles, or tasks, you can improve the accuracy and relevance of the LLM\\'s responses when it is used to generate output based on the retrieved information. This, in turn, can lead to better overall performance of the RAG system in terms of providing more useful and context-appropriate answers to user queries. Therefore, choosing an LLM that is properly fine-tuned for your domain, or applying the fine-tuning yourself, is crucial for optimizing the most important element of your RAG pipeline.\\nPrompting, Prompt Design, Prompt Engineering\\nThese terms are sometimes used interchangeably, but technically, while they all have to do with prompting, they do have fairly different meanings. Prompting is the act of sending a query or “prompt” into an LLM.  Prompt design refers to the strategy you take to “design” the prompt you will send to the LLM.  There are many different prompt design strategies that work in different scenarios, and we will review many of these in Chapter 13, Utilizing Prompt Engineering to Improve RAG Efforts.  We will also review prompt engineering in chapter 13.  Prompt engineering focuses more on the technical aspects surrounding the prompt that you use to improve the outputs from the LLM.  For example, you may break up a complex query into two or three different LLM interactions, “engineering” it better to achieve superior results.\\n\\nInference\\nWe will use the term ‘inference’ from time to time.  Generally, this refers to the process of the LLM generating outputs or predictions based on given inputs using a pre-trained language model.  But a key aspect of inference is that with an LLM, particularly with the cloud-based providers, you are charged based on the inference.  \\n\\nContext Window\\nA context window, in the context of LLMs, refers to the maximum number of tokens (words, subwords, or characters) that the model can process as input or generate as output in a single pass. It determines the amount of text the model can \"see\" or \"attend to\" at once when making predictions or generating responses.\\n\\nThe context window size is a key parameter of the model architecture and is typically fixed during model training. It directly relates to the input size of the model, as it sets an upper limit on the number of tokens that can be fed into the model at a time.\\n\\nFor example, if a model has a context window size of 4,096 tokens, it means that the model can process and generate sequences of up to 4,096 tokens. When processing longer texts, such as documents or conversations, the input needs to be divided into smaller segments that fit within the context window. This is often done using techniques like sliding windows or truncation.\\nThe size of the context window has implications for the model\\'s ability to understand and maintain long-range dependencies and context. Models with larger context windows can capture and utilize more contextual information when generating responses, which can lead to more coherent and contextually relevant outputs. However, increasing the context window size also increases the computational resources required to train and run the model.\\nIn the context of RAG, the context window size is particularly important because it determines how much information from the retrieved documents can be effectively utilized by the model when generating the final response. Recent advancements in language models have led to the development of models with significantly larger context windows, enabling them to process and retain more information from the retrieved sources.\\n\\nFine-Tuning in 2 Flavors: Full Model Fine Tuning (FMFT) and Parameter Efficient Fine Tuning (PEFT)\\nFull model fine-tuning (FMFT) is where you take a foundation model and train it further to gain new capabilities.  You could simply give it new knowledge for a specific domain, or you could give it a skill, like being a conversational chat-bot.  FMFT updates all of the parameters and biases in the model. \\n\\nPEFT is a type of fine-tuning, where you focus only on specific parts of the parameters or biases when you fine-tune the model, but with a similar goal as general fine-tuning.  The latest research in this area shows that you can achieve similar results to FMFT with far less cost, time commitment, and data.\\nWhile this book is not focused on fine-tuning, it is a very valid strategy to try to use a model fine-tuned with your own data to give it more knowledge from your domain or to give it more of “voice” from your domain.  For example, you could train it to talk more like a scientist than a generic foundation model, if using this in a scientific field.  Or if you are developing in a legal field, you may want it to sound more like a lawyer.\\nVector Store or Vector Database?\\nBoth!  All vector databases are vector stores, but not all vector stores are vector databases.  Ok, while you get out your chalkboard to draw the Vinn diagram, I continue to explain this statement.  There are ways to store vectors that are not full databases.  They are simply storage devices for vectors.  So to encompass all possible ways to store vectors, LangChain calls them all vector stores.  Let’s do the same!  Just know that not all of the “vector stores” that LangChain connects with are officially considered vector databases, but in general, most of them are and many people refer to all of them as vector databases.   Phew, glad we cleared that up!\\n\\nVectors, Vectors, Vectors! \\nA vector is a mathematical representation of your data.  They are often referred to as the embeddings when talking specifically about natural language processing and LLMs. Vectors are one of the most important concepts to understand and there are many different parts of a RAG pipeline that utilize vectors.  I felt it was bigger than just a quick definition, so I go into much more depth in the much larger next section dedicated to vectors.  And beyond that, we literally spend two chapters (6 & 7) going over vectors and how they are used to find similar content. \\n\\nVectors#\\nIt could be argued that understanding vectors and all the ways they are used in RAG is the most important part of this entire book.  As mentioned above, vectors are simply the mathematical representations of your external data, and they are often referred to as embeddings.  These representations capture semantic information in a format that can be processed by algorithms, facilitating tasks such as similarity search, which is a crucial step in the RAG process.\\n\\nVectors typically have a specific dimension based on how many numbers are represented by them. For example, this is a 4 dimensional vector: [0.123, 0.321, 0.312, 0.231]\\n\\nIf you didn’t know we were talking about vectors and you saw this in Python code, you might recognize this as a list of 4 floating points, and you aren’t too far off.  Typically though, when working with vectors in Python, you actually want to recognize them as a Numpy Array.  Numpy Arrays are generally more machine learning friendly because they are optimized to be processed much faster and efficiently than python lists, and they are more broadly recognized as the defacto representation of embeddings across machine learning packages like SciPy, Pandas, Scikit-Learn, TensorFlow, Keras, Pytorch, and many others.  Numpy also enables you to perform vectorized math directly on the Numpy Array, such as performing element-wise operations, without having to code in loops and other approaches you might have to use if using a different type of sequence.\\n\\nWhen working with vectors for vectorization, they are often hundreds, or thousands of dimensions, which refers to the number of floating points present in the vector.  So a 1024 dimension vector literally has 1024 floating points in a Numpy Array.  Higher dimensionality can capture more detailed semantic information, which is crucial for accurately matching query inputs with relevant documents or data in RAG applications.\\nIn chapter 7, we cover the key role vectors and vector databases play In RAG implementation.  And then in chapter 8, we will dive more into the concept of similarity searches, which utilize vectors to conduct the search much faster and efficiently.  These are key concepts that will help you gain a much deeper understanding into how to better implement a RAG pipeline.\\n\\nImplementing RAG in AI Applications#\\nRetrieval Augmented Generation (RAG) is rapidly becoming a cornerstone of GenAI platforms in the corporate world.  RAG combines the power of information retrieval of internal or “new” data with generative language models to enhance the quality and relevance of generated text. This technique can be particularly useful for companies across various industries to improve their products, services, and operational efficiencies. Some examples of how RAG can be used include:\\n Customer Support and Chatbots - These can exist without RAG, but when integrated with RAG, it can connect those chatbots with past customer interactions, FAQs, support documents, and anything else that was specific to that customer.\\nAutomated Reporting - RAG can assist in creating initial drafts or summarizing existing articles, research papers, and other types of unstructured data into more digestible formats.\\nProduct Descriptions - For e-commerce companies, RAG can be used to help generate or enhance product descriptions by retrieving information from similar products or manufacturer specifications.\\nSearchability and Utility of Internal Knowledge Bases - RAG can improve access to internal knowledge bases. This can be achieved through the generation of summaries of documents or by providing direct answers to queries based on the content of internal documents, emails, and other resources.\\nSearchability and Utility of General Knowledge Bases - In areas like legal and compliance, where companies need to have an understanding of a massive and growing general knowledge base, RAG can be implemented to retrieve and summarize relevant laws, regulations, and compliance documents. Other areas where this is applicable include research and development, medical, academia, patents, and technical documents.\\nInnovation Scouting - Similar to searching general knowledge bases, but with a focus on new innovation, companies can use RAG to scan and summarize information from quality sources to identify trends and potential areas for new innovations that are relevant to that company\\'s specialization.\\nContent Personalization - RAG can be used by media and content platforms to personalize content recommendations or create customized summaries by retrieving information based on a user\\'s past interactions and preferences.\\nProduct Recommendations - RAG can be used by e-commerce sites to enhance product recommendation engines, generate personalized descriptions, or highlight features based on the browsing and purchasing history of customers.\\nTraining and Education - RAG can be used by education organizations and corporate training programs to generate or customize learning materials based on specific needs and knowledge levels of the learners. With RAG, a much deeper level of internal knowledge from the organization can be incorporated into the educational curriculum in very customized ways to the individual or role.\\n\\nThis book will help you understand how you can implement all of these game-changing initiatives in your company.\\n\\nComparing RAG with Conventional Generative AI#\\nConventional Generative AI has already shown to be a revolutionary change for companies, helping their employees reach new levels of productivity.   LLMs like ChatGPT are assisting users with a rapidly growing list of applications that include writing business plans, writing and improving code, writing marketing copy, and even providing healthier recipes for a specific type of diet.  Ultimately, much of what users are doing is getting done faster.\\nBut conventional Generative AI does not know what it does not know.  And that includes most of the internal data in your company.   Can you imagine what you could do with all of the benefits mentioned above, but combined with all of the data within your company, about everything your company has ever done, about your customers and all of their interactions, or about all of your products and services combined with a knowledge of what a specific customer’s needs are?  You do not have to imagine it, that is what RAG does!  \\nEven smaller companies are not able to access much of their internal data resources very effectively.  Larger companies are swimming in petabytes of data that is not readily accessible or is not being fully utilized.  Prior to RAG, most of the services you saw that connected customers or employees with the data resources of the company were really just scratching the surface of what is possible compared to if they could access ALL of the data in the company.  With the advent of RAG and generative AI in general, corporations are on the precipice of something really, really big.\\nComparing RAG with Model Fine-Tuning#\\nEstablished Large Language Models (LLM), what we call the foundation models, can learn in two ways:\\n Fine-tuning - With fine-tuning, you are adjusting the weights and/or biases that define the model\\'s intelligence based on new training data. This directly impacts the model, permanently changing how it will interact with new inputs.\\nInput/Prompts - This is where you actually \"use\" the model, using the prompt/input to introduce new knowledge that the LLM can act upon.\\n\\nWhy not use fine-tuning in all situations?  Once you have introduced the new knowledge, it will always have it!  It is also how the model was originally created, by training with data, right?  That sounds right in theory, but in practice, fine-tuning has been more reliable in teaching a model specialized tasks (like teaching a model how to converse in a certain way), and less reliable for factual recall. \\nThe reason is complicated, but in general, a model’s knowledge of facts is like a human’s long-term memory.  If you memorize a long passage from a speech or book and then try to recall it a few months later, you will likely still understand the context of the information, but you may forget specific details.  Whereas, adding knowledge through the input of the model is like our short-term memory, where the facts, details, and even the order of wording is all very fresh and available for recall.  It is this latter scenario that lends itself better in a situation where you want successful factual recall.\\nThere is a trade-off though.  Inputs are limited by the context window of the model.  This is an area that is actively being addressed though. For example, ChatGPT 3.5 only had a 4,096 token context window, which is the equivalent of about 5 pages of text.  When ChatGPT 4 was released, they expanded the context window to 8,192 tokens (10 pages) and there was a Chat 4-32k version that had a context window of 32,768 tokens  (40 pages).  This issue is so important that they included the context window size in the name of the model.  That is a strong indicator of how important the context window is! \\nWhat about the latest Gemini 1.5 model?  1M token context window, or over 1,000 pages.\\nAs the context windows expand though, this has created another issue.  Early models with expanded context windows were shown to lose a lot of the details, especially in the “middle” of the text.  This issue is also being addressed.  The Gemini 1.5 model with the 1 million token context window has performed well in tests called “needle-in-a-haystack” tests for “remembering” all details well throughout the text it can take as input.  Unfortunately, the model did not perform as well in the “multiple needle’s in a haystack” tests. Anthropic’s largest version of their latest model, Claude 3 Opus, performs fairly well with contest windows of 200,000 words.  Expect more effort in this area as these context windows get larger, and keep this in mind if you need to work with large amounts of text at a time.\\nNOTE: It is important to note that token count differs from word count, as tokens include punctuation, symbols, numbers, and other text representations. How a compound word like “ice cream” is treated token-wise depends on the tokenization scheme and it can vary across LLM.  But most well-known LLMs (like ChatGPT and Gemini) would be considered 2 tokens.  Under certain circumstances in NLP you may argue that it should be one based on the concept that a token should represent a useful semantic unit for processing.  \\nUltimately, when deciding between RAG and fine-tuning, consider your specific use case and requirements. RAG is generally superior for retrieving factual information that is not present in the LLM\\'s training data or is private. It allows for dynamic integration of external knowledge without modifying the model\\'s weights. Fine-tuning, on the other hand, is more suitable for teaching the model specialized tasks or adapting it to a specific domain. Keep in mind the limitations of context window sizes and the potential for overfitting when fine-tuning on a specific dataset.\\n\\n\\n\\n\\n')]\n"
          ]
        }
      ]
    },
    {
      "cell_type": "code",
      "source": [
        "#split huge text content into pieces\n",
        "text_splitter = SemanticChunker(OpenAIEmbeddings())\n",
        "splits = text_splitter.split_documents(docs)\n",
        "print(splits)\n"
      ],
      "metadata": {
        "colab": {
          "base_uri": "https://localhost:8080/"
        },
        "id": "-a1JCluw8Sig",
        "outputId": "32ae59b7-1386-4ed5-818f-93433b5404be"
      },
      "execution_count": null,
      "outputs": [
        {
          "output_type": "stream",
          "name": "stdout",
          "text": [
            "[Document(metadata={'source': 'https://kbourne.github.io/chapter1.html'}, page_content=\"\\n\\n      Introduction to Retrieval Augmented Generation (RAG)\\n    \\nDate: March 10, 2024  |  Estimated Reading Time: 15 min  |  Author: Keith Bourne\\n\\n  In the rapidly evolving field of artificial intelligence, Retrieval-Augmented Generation (RAG) is emerging as a significant addition to the Generative AI toolkit. RAG harnesses the strengths of Large Language Models (LLMs) and integrates them with internal data, offering a method to enhance organizational operations significantly. This book delves into the essential aspects of RAG, examining its role in augmenting the capabilities of LLMs and leveraging internal corporate data for strategic advantage. As it progresses, the book outlines the potential of RAG in business, suggesting how it can make AI applications smarter, more responsive, and aligned with organizational objectives. RAG is positioned as a key facilitator of customized, efficient, and insightful AI solutions, bridging the gap between Generative AI's potential and specific business needs. This exploration of RAG encourages readers to unlock the full potential of their corporate data, paving the way for an era of AI-driven innovation. What You Can Expect to Learn#\\nExpect to launch a comprehensive journey to understand and effectively incorporate Retrieval Augmented Generation (RAG) into AI systems. You'll explore a broad spectrum of essential topics, including vector databases, the vectorization process, vector search techniques, prompt engineering and design, and the use of AI agents for RAG applications, alongside methods for evaluating and visualizing RAG outcomes. Through practical, working code examples utilizing the latest tools and technologies like LangChain and Chroma's vector database, you'll gain hands-on experience in implementing RAG in your projects. At the outset, you'll delve into the core principles of RAG, appreciating its significance in the broader landscape of Generative AI. This foundational knowledge equips you with the perspective needed to discern how RAG applications are designed and why they succeed, paving the way for innovative solution development and problem-solving in AI. You'll discover the symbiosis between Large Language Models (LLMs) and internal data to bolster organizational operations. By learning about the intricacies of this integration, particularly the process of vectorization, including the creation and management of vector databases for efficient information retrieval, you'll gain crucial skills for navigating and harnessing vast data landscapes effectively in today's data-driven environments. Gain expertise in vector search techniques, an essential skill set for identifying pertinent data within extensive datasets. Coupled with this, you'll learn strategies for prompt engineering and design, ensuring that you can craft queries that elicit precise and relevant AI responses. Explore how AI agents play a pivotal role in RAG applications, facilitating sophisticated data interaction and retrieval tasks. You'll also learn methods for evaluating and visualizing RAG implementation outcomes, providing a framework for assessing performance and impact critically. Throughout this journey, you'll engage in practical, hands-on learning, guided through the use of cutting-edge tools like LangChain and Chroma's vector database, supported by real, working code examples. These detailed coding demonstrations, grounded in current frameworks, offer a practical foray into implementing RAG in AI systems, providing a rich learning experience. Case studies and coding exercises strategically interspersed throughout your learning path highlight the application of RAG in various real-world scenarios. These insights into addressing common and complex challenges prepare you to navigate the application of RAG across diverse settings with confidence. The code will build off the same starting use case provided in the next chapter. For each topic that relates to code, we will add code that shows how that topic impacts the RAG pipeline, giving you an in-depth understanding about how your coding choices can impact the capabilities of your RAG-based application. You'll also explore optimization strategies for data retrieval and enhancing the interpretability of AI-generated content. These insights are pivotal for improving the usability and effectiveness of AI applications, ensuring they are more aligned with strategic business objectives and user needs. As you progress, you'll gain a deeper understanding of how RAG can revolutionize AI applications, making them more intelligent, responsive, and tailored to specific requirements. The potential of RAG to facilitate personalized, efficient, and insightful AI solutions is thoroughly examined, bridging the theoretical and practical divides. Throughout this learning experience, a spirit of exploration and experimentation is encouraged, aiming to unlock the full potential of data through RAG, fostering innovation, and advancing the domain of AI-driven solutions. By the end, you will have gained comprehensive knowledge and practical skills in RAG, equipping you to contribute to the evolution of AI technologies and applications in your business and beyond. Understanding RAG: Basics and Principles#\\nModern day large language models (LLM) are impressive, but they have never seen your company’s private data (hopefully!). This means the ability of an LLM to help your company fully utilize its own data is very limited. This very large barrier has given rise to the concept of Retrieval Augmented Generation (RAG), where you are using the power and capabilities of the LLM, but combining it with the knowledge and data contained within your company’s internal data repositories. This is the primary motivation for using RAG, to make new data available to the LLM and significantly increase the value you can extract from that data. Beyond internal data, it is also useful in cases where the LLM has not been trained on the data, even if it is public, like the most recent research papers or articles about a topic that is strategic to your company. In both cases, we are talking about data that was not present during the training of the LLM. You can have the latest LLM trained on the most tokens ever, exceeding 10 trillion, but if that data was not present for the training, then the LLM will be at a disadvantage to help you reach your full productivity. Ultimately, this highlights the fact that for most organizations, connecting to data an LLM is not yet familiar with is a central need for them to fully utilize that LLM. RAG is the most popular paradigm for doing this. This book focuses on showing you how to set up a RAG application with your data, as well as how to get the most out of it in various situations. I intend to give you an in-depth understanding of RAG and its importance in leveraging LLM within the context of a company's private or specific data needs. Advantages of RAG#\\nPotential advantages of using RAG include improved accuracy and relevance, customization, flexibility, and expanding the model’s knowledge beyond the training data. Here is each advantage more thoroughly explored:\\n\\nImproved Accuracy and Relevance: RAG can significantly enhance the accuracy and relevance of responses that are generated by large language models (LLMs). RAG fetches and incorporates specific information from a database or dataset, typically in real time, and ensures that the output is based on both the model’s pre-existing knowledge and the most current and relevant data that you are providing directly. Customization and Flexibility: RAG can customize its responses based on your domain specific needs. By integrating a company's internal databases into the model's response generation process, RAG allows for outputs that are tailored to the unique context and requirements of the business. This level of customization is invaluable for creating personalized experiences and for applications requiring a high degree of specificity and detail. Expanding Model Knowledge Beyond Training Data: LLMs are limited by the scope of their training data. RAG overcomes this limitation by enabling models to access and utilize information that was not included in their initial training sets. This effectively expands the knowledge base of the model without the need for retraining, making LLMs more versatile and adaptable to new domains or rapidly evolving topics. Limitations of RAG#\\nBut there are some limitations to using RAG, which include dependency on the quality of the internal data, computational overhead, more complex integrations, and the potential for information overload. Dependency on Data Quality: \\nWhen talking about how data can impact an AI model, the saying in data science circles is “garbage in, garbage out.”  Meaning, if you give a model bad data, it will give you bad results. RAG is no different. The effectiveness of RAG is directly tied to the quality of the data it retrieves. If the underlying database or dataset contains outdated, biased, or inaccurate information, the outputs generated by RAG will likely suffer from the same issues. Need for Data Manipulation and Cleaning:\\nData in the recesses of the company often has a lot of value to it, but it is not often in good, accessible shape. For example, data from PDF-based customer statements needs a lot of massaging to get into a format that can be useful to a RAG pipeline. Computational Overhead: \\nA RAG pipeline introduces a host of new computational steps into the response generation process, including data retrieval, processing, and integration. LLMs are getting faster every day, but even the fastest response can be more than a second, and some can take several seconds. If you combine that with other data processing steps, and possibly multiple LLM calls, the result can be a very significant increase in the time it takes to receive a response. This all leads to increased computational overhead, affecting the efficiency and scalability of the entire system. As with any other IT initiative, an organization must balance the benefits of enhanced accuracy and customization against the resource requirements and potential latency introduced by these additional processes. Data Storage Explosion: Complexity in Integration and Maintenance: \\nTraditionally, your data resides in a data source which is queried in various ways to be made available to your internal and external systems. But with RAG, your data resides in multiple forms and locations, such as vectors in a vector database, that represent the same data, but in a different format. Add in the complexity of connecting these various data sources to LLMs and relevant technical mechanisms like vector searches, and you have a significant increase in complexity. This increased complexity can be resource-intensive.\"), Document(metadata={'source': 'https://kbourne.github.io/chapter1.html'}, page_content='Maintaining this integration over time, especially as data sources evolve or expand, adds even more complexity and cost. Organizations need to invest in technical expertise and infrastructure to effectively leverage RAG capabilities while accounting for the rapid increase in complexities these systems bring with them. Potential for Information Overload: \\nIt is very possible for RAG-based systems to pull in too much information. It is just as important to implement mechanisms to address this issue as it is to handle times when not enough relevant information is found. Determining the relevance and importance of retrieved information to be included in the final output requires sophisticated filtering and ranking mechanisms. Without these, the quality of the generated content could be compromised by an excess of unnecessary or marginally relevant details. RAG Vocabulary#\\nNow is as good a time as any to review some vocabulary that should help you get familiar with the various concepts in RAG. This is not an exhaustive list, but understanding these core concepts should help you understand everything else we teach you about RAG in a more effective way:\\nLarge Language Model (LLM)\\nMost of this book will deal with LLMs. LLMs are generative AI technologies that focus on generating text.'), Document(metadata={'source': 'https://kbourne.github.io/chapter1.html'}, page_content='There are also generative models that generate images from text prompts, while others generate video from text prompts. There are other models that generate text descriptions from images. We will talk about these other types of models in Chapter 16, Going Beyond the LLM. But for most of the book, I felt it would keep things simple and let you focus on the core principles of RAG if we focus on the type of model that most RAG pipelines use, the LLM. But I did want to make sure it was clear, that while the book focuses primarily on LLMs, RAG can also be applied to other types of generative models, such as those for images and videos. Some popular examples of LLMs are the OpenAI ChatGPT models, the Meta LLaMA models, Google’s PaLM and Gemini models, and Anthropic’s Claude models. Foundation model\\nA foundation model is the base model for most LLMs. In the case of ChatGPT, the foundation model is based on the GPT (Generative Pre-trained Transformer) architecture, and it was fine-tuned for Chat. The specific model used for ChatGPT is not publicly disclosed. The base GPT model cannot talk with you in chatbot-style like ChatGPT does. It had to get further trained to gain that skill.'), Document(metadata={'source': 'https://kbourne.github.io/chapter1.html'}, page_content='But there are many other skills these foundation models can be fine-tuned for. LLaMA 2 is a foundation model and because it is open source, there are many spin offs that have been fine-tuned for many applications, such as medical research and conversation. Most of the models we talk about are very close to foundation models, but will likely be fine-tuned for at least conversational capabilities. Parameters and Biases\\nWe are trying to keep our focus on RAG primarily in this book, but it will be helpful for you to understand what parameters and biases are in LLM models. In machine learning models in general, including LLMs, parameters and biases are the learnable variables that the model adjusts during the training process to improve its performance on a given task. Parameters are the weights associated with the connections between neurons in the model\\'s architecture. These weights determine the strength and importance of each connection and are updated during training to minimize the difference between the model\\'s predictions and the expected outputs. Biases, on the other hand, are additional values added to the weighted sum of inputs at each neuron. They help the model learn an offset or shift in the data, allowing for more flexibility in fitting the training data. Together, parameters and biases form the learnable components of the model that are fine-tuned using the training data to improve the model\\'s performance on specific tasks or domains. Understanding parameters and biases is important in the context of RAG because the process of training and fine-tuning LLMs involves adjusting these variables. I mention foundation models, where the initial training involves setting these parameters and biases. However, fine-tuning an LLM by further adjusting its parameters and biases can significantly impact its performance and behavior within a RAG pipeline. By adapting the model to specific domains, writing styles, or tasks, you can improve the accuracy and relevance of the LLM\\'s responses when it is used to generate output based on the retrieved information. This, in turn, can lead to better overall performance of the RAG system in terms of providing more useful and context-appropriate answers to user queries. Therefore, choosing an LLM that is properly fine-tuned for your domain, or applying the fine-tuning yourself, is crucial for optimizing the most important element of your RAG pipeline. Prompting, Prompt Design, Prompt Engineering\\nThese terms are sometimes used interchangeably, but technically, while they all have to do with prompting, they do have fairly different meanings. Prompting is the act of sending a query or “prompt” into an LLM. Prompt design refers to the strategy you take to “design” the prompt you will send to the LLM. There are many different prompt design strategies that work in different scenarios, and we will review many of these in Chapter 13, Utilizing Prompt Engineering to Improve RAG Efforts. We will also review prompt engineering in chapter 13. Prompt engineering focuses more on the technical aspects surrounding the prompt that you use to improve the outputs from the LLM. For example, you may break up a complex query into two or three different LLM interactions, “engineering” it better to achieve superior results. Inference\\nWe will use the term ‘inference’ from time to time. Generally, this refers to the process of the LLM generating outputs or predictions based on given inputs using a pre-trained language model. But a key aspect of inference is that with an LLM, particularly with the cloud-based providers, you are charged based on the inference. Context Window\\nA context window, in the context of LLMs, refers to the maximum number of tokens (words, subwords, or characters) that the model can process as input or generate as output in a single pass. It determines the amount of text the model can \"see\" or \"attend to\" at once when making predictions or generating responses. The context window size is a key parameter of the model architecture and is typically fixed during model training. It directly relates to the input size of the model, as it sets an upper limit on the number of tokens that can be fed into the model at a time. For example, if a model has a context window size of 4,096 tokens, it means that the model can process and generate sequences of up to 4,096 tokens. When processing longer texts, such as documents or conversations, the input needs to be divided into smaller segments that fit within the context window. This is often done using techniques like sliding windows or truncation. The size of the context window has implications for the model\\'s ability to understand and maintain long-range dependencies and context. Models with larger context windows can capture and utilize more contextual information when generating responses, which can lead to more coherent and contextually relevant outputs. However, increasing the context window size also increases the computational resources required to train and run the model. In the context of RAG, the context window size is particularly important because it determines how much information from the retrieved documents can be effectively utilized by the model when generating the final response. Recent advancements in language models have led to the development of models with significantly larger context windows, enabling them to process and retain more information from the retrieved sources. Fine-Tuning in 2 Flavors: Full Model Fine Tuning (FMFT) and Parameter Efficient Fine Tuning (PEFT)\\nFull model fine-tuning (FMFT) is where you take a foundation model and train it further to gain new capabilities. You could simply give it new knowledge for a specific domain, or you could give it a skill, like being a conversational chat-bot. FMFT updates all of the parameters and biases in the model. PEFT is a type of fine-tuning, where you focus only on specific parts of the parameters or biases when you fine-tune the model, but with a similar goal as general fine-tuning. The latest research in this area shows that you can achieve similar results to FMFT with far less cost, time commitment, and data. While this book is not focused on fine-tuning, it is a very valid strategy to try to use a model fine-tuned with your own data to give it more knowledge from your domain or to give it more of “voice” from your domain. For example, you could train it to talk more like a scientist than a generic foundation model, if using this in a scientific field.'), Document(metadata={'source': 'https://kbourne.github.io/chapter1.html'}, page_content='Or if you are developing in a legal field, you may want it to sound more like a lawyer. Vector Store or Vector Database?'), Document(metadata={'source': 'https://kbourne.github.io/chapter1.html'}, page_content='Both! All vector databases are vector stores, but not all vector stores are vector databases. Ok, while you get out your chalkboard to draw the Vinn diagram, I continue to explain this statement. There are ways to store vectors that are not full databases. They are simply storage devices for vectors. So to encompass all possible ways to store vectors, LangChain calls them all vector stores. Let’s do the same! Just know that not all of the “vector stores” that LangChain connects with are officially considered vector databases, but in general, most of them are and many people refer to all of them as vector databases. Phew, glad we cleared that up!'), Document(metadata={'source': 'https://kbourne.github.io/chapter1.html'}, page_content=\"Vectors, Vectors, Vectors! A vector is a mathematical representation of your data. They are often referred to as the embeddings when talking specifically about natural language processing and LLMs. Vectors are one of the most important concepts to understand and there are many different parts of a RAG pipeline that utilize vectors. I felt it was bigger than just a quick definition, so I go into much more depth in the much larger next section dedicated to vectors. And beyond that, we literally spend two chapters (6 & 7) going over vectors and how they are used to find similar content. Vectors#\\nIt could be argued that understanding vectors and all the ways they are used in RAG is the most important part of this entire book. As mentioned above, vectors are simply the mathematical representations of your external data, and they are often referred to as embeddings. These representations capture semantic information in a format that can be processed by algorithms, facilitating tasks such as similarity search, which is a crucial step in the RAG process. Vectors typically have a specific dimension based on how many numbers are represented by them. For example, this is a 4 dimensional vector: [0.123, 0.321, 0.312, 0.231]\\n\\nIf you didn’t know we were talking about vectors and you saw this in Python code, you might recognize this as a list of 4 floating points, and you aren’t too far off. Typically though, when working with vectors in Python, you actually want to recognize them as a Numpy Array. Numpy Arrays are generally more machine learning friendly because they are optimized to be processed much faster and efficiently than python lists, and they are more broadly recognized as the defacto representation of embeddings across machine learning packages like SciPy, Pandas, Scikit-Learn, TensorFlow, Keras, Pytorch, and many others. Numpy also enables you to perform vectorized math directly on the Numpy Array, such as performing element-wise operations, without having to code in loops and other approaches you might have to use if using a different type of sequence. When working with vectors for vectorization, they are often hundreds, or thousands of dimensions, which refers to the number of floating points present in the vector. So a 1024 dimension vector literally has 1024 floating points in a Numpy Array. Higher dimensionality can capture more detailed semantic information, which is crucial for accurately matching query inputs with relevant documents or data in RAG applications. In chapter 7, we cover the key role vectors and vector databases play In RAG implementation. And then in chapter 8, we will dive more into the concept of similarity searches, which utilize vectors to conduct the search much faster and efficiently. These are key concepts that will help you gain a much deeper understanding into how to better implement a RAG pipeline. Implementing RAG in AI Applications#\\nRetrieval Augmented Generation (RAG) is rapidly becoming a cornerstone of GenAI platforms in the corporate world. RAG combines the power of information retrieval of internal or “new” data with generative language models to enhance the quality and relevance of generated text. This technique can be particularly useful for companies across various industries to improve their products, services, and operational efficiencies. Some examples of how RAG can be used include:\\n Customer Support and Chatbots - These can exist without RAG, but when integrated with RAG, it can connect those chatbots with past customer interactions, FAQs, support documents, and anything else that was specific to that customer. Automated Reporting - RAG can assist in creating initial drafts or summarizing existing articles, research papers, and other types of unstructured data into more digestible formats. Product Descriptions - For e-commerce companies, RAG can be used to help generate or enhance product descriptions by retrieving information from similar products or manufacturer specifications. Searchability and Utility of Internal Knowledge Bases - RAG can improve access to internal knowledge bases. This can be achieved through the generation of summaries of documents or by providing direct answers to queries based on the content of internal documents, emails, and other resources. Searchability and Utility of General Knowledge Bases - In areas like legal and compliance, where companies need to have an understanding of a massive and growing general knowledge base, RAG can be implemented to retrieve and summarize relevant laws, regulations, and compliance documents. Other areas where this is applicable include research and development, medical, academia, patents, and technical documents. Innovation Scouting - Similar to searching general knowledge bases, but with a focus on new innovation, companies can use RAG to scan and summarize information from quality sources to identify trends and potential areas for new innovations that are relevant to that company's specialization. Content Personalization - RAG can be used by media and content platforms to personalize content recommendations or create customized summaries by retrieving information based on a user's past interactions and preferences. Product Recommendations - RAG can be used by e-commerce sites to enhance product recommendation engines, generate personalized descriptions, or highlight features based on the browsing and purchasing history of customers. Training and Education - RAG can be used by education organizations and corporate training programs to generate or customize learning materials based on specific needs and knowledge levels of the learners. With RAG, a much deeper level of internal knowledge from the organization can be incorporated into the educational curriculum in very customized ways to the individual or role. This book will help you understand how you can implement all of these game-changing initiatives in your company. Comparing RAG with Conventional Generative AI#\\nConventional Generative AI has already shown to be a revolutionary change for companies, helping their employees reach new levels of productivity. LLMs like ChatGPT are assisting users with a rapidly growing list of applications that include writing business plans, writing and improving code, writing marketing copy, and even providing healthier recipes for a specific type of diet. Ultimately, much of what users are doing is getting done faster.\"), Document(metadata={'source': 'https://kbourne.github.io/chapter1.html'}, page_content='But conventional Generative AI does not know what it does not know. And that includes most of the internal data in your company.'), Document(metadata={'source': 'https://kbourne.github.io/chapter1.html'}, page_content='Can you imagine what you could do with all of the benefits mentioned above, but combined with all of the data within your company, about everything your company has ever done, about your customers and all of their interactions, or about all of your products and services combined with a knowledge of what a specific customer’s needs are? You do not have to imagine it, that is what RAG does! Even smaller companies are not able to access much of their internal data resources very effectively. Larger companies are swimming in petabytes of data that is not readily accessible or is not being fully utilized. Prior to RAG, most of the services you saw that connected customers or employees with the data resources of the company were really just scratching the surface of what is possible compared to if they could access ALL of the data in the company. With the advent of RAG and generative AI in general, corporations are on the precipice of something really, really big. Comparing RAG with Model Fine-Tuning#\\nEstablished Large Language Models (LLM), what we call the foundation models, can learn in two ways:\\n Fine-tuning - With fine-tuning, you are adjusting the weights and/or biases that define the model\\'s intelligence based on new training data. This directly impacts the model, permanently changing how it will interact with new inputs. Input/Prompts - This is where you actually \"use\" the model, using the prompt/input to introduce new knowledge that the LLM can act upon. Why not use fine-tuning in all situations?'), Document(metadata={'source': 'https://kbourne.github.io/chapter1.html'}, page_content='Once you have introduced the new knowledge, it will always have it! It is also how the model was originally created, by training with data, right? That sounds right in theory, but in practice, fine-tuning has been more reliable in teaching a model specialized tasks (like teaching a model how to converse in a certain way), and less reliable for factual recall. The reason is complicated, but in general, a model’s knowledge of facts is like a human’s long-term memory. If you memorize a long passage from a speech or book and then try to recall it a few months later, you will likely still understand the context of the information, but you may forget specific details. Whereas, adding knowledge through the input of the model is like our short-term memory, where the facts, details, and even the order of wording is all very fresh and available for recall. It is this latter scenario that lends itself better in a situation where you want successful factual recall. There is a trade-off though. Inputs are limited by the context window of the model. This is an area that is actively being addressed though. For example, ChatGPT 3.5 only had a 4,096 token context window, which is the equivalent of about 5 pages of text. When ChatGPT 4 was released, they expanded the context window to 8,192 tokens (10 pages) and there was a Chat 4-32k version that had a context window of 32,768 tokens  (40 pages). This issue is so important that they included the context window size in the name of the model.'), Document(metadata={'source': 'https://kbourne.github.io/chapter1.html'}, page_content='That is a strong indicator of how important the context window is! What about the latest Gemini 1.5 model? 1M token context window, or over 1,000 pages. As the context windows expand though, this has created another issue. Early models with expanded context windows were shown to lose a lot of the details, especially in the “middle” of the text. This issue is also being addressed. The Gemini 1.5 model with the 1 million token context window has performed well in tests called “needle-in-a-haystack” tests for “remembering” all details well throughout the text it can take as input. Unfortunately, the model did not perform as well in the “multiple needle’s in a haystack” tests. Anthropic’s largest version of their latest model, Claude 3 Opus, performs fairly well with contest windows of 200,000 words. Expect more effort in this area as these context windows get larger, and keep this in mind if you need to work with large amounts of text at a time.'), Document(metadata={'source': 'https://kbourne.github.io/chapter1.html'}, page_content=\"NOTE: It is important to note that token count differs from word count, as tokens include punctuation, symbols, numbers, and other text representations. How a compound word like “ice cream” is treated token-wise depends on the tokenization scheme and it can vary across LLM. But most well-known LLMs (like ChatGPT and Gemini) would be considered 2 tokens. Under certain circumstances in NLP you may argue that it should be one based on the concept that a token should represent a useful semantic unit for processing. Ultimately, when deciding between RAG and fine-tuning, consider your specific use case and requirements. RAG is generally superior for retrieving factual information that is not present in the LLM's training data or is private. It allows for dynamic integration of external knowledge without modifying the model's weights.\"), Document(metadata={'source': 'https://kbourne.github.io/chapter1.html'}, page_content='Fine-tuning, on the other hand, is more suitable for teaching the model specialized tasks or adapting it to a specific domain. Keep in mind the limitations of context window sizes and the potential for overfitting when fine-tuning on a specific dataset. ')]\n"
          ]
        }
      ]
    },
    {
      "cell_type": "code",
      "source": [
        "#turn those pieces into vectors and save into the chroma db\n",
        "vectorstore = Chroma.from_documents(documents = splits, embedding=OpenAIEmbeddings())\n",
        "retriver = vectorstore.as_retriever()"
      ],
      "metadata": {
        "id": "tJw60OnI-7MX"
      },
      "execution_count": null,
      "outputs": []
    },
    {
      "cell_type": "code",
      "source": [
        "query = \"how dose RAG compare with fine-tuning\"\n",
        "relevant_docs = retriver.get_relevant_documents(query)\n",
        "for doc in relevant_docs:\n",
        "  print(doc.page_content)"
      ],
      "metadata": {
        "colab": {
          "base_uri": "https://localhost:8080/"
        },
        "id": "x1c2KoM58S56",
        "outputId": "3a30c72d-9f18-468c-f8c0-98143c5d1400"
      },
      "execution_count": null,
      "outputs": [
        {
          "output_type": "stream",
          "name": "stderr",
          "text": [
            "<ipython-input-14-91d20bb5cfbd>:2: LangChainDeprecationWarning: The method `BaseRetriever.get_relevant_documents` was deprecated in langchain-core 0.1.46 and will be removed in 1.0. Use :meth:`~invoke` instead.\n",
            "  relevant_docs = retriver.get_relevant_documents(query)\n"
          ]
        },
        {
          "output_type": "stream",
          "name": "stdout",
          "text": [
            "Can you imagine what you could do with all of the benefits mentioned above, but combined with all of the data within your company, about everything your company has ever done, about your customers and all of their interactions, or about all of your products and services combined with a knowledge of what a specific customer’s needs are? You do not have to imagine it, that is what RAG does! Even smaller companies are not able to access much of their internal data resources very effectively. Larger companies are swimming in petabytes of data that is not readily accessible or is not being fully utilized. Prior to RAG, most of the services you saw that connected customers or employees with the data resources of the company were really just scratching the surface of what is possible compared to if they could access ALL of the data in the company. With the advent of RAG and generative AI in general, corporations are on the precipice of something really, really big. Comparing RAG with Model Fine-Tuning#\n",
            "Established Large Language Models (LLM), what we call the foundation models, can learn in two ways:\n",
            " Fine-tuning - With fine-tuning, you are adjusting the weights and/or biases that define the model's intelligence based on new training data. This directly impacts the model, permanently changing how it will interact with new inputs. Input/Prompts - This is where you actually \"use\" the model, using the prompt/input to introduce new knowledge that the LLM can act upon. Why not use fine-tuning in all situations?\n",
            "Fine-tuning, on the other hand, is more suitable for teaching the model specialized tasks or adapting it to a specific domain. Keep in mind the limitations of context window sizes and the potential for overfitting when fine-tuning on a specific dataset. \n",
            "But there are many other skills these foundation models can be fine-tuned for. LLaMA 2 is a foundation model and because it is open source, there are many spin offs that have been fine-tuned for many applications, such as medical research and conversation. Most of the models we talk about are very close to foundation models, but will likely be fine-tuned for at least conversational capabilities. Parameters and Biases\n",
            "We are trying to keep our focus on RAG primarily in this book, but it will be helpful for you to understand what parameters and biases are in LLM models. In machine learning models in general, including LLMs, parameters and biases are the learnable variables that the model adjusts during the training process to improve its performance on a given task. Parameters are the weights associated with the connections between neurons in the model's architecture. These weights determine the strength and importance of each connection and are updated during training to minimize the difference between the model's predictions and the expected outputs. Biases, on the other hand, are additional values added to the weighted sum of inputs at each neuron. They help the model learn an offset or shift in the data, allowing for more flexibility in fitting the training data. Together, parameters and biases form the learnable components of the model that are fine-tuned using the training data to improve the model's performance on specific tasks or domains. Understanding parameters and biases is important in the context of RAG because the process of training and fine-tuning LLMs involves adjusting these variables. I mention foundation models, where the initial training involves setting these parameters and biases. However, fine-tuning an LLM by further adjusting its parameters and biases can significantly impact its performance and behavior within a RAG pipeline. By adapting the model to specific domains, writing styles, or tasks, you can improve the accuracy and relevance of the LLM's responses when it is used to generate output based on the retrieved information. This, in turn, can lead to better overall performance of the RAG system in terms of providing more useful and context-appropriate answers to user queries. Therefore, choosing an LLM that is properly fine-tuned for your domain, or applying the fine-tuning yourself, is crucial for optimizing the most important element of your RAG pipeline. Prompting, Prompt Design, Prompt Engineering\n",
            "These terms are sometimes used interchangeably, but technically, while they all have to do with prompting, they do have fairly different meanings. Prompting is the act of sending a query or “prompt” into an LLM. Prompt design refers to the strategy you take to “design” the prompt you will send to the LLM. There are many different prompt design strategies that work in different scenarios, and we will review many of these in Chapter 13, Utilizing Prompt Engineering to Improve RAG Efforts. We will also review prompt engineering in chapter 13. Prompt engineering focuses more on the technical aspects surrounding the prompt that you use to improve the outputs from the LLM. For example, you may break up a complex query into two or three different LLM interactions, “engineering” it better to achieve superior results. Inference\n",
            "We will use the term ‘inference’ from time to time. Generally, this refers to the process of the LLM generating outputs or predictions based on given inputs using a pre-trained language model. But a key aspect of inference is that with an LLM, particularly with the cloud-based providers, you are charged based on the inference. Context Window\n",
            "A context window, in the context of LLMs, refers to the maximum number of tokens (words, subwords, or characters) that the model can process as input or generate as output in a single pass. It determines the amount of text the model can \"see\" or \"attend to\" at once when making predictions or generating responses. The context window size is a key parameter of the model architecture and is typically fixed during model training. It directly relates to the input size of the model, as it sets an upper limit on the number of tokens that can be fed into the model at a time. For example, if a model has a context window size of 4,096 tokens, it means that the model can process and generate sequences of up to 4,096 tokens. When processing longer texts, such as documents or conversations, the input needs to be divided into smaller segments that fit within the context window. This is often done using techniques like sliding windows or truncation. The size of the context window has implications for the model's ability to understand and maintain long-range dependencies and context. Models with larger context windows can capture and utilize more contextual information when generating responses, which can lead to more coherent and contextually relevant outputs. However, increasing the context window size also increases the computational resources required to train and run the model. In the context of RAG, the context window size is particularly important because it determines how much information from the retrieved documents can be effectively utilized by the model when generating the final response. Recent advancements in language models have led to the development of models with significantly larger context windows, enabling them to process and retain more information from the retrieved sources. Fine-Tuning in 2 Flavors: Full Model Fine Tuning (FMFT) and Parameter Efficient Fine Tuning (PEFT)\n",
            "Full model fine-tuning (FMFT) is where you take a foundation model and train it further to gain new capabilities. You could simply give it new knowledge for a specific domain, or you could give it a skill, like being a conversational chat-bot. FMFT updates all of the parameters and biases in the model. PEFT is a type of fine-tuning, where you focus only on specific parts of the parameters or biases when you fine-tune the model, but with a similar goal as general fine-tuning. The latest research in this area shows that you can achieve similar results to FMFT with far less cost, time commitment, and data. While this book is not focused on fine-tuning, it is a very valid strategy to try to use a model fine-tuned with your own data to give it more knowledge from your domain or to give it more of “voice” from your domain. For example, you could train it to talk more like a scientist than a generic foundation model, if using this in a scientific field.\n",
            "Maintaining this integration over time, especially as data sources evolve or expand, adds even more complexity and cost. Organizations need to invest in technical expertise and infrastructure to effectively leverage RAG capabilities while accounting for the rapid increase in complexities these systems bring with them. Potential for Information Overload: \n",
            "It is very possible for RAG-based systems to pull in too much information. It is just as important to implement mechanisms to address this issue as it is to handle times when not enough relevant information is found. Determining the relevance and importance of retrieved information to be included in the final output requires sophisticated filtering and ranking mechanisms. Without these, the quality of the generated content could be compromised by an excess of unnecessary or marginally relevant details. RAG Vocabulary#\n",
            "Now is as good a time as any to review some vocabulary that should help you get familiar with the various concepts in RAG. This is not an exhaustive list, but understanding these core concepts should help you understand everything else we teach you about RAG in a more effective way:\n",
            "Large Language Model (LLM)\n",
            "Most of this book will deal with LLMs. LLMs are generative AI technologies that focus on generating text.\n"
          ]
        }
      ]
    },
    {
      "cell_type": "code",
      "source": [
        "#template of prompt\n",
        "prompt = hub.pull(\"jclemens24/rag-prompt\")\n",
        "print(prompt)"
      ],
      "metadata": {
        "colab": {
          "base_uri": "https://localhost:8080/"
        },
        "id": "d3Qn_4UG_9dZ",
        "outputId": "dc82f52a-98b9-4845-9bdb-69e1d2173bc3"
      },
      "execution_count": null,
      "outputs": [
        {
          "output_type": "stream",
          "name": "stdout",
          "text": [
            "input_variables=['context', 'question'] input_types={} partial_variables={} metadata={'lc_hub_owner': 'jclemens24', 'lc_hub_repo': 'rag-prompt', 'lc_hub_commit_hash': '1a1f3ccb9a5a92363310e3b130843dfb2540239366ebe712ddd94982acc06734'} messages=[HumanMessagePromptTemplate(prompt=PromptTemplate(input_variables=['context', 'question'], input_types={}, partial_variables={}, template=\"You are an assistant for question-answering tasks. Use the following pieces of retrieved context to answer the question. If you don't know the answer, just say that you don't know.\\nQuestion: {question} \\nContext: {context} \\nAnswer:\"), additional_kwargs={})]\n"
          ]
        },
        {
          "output_type": "stream",
          "name": "stderr",
          "text": [
            "/usr/local/lib/python3.10/dist-packages/langsmith/client.py:354: LangSmithMissingAPIKeyWarning: API key must be provided when using hosted LangSmith API\n",
            "  warnings.warn(\n"
          ]
        }
      ]
    },
    {
      "cell_type": "code",
      "source": [
        "#helper function\n",
        "def format_docs(docs):\n",
        "  return \"\\n\\n\".join(doc.page_content for doc in docs)\n",
        "\n",
        "llm = ChatOpenAI(model_name = \"gpt-4o-mini\", temperature=0)"
      ],
      "metadata": {
        "id": "UgOTE70GAT4t"
      },
      "execution_count": null,
      "outputs": []
    },
    {
      "cell_type": "code",
      "source": [
        "\n",
        "rag_chain = (\n",
        "    {\"context\": retriver | format_docs,\n",
        "     \"question\": RunnablePassthrough(), #basicall do nothing\n",
        "    }\n",
        "    | prompt | llm | StrOutputParser()\n",
        ")\n",
        "\n",
        "'''\n",
        "rag_chain.invoke => retriver.invoke, RunnablePassthrough().invoke()\n",
        "\n",
        "'''\n",
        "response = rag_chain.invoke(\"How dose RAG compare with fine-tunning\")\n",
        "print(response)"
      ],
      "metadata": {
        "colab": {
          "base_uri": "https://localhost:8080/"
        },
        "id": "yogiIJZkAzWX",
        "outputId": "52b11c98-0cfa-413b-9d2a-8a15dea8137f"
      },
      "execution_count": null,
      "outputs": [
        {
          "output_type": "stream",
          "name": "stdout",
          "text": [
            "Retrieval-Augmented Generation (RAG) and fine-tuning are two different approaches to enhancing the capabilities of Large Language Models (LLMs). \n",
            "\n",
            "RAG combines the strengths of LLMs with internal data, allowing organizations to access and utilize their own data effectively. It enhances the accuracy and relevance of responses by fetching specific information from databases in real time, thus expanding the model's knowledge beyond its initial training data. RAG is particularly useful for organizations that need to leverage their proprietary data or the latest information that was not included in the model's training set.\n",
            "\n",
            "On the other hand, fine-tuning involves adjusting the weights and biases of a pre-trained model based on new training data. This process permanently alters the model's behavior and is suitable for teaching the model specialized tasks or adapting it to specific domains. However, fine-tuning can be complex and costly, especially as data sources evolve, and it may lead to issues like overfitting.\n",
            "\n",
            "In summary, RAG is more about integrating real-time data retrieval to enhance model responses, while fine-tuning is about permanently modifying the model based on new data. Each approach has its advantages and limitations, and the choice between them depends on the specific needs and resources of the organization.\n"
          ]
        }
      ]
    },
    {
      "cell_type": "code",
      "source": [
        "def task_from_docs(input):\n",
        "  print(f\"task from docs for input: {input}\")\n",
        "  print(f\"input['context']: {input['context']}\")\n",
        "  return lambda x : format_docs(input['context'])\n",
        "\n",
        "\n",
        "rag_chain_from_docs = RunnablePassthrough().assign(context = task_from_docs)\n",
        "\n",
        "rag_chain_with_source = RunnableParallel({\n",
        "    \"context\": retriver,\n",
        "    \"question\": RunnablePassthrough()\n",
        "}).assign(answer = rag_chain_from_docs)\n",
        "\n",
        "res = rag_chain_with_source.invoke(\"How dose RAG compare with fine-tuning\")\n",
        "print(f\"context of res: {res['context']}\")\n",
        "print(f\"question of res: {res['question']}\")\n",
        "\n",
        "rag_chain = rag_chain_with_source | prompt | llm | StrOutputParser()\n",
        "response = rag_chain.invoke(\"How dose RAG compare with fine-tuning\")\n",
        "\n",
        "print(response)"
      ],
      "metadata": {
        "colab": {
          "base_uri": "https://localhost:8080/"
        },
        "id": "e4eFVUt4eETv",
        "outputId": "e47a871a-ab49-4919-a340-f22031d01498"
      },
      "execution_count": null,
      "outputs": [
        {
          "output_type": "stream",
          "name": "stdout",
          "text": [
            "task from docs for input: {'context': [Document(metadata={'source': 'https://kbourne.github.io/chapter1.html'}, page_content='Can you imagine what you could do with all of the benefits mentioned above, but combined with all of the data within your company, about everything your company has ever done, about your customers and all of their interactions, or about all of your products and services combined with a knowledge of what a specific customer’s needs are? You do not have to imagine it, that is what RAG does! Even smaller companies are not able to access much of their internal data resources very effectively. Larger companies are swimming in petabytes of data that is not readily accessible or is not being fully utilized. Prior to RAG, most of the services you saw that connected customers or employees with the data resources of the company were really just scratching the surface of what is possible compared to if they could access ALL of the data in the company. With the advent of RAG and generative AI in general, corporations are on the precipice of something really, really big. Comparing RAG with Model Fine-Tuning#\\nEstablished Large Language Models (LLM), what we call the foundation models, can learn in two ways:\\n Fine-tuning - With fine-tuning, you are adjusting the weights and/or biases that define the model\\'s intelligence based on new training data. This directly impacts the model, permanently changing how it will interact with new inputs. Input/Prompts - This is where you actually \"use\" the model, using the prompt/input to introduce new knowledge that the LLM can act upon. Why not use fine-tuning in all situations?'), Document(metadata={'source': 'https://kbourne.github.io/chapter1.html'}, page_content='Fine-tuning, on the other hand, is more suitable for teaching the model specialized tasks or adapting it to a specific domain. Keep in mind the limitations of context window sizes and the potential for overfitting when fine-tuning on a specific dataset. '), Document(metadata={'source': 'https://kbourne.github.io/chapter1.html'}, page_content='But there are many other skills these foundation models can be fine-tuned for. LLaMA 2 is a foundation model and because it is open source, there are many spin offs that have been fine-tuned for many applications, such as medical research and conversation. Most of the models we talk about are very close to foundation models, but will likely be fine-tuned for at least conversational capabilities. Parameters and Biases\\nWe are trying to keep our focus on RAG primarily in this book, but it will be helpful for you to understand what parameters and biases are in LLM models. In machine learning models in general, including LLMs, parameters and biases are the learnable variables that the model adjusts during the training process to improve its performance on a given task. Parameters are the weights associated with the connections between neurons in the model\\'s architecture. These weights determine the strength and importance of each connection and are updated during training to minimize the difference between the model\\'s predictions and the expected outputs. Biases, on the other hand, are additional values added to the weighted sum of inputs at each neuron. They help the model learn an offset or shift in the data, allowing for more flexibility in fitting the training data. Together, parameters and biases form the learnable components of the model that are fine-tuned using the training data to improve the model\\'s performance on specific tasks or domains. Understanding parameters and biases is important in the context of RAG because the process of training and fine-tuning LLMs involves adjusting these variables. I mention foundation models, where the initial training involves setting these parameters and biases. However, fine-tuning an LLM by further adjusting its parameters and biases can significantly impact its performance and behavior within a RAG pipeline. By adapting the model to specific domains, writing styles, or tasks, you can improve the accuracy and relevance of the LLM\\'s responses when it is used to generate output based on the retrieved information. This, in turn, can lead to better overall performance of the RAG system in terms of providing more useful and context-appropriate answers to user queries. Therefore, choosing an LLM that is properly fine-tuned for your domain, or applying the fine-tuning yourself, is crucial for optimizing the most important element of your RAG pipeline. Prompting, Prompt Design, Prompt Engineering\\nThese terms are sometimes used interchangeably, but technically, while they all have to do with prompting, they do have fairly different meanings. Prompting is the act of sending a query or “prompt” into an LLM. Prompt design refers to the strategy you take to “design” the prompt you will send to the LLM. There are many different prompt design strategies that work in different scenarios, and we will review many of these in Chapter 13, Utilizing Prompt Engineering to Improve RAG Efforts. We will also review prompt engineering in chapter 13. Prompt engineering focuses more on the technical aspects surrounding the prompt that you use to improve the outputs from the LLM. For example, you may break up a complex query into two or three different LLM interactions, “engineering” it better to achieve superior results. Inference\\nWe will use the term ‘inference’ from time to time. Generally, this refers to the process of the LLM generating outputs or predictions based on given inputs using a pre-trained language model. But a key aspect of inference is that with an LLM, particularly with the cloud-based providers, you are charged based on the inference. Context Window\\nA context window, in the context of LLMs, refers to the maximum number of tokens (words, subwords, or characters) that the model can process as input or generate as output in a single pass. It determines the amount of text the model can \"see\" or \"attend to\" at once when making predictions or generating responses. The context window size is a key parameter of the model architecture and is typically fixed during model training. It directly relates to the input size of the model, as it sets an upper limit on the number of tokens that can be fed into the model at a time. For example, if a model has a context window size of 4,096 tokens, it means that the model can process and generate sequences of up to 4,096 tokens. When processing longer texts, such as documents or conversations, the input needs to be divided into smaller segments that fit within the context window. This is often done using techniques like sliding windows or truncation. The size of the context window has implications for the model\\'s ability to understand and maintain long-range dependencies and context. Models with larger context windows can capture and utilize more contextual information when generating responses, which can lead to more coherent and contextually relevant outputs. However, increasing the context window size also increases the computational resources required to train and run the model. In the context of RAG, the context window size is particularly important because it determines how much information from the retrieved documents can be effectively utilized by the model when generating the final response. Recent advancements in language models have led to the development of models with significantly larger context windows, enabling them to process and retain more information from the retrieved sources. Fine-Tuning in 2 Flavors: Full Model Fine Tuning (FMFT) and Parameter Efficient Fine Tuning (PEFT)\\nFull model fine-tuning (FMFT) is where you take a foundation model and train it further to gain new capabilities. You could simply give it new knowledge for a specific domain, or you could give it a skill, like being a conversational chat-bot. FMFT updates all of the parameters and biases in the model. PEFT is a type of fine-tuning, where you focus only on specific parts of the parameters or biases when you fine-tune the model, but with a similar goal as general fine-tuning. The latest research in this area shows that you can achieve similar results to FMFT with far less cost, time commitment, and data. While this book is not focused on fine-tuning, it is a very valid strategy to try to use a model fine-tuned with your own data to give it more knowledge from your domain or to give it more of “voice” from your domain. For example, you could train it to talk more like a scientist than a generic foundation model, if using this in a scientific field.'), Document(metadata={'source': 'https://kbourne.github.io/chapter1.html'}, page_content='Maintaining this integration over time, especially as data sources evolve or expand, adds even more complexity and cost. Organizations need to invest in technical expertise and infrastructure to effectively leverage RAG capabilities while accounting for the rapid increase in complexities these systems bring with them. Potential for Information Overload: \\nIt is very possible for RAG-based systems to pull in too much information. It is just as important to implement mechanisms to address this issue as it is to handle times when not enough relevant information is found. Determining the relevance and importance of retrieved information to be included in the final output requires sophisticated filtering and ranking mechanisms. Without these, the quality of the generated content could be compromised by an excess of unnecessary or marginally relevant details. RAG Vocabulary#\\nNow is as good a time as any to review some vocabulary that should help you get familiar with the various concepts in RAG. This is not an exhaustive list, but understanding these core concepts should help you understand everything else we teach you about RAG in a more effective way:\\nLarge Language Model (LLM)\\nMost of this book will deal with LLMs. LLMs are generative AI technologies that focus on generating text.')], 'question': 'How dose RAG compare with fine-tuning'}\n",
            "input['context']: [Document(metadata={'source': 'https://kbourne.github.io/chapter1.html'}, page_content='Can you imagine what you could do with all of the benefits mentioned above, but combined with all of the data within your company, about everything your company has ever done, about your customers and all of their interactions, or about all of your products and services combined with a knowledge of what a specific customer’s needs are? You do not have to imagine it, that is what RAG does! Even smaller companies are not able to access much of their internal data resources very effectively. Larger companies are swimming in petabytes of data that is not readily accessible or is not being fully utilized. Prior to RAG, most of the services you saw that connected customers or employees with the data resources of the company were really just scratching the surface of what is possible compared to if they could access ALL of the data in the company. With the advent of RAG and generative AI in general, corporations are on the precipice of something really, really big. Comparing RAG with Model Fine-Tuning#\\nEstablished Large Language Models (LLM), what we call the foundation models, can learn in two ways:\\n Fine-tuning - With fine-tuning, you are adjusting the weights and/or biases that define the model\\'s intelligence based on new training data. This directly impacts the model, permanently changing how it will interact with new inputs. Input/Prompts - This is where you actually \"use\" the model, using the prompt/input to introduce new knowledge that the LLM can act upon. Why not use fine-tuning in all situations?'), Document(metadata={'source': 'https://kbourne.github.io/chapter1.html'}, page_content='Fine-tuning, on the other hand, is more suitable for teaching the model specialized tasks or adapting it to a specific domain. Keep in mind the limitations of context window sizes and the potential for overfitting when fine-tuning on a specific dataset. '), Document(metadata={'source': 'https://kbourne.github.io/chapter1.html'}, page_content='But there are many other skills these foundation models can be fine-tuned for. LLaMA 2 is a foundation model and because it is open source, there are many spin offs that have been fine-tuned for many applications, such as medical research and conversation. Most of the models we talk about are very close to foundation models, but will likely be fine-tuned for at least conversational capabilities. Parameters and Biases\\nWe are trying to keep our focus on RAG primarily in this book, but it will be helpful for you to understand what parameters and biases are in LLM models. In machine learning models in general, including LLMs, parameters and biases are the learnable variables that the model adjusts during the training process to improve its performance on a given task. Parameters are the weights associated with the connections between neurons in the model\\'s architecture. These weights determine the strength and importance of each connection and are updated during training to minimize the difference between the model\\'s predictions and the expected outputs. Biases, on the other hand, are additional values added to the weighted sum of inputs at each neuron. They help the model learn an offset or shift in the data, allowing for more flexibility in fitting the training data. Together, parameters and biases form the learnable components of the model that are fine-tuned using the training data to improve the model\\'s performance on specific tasks or domains. Understanding parameters and biases is important in the context of RAG because the process of training and fine-tuning LLMs involves adjusting these variables. I mention foundation models, where the initial training involves setting these parameters and biases. However, fine-tuning an LLM by further adjusting its parameters and biases can significantly impact its performance and behavior within a RAG pipeline. By adapting the model to specific domains, writing styles, or tasks, you can improve the accuracy and relevance of the LLM\\'s responses when it is used to generate output based on the retrieved information. This, in turn, can lead to better overall performance of the RAG system in terms of providing more useful and context-appropriate answers to user queries. Therefore, choosing an LLM that is properly fine-tuned for your domain, or applying the fine-tuning yourself, is crucial for optimizing the most important element of your RAG pipeline. Prompting, Prompt Design, Prompt Engineering\\nThese terms are sometimes used interchangeably, but technically, while they all have to do with prompting, they do have fairly different meanings. Prompting is the act of sending a query or “prompt” into an LLM. Prompt design refers to the strategy you take to “design” the prompt you will send to the LLM. There are many different prompt design strategies that work in different scenarios, and we will review many of these in Chapter 13, Utilizing Prompt Engineering to Improve RAG Efforts. We will also review prompt engineering in chapter 13. Prompt engineering focuses more on the technical aspects surrounding the prompt that you use to improve the outputs from the LLM. For example, you may break up a complex query into two or three different LLM interactions, “engineering” it better to achieve superior results. Inference\\nWe will use the term ‘inference’ from time to time. Generally, this refers to the process of the LLM generating outputs or predictions based on given inputs using a pre-trained language model. But a key aspect of inference is that with an LLM, particularly with the cloud-based providers, you are charged based on the inference. Context Window\\nA context window, in the context of LLMs, refers to the maximum number of tokens (words, subwords, or characters) that the model can process as input or generate as output in a single pass. It determines the amount of text the model can \"see\" or \"attend to\" at once when making predictions or generating responses. The context window size is a key parameter of the model architecture and is typically fixed during model training. It directly relates to the input size of the model, as it sets an upper limit on the number of tokens that can be fed into the model at a time. For example, if a model has a context window size of 4,096 tokens, it means that the model can process and generate sequences of up to 4,096 tokens. When processing longer texts, such as documents or conversations, the input needs to be divided into smaller segments that fit within the context window. This is often done using techniques like sliding windows or truncation. The size of the context window has implications for the model\\'s ability to understand and maintain long-range dependencies and context. Models with larger context windows can capture and utilize more contextual information when generating responses, which can lead to more coherent and contextually relevant outputs. However, increasing the context window size also increases the computational resources required to train and run the model. In the context of RAG, the context window size is particularly important because it determines how much information from the retrieved documents can be effectively utilized by the model when generating the final response. Recent advancements in language models have led to the development of models with significantly larger context windows, enabling them to process and retain more information from the retrieved sources. Fine-Tuning in 2 Flavors: Full Model Fine Tuning (FMFT) and Parameter Efficient Fine Tuning (PEFT)\\nFull model fine-tuning (FMFT) is where you take a foundation model and train it further to gain new capabilities. You could simply give it new knowledge for a specific domain, or you could give it a skill, like being a conversational chat-bot. FMFT updates all of the parameters and biases in the model. PEFT is a type of fine-tuning, where you focus only on specific parts of the parameters or biases when you fine-tune the model, but with a similar goal as general fine-tuning. The latest research in this area shows that you can achieve similar results to FMFT with far less cost, time commitment, and data. While this book is not focused on fine-tuning, it is a very valid strategy to try to use a model fine-tuned with your own data to give it more knowledge from your domain or to give it more of “voice” from your domain. For example, you could train it to talk more like a scientist than a generic foundation model, if using this in a scientific field.'), Document(metadata={'source': 'https://kbourne.github.io/chapter1.html'}, page_content='Maintaining this integration over time, especially as data sources evolve or expand, adds even more complexity and cost. Organizations need to invest in technical expertise and infrastructure to effectively leverage RAG capabilities while accounting for the rapid increase in complexities these systems bring with them. Potential for Information Overload: \\nIt is very possible for RAG-based systems to pull in too much information. It is just as important to implement mechanisms to address this issue as it is to handle times when not enough relevant information is found. Determining the relevance and importance of retrieved information to be included in the final output requires sophisticated filtering and ranking mechanisms. Without these, the quality of the generated content could be compromised by an excess of unnecessary or marginally relevant details. RAG Vocabulary#\\nNow is as good a time as any to review some vocabulary that should help you get familiar with the various concepts in RAG. This is not an exhaustive list, but understanding these core concepts should help you understand everything else we teach you about RAG in a more effective way:\\nLarge Language Model (LLM)\\nMost of this book will deal with LLMs. LLMs are generative AI technologies that focus on generating text.')]\n",
            "context of res: [Document(metadata={'source': 'https://kbourne.github.io/chapter1.html'}, page_content='Can you imagine what you could do with all of the benefits mentioned above, but combined with all of the data within your company, about everything your company has ever done, about your customers and all of their interactions, or about all of your products and services combined with a knowledge of what a specific customer’s needs are? You do not have to imagine it, that is what RAG does! Even smaller companies are not able to access much of their internal data resources very effectively. Larger companies are swimming in petabytes of data that is not readily accessible or is not being fully utilized. Prior to RAG, most of the services you saw that connected customers or employees with the data resources of the company were really just scratching the surface of what is possible compared to if they could access ALL of the data in the company. With the advent of RAG and generative AI in general, corporations are on the precipice of something really, really big. Comparing RAG with Model Fine-Tuning#\\nEstablished Large Language Models (LLM), what we call the foundation models, can learn in two ways:\\n Fine-tuning - With fine-tuning, you are adjusting the weights and/or biases that define the model\\'s intelligence based on new training data. This directly impacts the model, permanently changing how it will interact with new inputs. Input/Prompts - This is where you actually \"use\" the model, using the prompt/input to introduce new knowledge that the LLM can act upon. Why not use fine-tuning in all situations?'), Document(metadata={'source': 'https://kbourne.github.io/chapter1.html'}, page_content='Fine-tuning, on the other hand, is more suitable for teaching the model specialized tasks or adapting it to a specific domain. Keep in mind the limitations of context window sizes and the potential for overfitting when fine-tuning on a specific dataset. '), Document(metadata={'source': 'https://kbourne.github.io/chapter1.html'}, page_content='But there are many other skills these foundation models can be fine-tuned for. LLaMA 2 is a foundation model and because it is open source, there are many spin offs that have been fine-tuned for many applications, such as medical research and conversation. Most of the models we talk about are very close to foundation models, but will likely be fine-tuned for at least conversational capabilities. Parameters and Biases\\nWe are trying to keep our focus on RAG primarily in this book, but it will be helpful for you to understand what parameters and biases are in LLM models. In machine learning models in general, including LLMs, parameters and biases are the learnable variables that the model adjusts during the training process to improve its performance on a given task. Parameters are the weights associated with the connections between neurons in the model\\'s architecture. These weights determine the strength and importance of each connection and are updated during training to minimize the difference between the model\\'s predictions and the expected outputs. Biases, on the other hand, are additional values added to the weighted sum of inputs at each neuron. They help the model learn an offset or shift in the data, allowing for more flexibility in fitting the training data. Together, parameters and biases form the learnable components of the model that are fine-tuned using the training data to improve the model\\'s performance on specific tasks or domains. Understanding parameters and biases is important in the context of RAG because the process of training and fine-tuning LLMs involves adjusting these variables. I mention foundation models, where the initial training involves setting these parameters and biases. However, fine-tuning an LLM by further adjusting its parameters and biases can significantly impact its performance and behavior within a RAG pipeline. By adapting the model to specific domains, writing styles, or tasks, you can improve the accuracy and relevance of the LLM\\'s responses when it is used to generate output based on the retrieved information. This, in turn, can lead to better overall performance of the RAG system in terms of providing more useful and context-appropriate answers to user queries. Therefore, choosing an LLM that is properly fine-tuned for your domain, or applying the fine-tuning yourself, is crucial for optimizing the most important element of your RAG pipeline. Prompting, Prompt Design, Prompt Engineering\\nThese terms are sometimes used interchangeably, but technically, while they all have to do with prompting, they do have fairly different meanings. Prompting is the act of sending a query or “prompt” into an LLM. Prompt design refers to the strategy you take to “design” the prompt you will send to the LLM. There are many different prompt design strategies that work in different scenarios, and we will review many of these in Chapter 13, Utilizing Prompt Engineering to Improve RAG Efforts. We will also review prompt engineering in chapter 13. Prompt engineering focuses more on the technical aspects surrounding the prompt that you use to improve the outputs from the LLM. For example, you may break up a complex query into two or three different LLM interactions, “engineering” it better to achieve superior results. Inference\\nWe will use the term ‘inference’ from time to time. Generally, this refers to the process of the LLM generating outputs or predictions based on given inputs using a pre-trained language model. But a key aspect of inference is that with an LLM, particularly with the cloud-based providers, you are charged based on the inference. Context Window\\nA context window, in the context of LLMs, refers to the maximum number of tokens (words, subwords, or characters) that the model can process as input or generate as output in a single pass. It determines the amount of text the model can \"see\" or \"attend to\" at once when making predictions or generating responses. The context window size is a key parameter of the model architecture and is typically fixed during model training. It directly relates to the input size of the model, as it sets an upper limit on the number of tokens that can be fed into the model at a time. For example, if a model has a context window size of 4,096 tokens, it means that the model can process and generate sequences of up to 4,096 tokens. When processing longer texts, such as documents or conversations, the input needs to be divided into smaller segments that fit within the context window. This is often done using techniques like sliding windows or truncation. The size of the context window has implications for the model\\'s ability to understand and maintain long-range dependencies and context. Models with larger context windows can capture and utilize more contextual information when generating responses, which can lead to more coherent and contextually relevant outputs. However, increasing the context window size also increases the computational resources required to train and run the model. In the context of RAG, the context window size is particularly important because it determines how much information from the retrieved documents can be effectively utilized by the model when generating the final response. Recent advancements in language models have led to the development of models with significantly larger context windows, enabling them to process and retain more information from the retrieved sources. Fine-Tuning in 2 Flavors: Full Model Fine Tuning (FMFT) and Parameter Efficient Fine Tuning (PEFT)\\nFull model fine-tuning (FMFT) is where you take a foundation model and train it further to gain new capabilities. You could simply give it new knowledge for a specific domain, or you could give it a skill, like being a conversational chat-bot. FMFT updates all of the parameters and biases in the model. PEFT is a type of fine-tuning, where you focus only on specific parts of the parameters or biases when you fine-tune the model, but with a similar goal as general fine-tuning. The latest research in this area shows that you can achieve similar results to FMFT with far less cost, time commitment, and data. While this book is not focused on fine-tuning, it is a very valid strategy to try to use a model fine-tuned with your own data to give it more knowledge from your domain or to give it more of “voice” from your domain. For example, you could train it to talk more like a scientist than a generic foundation model, if using this in a scientific field.'), Document(metadata={'source': 'https://kbourne.github.io/chapter1.html'}, page_content='Maintaining this integration over time, especially as data sources evolve or expand, adds even more complexity and cost. Organizations need to invest in technical expertise and infrastructure to effectively leverage RAG capabilities while accounting for the rapid increase in complexities these systems bring with them. Potential for Information Overload: \\nIt is very possible for RAG-based systems to pull in too much information. It is just as important to implement mechanisms to address this issue as it is to handle times when not enough relevant information is found. Determining the relevance and importance of retrieved information to be included in the final output requires sophisticated filtering and ranking mechanisms. Without these, the quality of the generated content could be compromised by an excess of unnecessary or marginally relevant details. RAG Vocabulary#\\nNow is as good a time as any to review some vocabulary that should help you get familiar with the various concepts in RAG. This is not an exhaustive list, but understanding these core concepts should help you understand everything else we teach you about RAG in a more effective way:\\nLarge Language Model (LLM)\\nMost of this book will deal with LLMs. LLMs are generative AI technologies that focus on generating text.')]\n",
            "question of res: How dose RAG compare with fine-tuning\n",
            "task from docs for input: {'context': [Document(metadata={'source': 'https://kbourne.github.io/chapter1.html'}, page_content='Can you imagine what you could do with all of the benefits mentioned above, but combined with all of the data within your company, about everything your company has ever done, about your customers and all of their interactions, or about all of your products and services combined with a knowledge of what a specific customer’s needs are? You do not have to imagine it, that is what RAG does! Even smaller companies are not able to access much of their internal data resources very effectively. Larger companies are swimming in petabytes of data that is not readily accessible or is not being fully utilized. Prior to RAG, most of the services you saw that connected customers or employees with the data resources of the company were really just scratching the surface of what is possible compared to if they could access ALL of the data in the company. With the advent of RAG and generative AI in general, corporations are on the precipice of something really, really big. Comparing RAG with Model Fine-Tuning#\\nEstablished Large Language Models (LLM), what we call the foundation models, can learn in two ways:\\n Fine-tuning - With fine-tuning, you are adjusting the weights and/or biases that define the model\\'s intelligence based on new training data. This directly impacts the model, permanently changing how it will interact with new inputs. Input/Prompts - This is where you actually \"use\" the model, using the prompt/input to introduce new knowledge that the LLM can act upon. Why not use fine-tuning in all situations?'), Document(metadata={'source': 'https://kbourne.github.io/chapter1.html'}, page_content='Fine-tuning, on the other hand, is more suitable for teaching the model specialized tasks or adapting it to a specific domain. Keep in mind the limitations of context window sizes and the potential for overfitting when fine-tuning on a specific dataset. '), Document(metadata={'source': 'https://kbourne.github.io/chapter1.html'}, page_content='But there are many other skills these foundation models can be fine-tuned for. LLaMA 2 is a foundation model and because it is open source, there are many spin offs that have been fine-tuned for many applications, such as medical research and conversation. Most of the models we talk about are very close to foundation models, but will likely be fine-tuned for at least conversational capabilities. Parameters and Biases\\nWe are trying to keep our focus on RAG primarily in this book, but it will be helpful for you to understand what parameters and biases are in LLM models. In machine learning models in general, including LLMs, parameters and biases are the learnable variables that the model adjusts during the training process to improve its performance on a given task. Parameters are the weights associated with the connections between neurons in the model\\'s architecture. These weights determine the strength and importance of each connection and are updated during training to minimize the difference between the model\\'s predictions and the expected outputs. Biases, on the other hand, are additional values added to the weighted sum of inputs at each neuron. They help the model learn an offset or shift in the data, allowing for more flexibility in fitting the training data. Together, parameters and biases form the learnable components of the model that are fine-tuned using the training data to improve the model\\'s performance on specific tasks or domains. Understanding parameters and biases is important in the context of RAG because the process of training and fine-tuning LLMs involves adjusting these variables. I mention foundation models, where the initial training involves setting these parameters and biases. However, fine-tuning an LLM by further adjusting its parameters and biases can significantly impact its performance and behavior within a RAG pipeline. By adapting the model to specific domains, writing styles, or tasks, you can improve the accuracy and relevance of the LLM\\'s responses when it is used to generate output based on the retrieved information. This, in turn, can lead to better overall performance of the RAG system in terms of providing more useful and context-appropriate answers to user queries. Therefore, choosing an LLM that is properly fine-tuned for your domain, or applying the fine-tuning yourself, is crucial for optimizing the most important element of your RAG pipeline. Prompting, Prompt Design, Prompt Engineering\\nThese terms are sometimes used interchangeably, but technically, while they all have to do with prompting, they do have fairly different meanings. Prompting is the act of sending a query or “prompt” into an LLM. Prompt design refers to the strategy you take to “design” the prompt you will send to the LLM. There are many different prompt design strategies that work in different scenarios, and we will review many of these in Chapter 13, Utilizing Prompt Engineering to Improve RAG Efforts. We will also review prompt engineering in chapter 13. Prompt engineering focuses more on the technical aspects surrounding the prompt that you use to improve the outputs from the LLM. For example, you may break up a complex query into two or three different LLM interactions, “engineering” it better to achieve superior results. Inference\\nWe will use the term ‘inference’ from time to time. Generally, this refers to the process of the LLM generating outputs or predictions based on given inputs using a pre-trained language model. But a key aspect of inference is that with an LLM, particularly with the cloud-based providers, you are charged based on the inference. Context Window\\nA context window, in the context of LLMs, refers to the maximum number of tokens (words, subwords, or characters) that the model can process as input or generate as output in a single pass. It determines the amount of text the model can \"see\" or \"attend to\" at once when making predictions or generating responses. The context window size is a key parameter of the model architecture and is typically fixed during model training. It directly relates to the input size of the model, as it sets an upper limit on the number of tokens that can be fed into the model at a time. For example, if a model has a context window size of 4,096 tokens, it means that the model can process and generate sequences of up to 4,096 tokens. When processing longer texts, such as documents or conversations, the input needs to be divided into smaller segments that fit within the context window. This is often done using techniques like sliding windows or truncation. The size of the context window has implications for the model\\'s ability to understand and maintain long-range dependencies and context. Models with larger context windows can capture and utilize more contextual information when generating responses, which can lead to more coherent and contextually relevant outputs. However, increasing the context window size also increases the computational resources required to train and run the model. In the context of RAG, the context window size is particularly important because it determines how much information from the retrieved documents can be effectively utilized by the model when generating the final response. Recent advancements in language models have led to the development of models with significantly larger context windows, enabling them to process and retain more information from the retrieved sources. Fine-Tuning in 2 Flavors: Full Model Fine Tuning (FMFT) and Parameter Efficient Fine Tuning (PEFT)\\nFull model fine-tuning (FMFT) is where you take a foundation model and train it further to gain new capabilities. You could simply give it new knowledge for a specific domain, or you could give it a skill, like being a conversational chat-bot. FMFT updates all of the parameters and biases in the model. PEFT is a type of fine-tuning, where you focus only on specific parts of the parameters or biases when you fine-tune the model, but with a similar goal as general fine-tuning. The latest research in this area shows that you can achieve similar results to FMFT with far less cost, time commitment, and data. While this book is not focused on fine-tuning, it is a very valid strategy to try to use a model fine-tuned with your own data to give it more knowledge from your domain or to give it more of “voice” from your domain. For example, you could train it to talk more like a scientist than a generic foundation model, if using this in a scientific field.'), Document(metadata={'source': 'https://kbourne.github.io/chapter1.html'}, page_content='Maintaining this integration over time, especially as data sources evolve or expand, adds even more complexity and cost. Organizations need to invest in technical expertise and infrastructure to effectively leverage RAG capabilities while accounting for the rapid increase in complexities these systems bring with them. Potential for Information Overload: \\nIt is very possible for RAG-based systems to pull in too much information. It is just as important to implement mechanisms to address this issue as it is to handle times when not enough relevant information is found. Determining the relevance and importance of retrieved information to be included in the final output requires sophisticated filtering and ranking mechanisms. Without these, the quality of the generated content could be compromised by an excess of unnecessary or marginally relevant details. RAG Vocabulary#\\nNow is as good a time as any to review some vocabulary that should help you get familiar with the various concepts in RAG. This is not an exhaustive list, but understanding these core concepts should help you understand everything else we teach you about RAG in a more effective way:\\nLarge Language Model (LLM)\\nMost of this book will deal with LLMs. LLMs are generative AI technologies that focus on generating text.')], 'question': 'How dose RAG compare with fine-tuning'}\n",
            "input['context']: [Document(metadata={'source': 'https://kbourne.github.io/chapter1.html'}, page_content='Can you imagine what you could do with all of the benefits mentioned above, but combined with all of the data within your company, about everything your company has ever done, about your customers and all of their interactions, or about all of your products and services combined with a knowledge of what a specific customer’s needs are? You do not have to imagine it, that is what RAG does! Even smaller companies are not able to access much of their internal data resources very effectively. Larger companies are swimming in petabytes of data that is not readily accessible or is not being fully utilized. Prior to RAG, most of the services you saw that connected customers or employees with the data resources of the company were really just scratching the surface of what is possible compared to if they could access ALL of the data in the company. With the advent of RAG and generative AI in general, corporations are on the precipice of something really, really big. Comparing RAG with Model Fine-Tuning#\\nEstablished Large Language Models (LLM), what we call the foundation models, can learn in two ways:\\n Fine-tuning - With fine-tuning, you are adjusting the weights and/or biases that define the model\\'s intelligence based on new training data. This directly impacts the model, permanently changing how it will interact with new inputs. Input/Prompts - This is where you actually \"use\" the model, using the prompt/input to introduce new knowledge that the LLM can act upon. Why not use fine-tuning in all situations?'), Document(metadata={'source': 'https://kbourne.github.io/chapter1.html'}, page_content='Fine-tuning, on the other hand, is more suitable for teaching the model specialized tasks or adapting it to a specific domain. Keep in mind the limitations of context window sizes and the potential for overfitting when fine-tuning on a specific dataset. '), Document(metadata={'source': 'https://kbourne.github.io/chapter1.html'}, page_content='But there are many other skills these foundation models can be fine-tuned for. LLaMA 2 is a foundation model and because it is open source, there are many spin offs that have been fine-tuned for many applications, such as medical research and conversation. Most of the models we talk about are very close to foundation models, but will likely be fine-tuned for at least conversational capabilities. Parameters and Biases\\nWe are trying to keep our focus on RAG primarily in this book, but it will be helpful for you to understand what parameters and biases are in LLM models. In machine learning models in general, including LLMs, parameters and biases are the learnable variables that the model adjusts during the training process to improve its performance on a given task. Parameters are the weights associated with the connections between neurons in the model\\'s architecture. These weights determine the strength and importance of each connection and are updated during training to minimize the difference between the model\\'s predictions and the expected outputs. Biases, on the other hand, are additional values added to the weighted sum of inputs at each neuron. They help the model learn an offset or shift in the data, allowing for more flexibility in fitting the training data. Together, parameters and biases form the learnable components of the model that are fine-tuned using the training data to improve the model\\'s performance on specific tasks or domains. Understanding parameters and biases is important in the context of RAG because the process of training and fine-tuning LLMs involves adjusting these variables. I mention foundation models, where the initial training involves setting these parameters and biases. However, fine-tuning an LLM by further adjusting its parameters and biases can significantly impact its performance and behavior within a RAG pipeline. By adapting the model to specific domains, writing styles, or tasks, you can improve the accuracy and relevance of the LLM\\'s responses when it is used to generate output based on the retrieved information. This, in turn, can lead to better overall performance of the RAG system in terms of providing more useful and context-appropriate answers to user queries. Therefore, choosing an LLM that is properly fine-tuned for your domain, or applying the fine-tuning yourself, is crucial for optimizing the most important element of your RAG pipeline. Prompting, Prompt Design, Prompt Engineering\\nThese terms are sometimes used interchangeably, but technically, while they all have to do with prompting, they do have fairly different meanings. Prompting is the act of sending a query or “prompt” into an LLM. Prompt design refers to the strategy you take to “design” the prompt you will send to the LLM. There are many different prompt design strategies that work in different scenarios, and we will review many of these in Chapter 13, Utilizing Prompt Engineering to Improve RAG Efforts. We will also review prompt engineering in chapter 13. Prompt engineering focuses more on the technical aspects surrounding the prompt that you use to improve the outputs from the LLM. For example, you may break up a complex query into two or three different LLM interactions, “engineering” it better to achieve superior results. Inference\\nWe will use the term ‘inference’ from time to time. Generally, this refers to the process of the LLM generating outputs or predictions based on given inputs using a pre-trained language model. But a key aspect of inference is that with an LLM, particularly with the cloud-based providers, you are charged based on the inference. Context Window\\nA context window, in the context of LLMs, refers to the maximum number of tokens (words, subwords, or characters) that the model can process as input or generate as output in a single pass. It determines the amount of text the model can \"see\" or \"attend to\" at once when making predictions or generating responses. The context window size is a key parameter of the model architecture and is typically fixed during model training. It directly relates to the input size of the model, as it sets an upper limit on the number of tokens that can be fed into the model at a time. For example, if a model has a context window size of 4,096 tokens, it means that the model can process and generate sequences of up to 4,096 tokens. When processing longer texts, such as documents or conversations, the input needs to be divided into smaller segments that fit within the context window. This is often done using techniques like sliding windows or truncation. The size of the context window has implications for the model\\'s ability to understand and maintain long-range dependencies and context. Models with larger context windows can capture and utilize more contextual information when generating responses, which can lead to more coherent and contextually relevant outputs. However, increasing the context window size also increases the computational resources required to train and run the model. In the context of RAG, the context window size is particularly important because it determines how much information from the retrieved documents can be effectively utilized by the model when generating the final response. Recent advancements in language models have led to the development of models with significantly larger context windows, enabling them to process and retain more information from the retrieved sources. Fine-Tuning in 2 Flavors: Full Model Fine Tuning (FMFT) and Parameter Efficient Fine Tuning (PEFT)\\nFull model fine-tuning (FMFT) is where you take a foundation model and train it further to gain new capabilities. You could simply give it new knowledge for a specific domain, or you could give it a skill, like being a conversational chat-bot. FMFT updates all of the parameters and biases in the model. PEFT is a type of fine-tuning, where you focus only on specific parts of the parameters or biases when you fine-tune the model, but with a similar goal as general fine-tuning. The latest research in this area shows that you can achieve similar results to FMFT with far less cost, time commitment, and data. While this book is not focused on fine-tuning, it is a very valid strategy to try to use a model fine-tuned with your own data to give it more knowledge from your domain or to give it more of “voice” from your domain. For example, you could train it to talk more like a scientist than a generic foundation model, if using this in a scientific field.'), Document(metadata={'source': 'https://kbourne.github.io/chapter1.html'}, page_content='Maintaining this integration over time, especially as data sources evolve or expand, adds even more complexity and cost. Organizations need to invest in technical expertise and infrastructure to effectively leverage RAG capabilities while accounting for the rapid increase in complexities these systems bring with them. Potential for Information Overload: \\nIt is very possible for RAG-based systems to pull in too much information. It is just as important to implement mechanisms to address this issue as it is to handle times when not enough relevant information is found. Determining the relevance and importance of retrieved information to be included in the final output requires sophisticated filtering and ranking mechanisms. Without these, the quality of the generated content could be compromised by an excess of unnecessary or marginally relevant details. RAG Vocabulary#\\nNow is as good a time as any to review some vocabulary that should help you get familiar with the various concepts in RAG. This is not an exhaustive list, but understanding these core concepts should help you understand everything else we teach you about RAG in a more effective way:\\nLarge Language Model (LLM)\\nMost of this book will deal with LLMs. LLMs are generative AI technologies that focus on generating text.')]\n",
            "RAG (Retrieval-Augmented Generation) and fine-tuning are two different approaches to enhancing the capabilities of large language models (LLMs). \n",
            "\n",
            "RAG combines the strengths of generative AI with the ability to access and utilize vast amounts of external data, allowing models to generate responses based on both the model's pre-existing knowledge and the retrieved information from a database or knowledge source. This approach is particularly beneficial for organizations with extensive internal data that can be leveraged to provide more relevant and context-aware answers.\n",
            "\n",
            "On the other hand, fine-tuning involves adjusting the weights and biases of a foundation model based on new training data. This process permanently alters the model's behavior and is more suited for teaching the model specialized tasks or adapting it to specific domains. Fine-tuning can lead to improved performance on particular tasks but may also come with challenges such as overfitting and limitations related to context window sizes.\n",
            "\n",
            "In summary, RAG focuses on integrating external data for enhanced response generation, while fine-tuning is about modifying the model itself to better suit specific tasks or domains. Both methods have their advantages and can be used in complementary ways to optimize the performance of LLMs.\n"
          ]
        }
      ]
    }
  ]
}